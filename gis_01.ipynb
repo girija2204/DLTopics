{
  "nbformat": 4,
  "nbformat_minor": 0,
  "metadata": {
    "colab": {
      "name": "gis_01.ipynb",
      "provenance": [],
      "authorship_tag": "ABX9TyMbAqDZlEa3upilVpEQnQij",
      "include_colab_link": true
    },
    "kernelspec": {
      "name": "python3",
      "display_name": "Python 3"
    }
  },
  "cells": [
    {
      "cell_type": "markdown",
      "metadata": {
        "id": "view-in-github",
        "colab_type": "text"
      },
      "source": [
        "<a href=\"https://colab.research.google.com/github/girija2204/DLTopics/blob/master/gis_01.ipynb\" target=\"_parent\"><img src=\"https://colab.research.google.com/assets/colab-badge.svg\" alt=\"Open In Colab\"/></a>"
      ]
    },
    {
      "cell_type": "code",
      "metadata": {
        "id": "uOhHwuBm7UrW",
        "colab_type": "code",
        "colab": {}
      },
      "source": [
        "!pip install arcgis\n",
        "!pip install geopandas\n",
        "!apt-get install -y libspatialindex-dev\n",
        "!pip install rtree"
      ],
      "execution_count": null,
      "outputs": []
    },
    {
      "cell_type": "code",
      "metadata": {
        "id": "3SsrDWhzN8dH",
        "colab_type": "code",
        "colab": {
          "base_uri": "https://localhost:8080/",
          "height": 34
        },
        "outputId": "0def6251-53bf-4619-c6c0-9ba490a590df"
      },
      "source": [
        "from google.colab import drive\n",
        "drive.mount('/content/gdrive') # connects Colab to your Google Drive\n",
        "root_path = '/content/gdrive/My Drive/Colab Notebooks' #"
      ],
      "execution_count": 33,
      "outputs": [
        {
          "output_type": "stream",
          "text": [
            "Drive already mounted at /content/gdrive; to attempt to forcibly remount, call drive.mount(\"/content/gdrive\", force_remount=True).\n"
          ],
          "name": "stdout"
        }
      ]
    },
    {
      "cell_type": "code",
      "metadata": {
        "id": "Y_-aPa-YOcBr",
        "colab_type": "code",
        "colab": {}
      },
      "source": [
        "import pandas as pd\n",
        "import geopandas as gpd\n",
        "from shapely.geometry import Polygon, Point, MultiPolygon"
      ],
      "execution_count": 41,
      "outputs": []
    },
    {
      "cell_type": "code",
      "metadata": {
        "id": "75_pAn2ROmZa",
        "colab_type": "code",
        "colab": {}
      },
      "source": [
        "puds_file = gpd.read_file(root_path+\"/Planned_Unit_Development__PUDs_-shp/Planned_Unit_Development__PUDs_.shp\")\n",
        "housing = pd.read_csv(root_path+\"/Affordable_Housing.csv\")\n",
        "crosswalk = pd.read_csv(root_path+\"/zoning_crosswalk.csv\")"
      ],
      "execution_count": 50,
      "outputs": []
    },
    {
      "cell_type": "code",
      "metadata": {
        "id": "MeeSNmHbPMhe",
        "colab_type": "code",
        "colab": {
          "base_uri": "https://localhost:8080/",
          "height": 202
        },
        "outputId": "e522be1d-4fd5-408e-f191-1f03663466b0"
      },
      "source": [
        "puds_file.sample(5)"
      ],
      "execution_count": 36,
      "outputs": [
        {
          "output_type": "execute_result",
          "data": {
            "text/html": [
              "<div>\n",
              "<style scoped>\n",
              "    .dataframe tbody tr th:only-of-type {\n",
              "        vertical-align: middle;\n",
              "    }\n",
              "\n",
              "    .dataframe tbody tr th {\n",
              "        vertical-align: top;\n",
              "    }\n",
              "\n",
              "    .dataframe thead th {\n",
              "        text-align: right;\n",
              "    }\n",
              "</style>\n",
              "<table border=\"1\" class=\"dataframe\">\n",
              "  <thead>\n",
              "    <tr style=\"text-align: right;\">\n",
              "      <th></th>\n",
              "      <th>OBJECTID</th>\n",
              "      <th>PUD_NAME</th>\n",
              "      <th>PUD_WEB_UR</th>\n",
              "      <th>PUD_CHANGE</th>\n",
              "      <th>PUD_ZONING</th>\n",
              "      <th>PUD_STATUS</th>\n",
              "      <th>PUD_CASE_N</th>\n",
              "      <th>GLOBALID</th>\n",
              "      <th>WARD</th>\n",
              "      <th>SHAPEAREA</th>\n",
              "      <th>SHAPELEN</th>\n",
              "      <th>geometry</th>\n",
              "    </tr>\n",
              "  </thead>\n",
              "  <tbody>\n",
              "    <tr>\n",
              "      <th>43</th>\n",
              "      <td>125074</td>\n",
              "      <td>Carr Properties OC LLC</td>\n",
              "      <td>https://app.dcoz.dc.gov/Content/Search/ViewCas...</td>\n",
              "      <td>Setdown 01/13/20</td>\n",
              "      <td>None</td>\n",
              "      <td>Pending</td>\n",
              "      <td>15-27B</td>\n",
              "      <td>{E2C59557-E556-48AA-B81B-CF315D0B24E6}</td>\n",
              "      <td>Ward 5</td>\n",
              "      <td>0</td>\n",
              "      <td>0</td>\n",
              "      <td>POLYGON ((-77.00092 38.90840, -77.00050 38.909...</td>\n",
              "    </tr>\n",
              "    <tr>\n",
              "      <th>57</th>\n",
              "      <td>124994</td>\n",
              "      <td>Professional Associates and International Fina...</td>\n",
              "      <td>https://app.dcoz.dc.gov/Content/Search/ViewCas...</td>\n",
              "      <td>Case # 14-04 Set Down 4/15/14, Approved 12/5/14</td>\n",
              "      <td>None</td>\n",
              "      <td>Final</td>\n",
              "      <td>14-04A</td>\n",
              "      <td>{827DDAEB-B290-4DC3-A53D-C542E581EB99}</td>\n",
              "      <td>Ward 2</td>\n",
              "      <td>0</td>\n",
              "      <td>0</td>\n",
              "      <td>POLYGON ((-77.04867 38.90234, -77.04725 38.902...</td>\n",
              "    </tr>\n",
              "    <tr>\n",
              "      <th>102</th>\n",
              "      <td>124863</td>\n",
              "      <td>5401 Western Avenue</td>\n",
              "      <td>https://app.dcoz.dc.gov/Content/Search/ViewCas...</td>\n",
              "      <td>Official Digital Zoning Map of July 1, 2010</td>\n",
              "      <td>R-5-C</td>\n",
              "      <td>Final</td>\n",
              "      <td>04-06</td>\n",
              "      <td>{0768FC5B-3D36-47EF-B0CD-64AB2FCFA1F8}</td>\n",
              "      <td>Ward 3</td>\n",
              "      <td>0</td>\n",
              "      <td>0</td>\n",
              "      <td>POLYGON ((-77.08378 38.96116, -77.08495 38.961...</td>\n",
              "    </tr>\n",
              "    <tr>\n",
              "      <th>81</th>\n",
              "      <td>125018</td>\n",
              "      <td>1309 E Street LLC</td>\n",
              "      <td>https://app.dcoz.dc.gov/Content/Search/ViewCas...</td>\n",
              "      <td>MC of Consolidated PUD Approved 11/18/19 DC Re...</td>\n",
              "      <td>R-5-B</td>\n",
              "      <td>Final</td>\n",
              "      <td>15-13C</td>\n",
              "      <td>{DB4F10B0-BF2B-44CD-AE1E-0806B8CDEC68}</td>\n",
              "      <td>Ward 6</td>\n",
              "      <td>0</td>\n",
              "      <td>0</td>\n",
              "      <td>POLYGON ((-76.98789 38.88272, -76.98769 38.882...</td>\n",
              "    </tr>\n",
              "    <tr>\n",
              "      <th>92</th>\n",
              "      <td>125023</td>\n",
              "      <td>Gallaudet University &amp; The JBG Companies</td>\n",
              "      <td>https://app.dcoz.dc.gov/Content/Search/ViewCas...</td>\n",
              "      <td>Setdown 2/8/16</td>\n",
              "      <td>C-3-A, C-3-C</td>\n",
              "      <td>Final</td>\n",
              "      <td>15-24</td>\n",
              "      <td>{9BFBBE70-42CC-4298-BE0D-793E660D10CD}</td>\n",
              "      <td>Ward 5</td>\n",
              "      <td>0</td>\n",
              "      <td>0</td>\n",
              "      <td>MULTIPOLYGON (((-76.99695 38.90710, -76.99766 ...</td>\n",
              "    </tr>\n",
              "  </tbody>\n",
              "</table>\n",
              "</div>"
            ],
            "text/plain": [
              "     OBJECTID  ...                                           geometry\n",
              "43     125074  ...  POLYGON ((-77.00092 38.90840, -77.00050 38.909...\n",
              "57     124994  ...  POLYGON ((-77.04867 38.90234, -77.04725 38.902...\n",
              "102    124863  ...  POLYGON ((-77.08378 38.96116, -77.08495 38.961...\n",
              "81     125018  ...  POLYGON ((-76.98789 38.88272, -76.98769 38.882...\n",
              "92     125023  ...  MULTIPOLYGON (((-76.99695 38.90710, -76.99766 ...\n",
              "\n",
              "[5 rows x 12 columns]"
            ]
          },
          "metadata": {
            "tags": []
          },
          "execution_count": 36
        }
      ]
    },
    {
      "cell_type": "code",
      "metadata": {
        "id": "Kr-JhHUMZiz0",
        "colab_type": "code",
        "colab": {
          "base_uri": "https://localhost:8080/",
          "height": 517
        },
        "outputId": "9cfa8d1b-e49c-45ac-a088-b5943e5f620e"
      },
      "source": [
        "housing.sample(5)"
      ],
      "execution_count": 38,
      "outputs": [
        {
          "output_type": "execute_result",
          "data": {
            "text/html": [
              "<div>\n",
              "<style scoped>\n",
              "    .dataframe tbody tr th:only-of-type {\n",
              "        vertical-align: middle;\n",
              "    }\n",
              "\n",
              "    .dataframe tbody tr th {\n",
              "        vertical-align: top;\n",
              "    }\n",
              "\n",
              "    .dataframe thead th {\n",
              "        text-align: right;\n",
              "    }\n",
              "</style>\n",
              "<table border=\"1\" class=\"dataframe\">\n",
              "  <thead>\n",
              "    <tr style=\"text-align: right;\">\n",
              "      <th></th>\n",
              "      <th>X</th>\n",
              "      <th>Y</th>\n",
              "      <th>OBJECTID</th>\n",
              "      <th>MAR_WARD</th>\n",
              "      <th>ADDRESS</th>\n",
              "      <th>PROJECT_NAME</th>\n",
              "      <th>STATUS_PUBLIC</th>\n",
              "      <th>AGENCY_CALCULATED</th>\n",
              "      <th>TOTAL_AFFORDABLE_UNITS</th>\n",
              "      <th>LATITUDE</th>\n",
              "      <th>LONGITUDE</th>\n",
              "      <th>AFFORDABLE_UNITS_AT_0_30_AMI</th>\n",
              "      <th>AFFORDABLE_UNITS_AT_31_50_AMI</th>\n",
              "      <th>AFFORDABLE_UNITS_AT_51_60_AMI</th>\n",
              "      <th>AFFORDABLE_UNITS_AT_61_80_AMI</th>\n",
              "      <th>AFFORDABLE_UNITS_AT_81_AMI</th>\n",
              "      <th>CASE_ID</th>\n",
              "      <th>ADDRESS_ID</th>\n",
              "      <th>XCOORD</th>\n",
              "      <th>YCOORD</th>\n",
              "      <th>FULLADDRESS</th>\n",
              "      <th>GIS_LAST_MOD_DTTM</th>\n",
              "    </tr>\n",
              "  </thead>\n",
              "  <tbody>\n",
              "    <tr>\n",
              "      <th>108</th>\n",
              "      <td>-77.016302</td>\n",
              "      <td>38.872298</td>\n",
              "      <td>94</td>\n",
              "      <td>Ward 6</td>\n",
              "      <td>325 P Street Southwest, Washington, District o...</td>\n",
              "      <td>Channel Square</td>\n",
              "      <td>Completed 2015 to Date</td>\n",
              "      <td>DHCD</td>\n",
              "      <td>60</td>\n",
              "      <td>38.872243</td>\n",
              "      <td>-77.016278</td>\n",
              "      <td>0</td>\n",
              "      <td>0</td>\n",
              "      <td>30</td>\n",
              "      <td>30</td>\n",
              "      <td>0</td>\n",
              "      <td>NaN</td>\n",
              "      <td>276559.0</td>\n",
              "      <td>398585.56</td>\n",
              "      <td>133829.44</td>\n",
              "      <td>325 P STREET SW</td>\n",
              "      <td>2020/07/27 04:00:50+00</td>\n",
              "    </tr>\n",
              "    <tr>\n",
              "      <th>81</th>\n",
              "      <td>-77.031590</td>\n",
              "      <td>38.916470</td>\n",
              "      <td>434</td>\n",
              "      <td>Ward 1</td>\n",
              "      <td>1925 14th St NW, Washington, District of Colum...</td>\n",
              "      <td>Elysium Fourteen (1925 14th Street, NW)</td>\n",
              "      <td>Completed 2015 to Date</td>\n",
              "      <td>DHCD</td>\n",
              "      <td>4</td>\n",
              "      <td>38.916463</td>\n",
              "      <td>-77.031588</td>\n",
              "      <td>0</td>\n",
              "      <td>0</td>\n",
              "      <td>0</td>\n",
              "      <td>4</td>\n",
              "      <td>0</td>\n",
              "      <td>NaN</td>\n",
              "      <td>302229.0</td>\n",
              "      <td>397260.60</td>\n",
              "      <td>138733.21</td>\n",
              "      <td>1925 14TH STREET NW</td>\n",
              "      <td>2020/07/27 04:00:50+00</td>\n",
              "    </tr>\n",
              "    <tr>\n",
              "      <th>110</th>\n",
              "      <td>-77.033138</td>\n",
              "      <td>38.960607</td>\n",
              "      <td>101</td>\n",
              "      <td>Ward 4</td>\n",
              "      <td>5807 14th St NW, Washington, District of Colum...</td>\n",
              "      <td>Concord Apartments</td>\n",
              "      <td>Completed 2015 to Date</td>\n",
              "      <td>DHCD</td>\n",
              "      <td>78</td>\n",
              "      <td>38.960599</td>\n",
              "      <td>-77.033135</td>\n",
              "      <td>0</td>\n",
              "      <td>0</td>\n",
              "      <td>78</td>\n",
              "      <td>0</td>\n",
              "      <td>0</td>\n",
              "      <td>NaN</td>\n",
              "      <td>285270.0</td>\n",
              "      <td>397128.16</td>\n",
              "      <td>143632.83</td>\n",
              "      <td>5807 14TH STREET NW</td>\n",
              "      <td>2020/07/27 04:00:50+00</td>\n",
              "    </tr>\n",
              "    <tr>\n",
              "      <th>309</th>\n",
              "      <td>-77.001442</td>\n",
              "      <td>38.869647</td>\n",
              "      <td>1271</td>\n",
              "      <td>Ward 8</td>\n",
              "      <td>NaN</td>\n",
              "      <td>Howard Road / Poplar Point  Stage 1</td>\n",
              "      <td>Pipeline</td>\n",
              "      <td>OP</td>\n",
              "      <td>70</td>\n",
              "      <td>NaN</td>\n",
              "      <td>NaN</td>\n",
              "      <td>0</td>\n",
              "      <td>0</td>\n",
              "      <td>70</td>\n",
              "      <td>0</td>\n",
              "      <td>0</td>\n",
              "      <td>16-29</td>\n",
              "      <td>312964.0</td>\n",
              "      <td>399875.08</td>\n",
              "      <td>133535.02</td>\n",
              "      <td>NaN</td>\n",
              "      <td>2020/07/27 04:00:50+00</td>\n",
              "    </tr>\n",
              "    <tr>\n",
              "      <th>339</th>\n",
              "      <td>-76.980139</td>\n",
              "      <td>38.927953</td>\n",
              "      <td>1398</td>\n",
              "      <td>Ward 5</td>\n",
              "      <td>1715 Hamlin Street NE, Washington, District of...</td>\n",
              "      <td>Hamlin Street Apartments</td>\n",
              "      <td>Completed 2015 to Date</td>\n",
              "      <td>DHCD</td>\n",
              "      <td>2</td>\n",
              "      <td>38.927946</td>\n",
              "      <td>-76.980136</td>\n",
              "      <td>0</td>\n",
              "      <td>1</td>\n",
              "      <td>0</td>\n",
              "      <td>1</td>\n",
              "      <td>0</td>\n",
              "      <td>NaN</td>\n",
              "      <td>57406.0</td>\n",
              "      <td>401722.38</td>\n",
              "      <td>140007.67</td>\n",
              "      <td>1715 HAMLIN STREET NE</td>\n",
              "      <td>2020/07/27 04:00:50+00</td>\n",
              "    </tr>\n",
              "  </tbody>\n",
              "</table>\n",
              "</div>"
            ],
            "text/plain": [
              "             X          Y  ...            FULLADDRESS       GIS_LAST_MOD_DTTM\n",
              "108 -77.016302  38.872298  ...        325 P STREET SW  2020/07/27 04:00:50+00\n",
              "81  -77.031590  38.916470  ...    1925 14TH STREET NW  2020/07/27 04:00:50+00\n",
              "110 -77.033138  38.960607  ...    5807 14TH STREET NW  2020/07/27 04:00:50+00\n",
              "309 -77.001442  38.869647  ...                    NaN  2020/07/27 04:00:50+00\n",
              "339 -76.980139  38.927953  ...  1715 HAMLIN STREET NE  2020/07/27 04:00:50+00\n",
              "\n",
              "[5 rows x 22 columns]"
            ]
          },
          "metadata": {
            "tags": []
          },
          "execution_count": 38
        }
      ]
    },
    {
      "cell_type": "code",
      "metadata": {
        "id": "937glG-5ZweS",
        "colab_type": "code",
        "colab": {
          "base_uri": "https://localhost:8080/",
          "height": 72
        },
        "outputId": "861f0663-9f46-4cd0-8612-ff238cfdf675"
      },
      "source": [
        "housing['geometry'] = housing.apply(lambda row: Point(row.X, row.Y),axis = 1)\n",
        "housing_geodf = gpd.GeoDataFrame(housing, crs={'init' :'epsg:4326'})"
      ],
      "execution_count": 46,
      "outputs": [
        {
          "output_type": "stream",
          "text": [
            "/usr/local/lib/python3.6/dist-packages/pyproj/crs/crs.py:53: FutureWarning: '+init=<authority>:<code>' syntax is deprecated. '<authority>:<code>' is the preferred initialization method. When making the change, be mindful of axis order changes: https://pyproj4.github.io/pyproj/stable/gotchas.html#axis-order-changes-in-proj-6\n",
            "  return _prepare_from_string(\" \".join(pjargs))\n"
          ],
          "name": "stderr"
        }
      ]
    },
    {
      "cell_type": "code",
      "metadata": {
        "id": "S-TE3j8AbpaV",
        "colab_type": "code",
        "colab": {
          "base_uri": "https://localhost:8080/",
          "height": 138
        },
        "outputId": "97568215-6477-47ba-b64f-f2fcf23b23fc"
      },
      "source": [
        "puds_housing = gpd.sjoin(puds_file,housing_geodf,how='left',op='intersects')"
      ],
      "execution_count": 47,
      "outputs": [
        {
          "output_type": "stream",
          "text": [
            "/usr/local/lib/python3.6/dist-packages/ipykernel_launcher.py:1: UserWarning: CRS mismatch between the CRS of left geometries and the CRS of right geometries.\n",
            "Use `to_crs()` to reproject one of the input geometries to match the CRS of the other.\n",
            "\n",
            "Left CRS: EPSG:4326\n",
            "Right CRS: +init=epsg:4326 +type=crs\n",
            "\n",
            "  \"\"\"Entry point for launching an IPython kernel.\n"
          ],
          "name": "stderr"
        }
      ]
    },
    {
      "cell_type": "code",
      "metadata": {
        "id": "50qk0TJDcQ6B",
        "colab_type": "code",
        "colab": {
          "base_uri": "https://localhost:8080/",
          "height": 745
        },
        "outputId": "78abac7b-698b-4412-dcaf-4f22ce5f9e1d"
      },
      "source": [
        "puds_housing.info()"
      ],
      "execution_count": 48,
      "outputs": [
        {
          "output_type": "stream",
          "text": [
            "<class 'geopandas.geodataframe.GeoDataFrame'>\n",
            "Int64Index: 303 entries, 0 to 295\n",
            "Data columns (total 35 columns):\n",
            " #   Column                         Non-Null Count  Dtype   \n",
            "---  ------                         --------------  -----   \n",
            " 0   OBJECTID_left                  303 non-null    int64   \n",
            " 1   PUD_NAME                       303 non-null    object  \n",
            " 2   PUD_WEB_UR                     303 non-null    object  \n",
            " 3   PUD_CHANGE                     300 non-null    object  \n",
            " 4   PUD_ZONING                     303 non-null    object  \n",
            " 5   PUD_STATUS                     303 non-null    object  \n",
            " 6   PUD_CASE_N                     303 non-null    object  \n",
            " 7   GLOBALID                       303 non-null    object  \n",
            " 8   WARD                           303 non-null    object  \n",
            " 9   SHAPEAREA                      303 non-null    int64   \n",
            " 10  SHAPELEN                       303 non-null    int64   \n",
            " 11  geometry                       303 non-null    geometry\n",
            " 12  index_right                    81 non-null     float64 \n",
            " 13  X                              81 non-null     float64 \n",
            " 14  Y                              81 non-null     float64 \n",
            " 15  OBJECTID_right                 81 non-null     float64 \n",
            " 16  MAR_WARD                       81 non-null     object  \n",
            " 17  ADDRESS                        80 non-null     object  \n",
            " 18  PROJECT_NAME                   81 non-null     object  \n",
            " 19  STATUS_PUBLIC                  81 non-null     object  \n",
            " 20  AGENCY_CALCULATED              81 non-null     object  \n",
            " 21  TOTAL_AFFORDABLE_UNITS         81 non-null     float64 \n",
            " 22  LATITUDE                       80 non-null     float64 \n",
            " 23  LONGITUDE                      80 non-null     float64 \n",
            " 24  AFFORDABLE_UNITS_AT_0_30_AMI   81 non-null     float64 \n",
            " 25  AFFORDABLE_UNITS_AT_31_50_AMI  81 non-null     float64 \n",
            " 26  AFFORDABLE_UNITS_AT_51_60_AMI  81 non-null     float64 \n",
            " 27  AFFORDABLE_UNITS_AT_61_80_AMI  81 non-null     float64 \n",
            " 28  AFFORDABLE_UNITS_AT_81_AMI     81 non-null     float64 \n",
            " 29  CASE_ID                        68 non-null     object  \n",
            " 30  ADDRESS_ID                     69 non-null     float64 \n",
            " 31  XCOORD                         81 non-null     float64 \n",
            " 32  YCOORD                         81 non-null     float64 \n",
            " 33  FULLADDRESS                    68 non-null     object  \n",
            " 34  GIS_LAST_MOD_DTTM              81 non-null     object  \n",
            "dtypes: float64(15), geometry(1), int64(3), object(16)\n",
            "memory usage: 85.2+ KB\n"
          ],
          "name": "stdout"
        }
      ]
    },
    {
      "cell_type": "code",
      "metadata": {
        "id": "TvN1oB4ZdaDo",
        "colab_type": "code",
        "colab": {}
      },
      "source": [
        "puds_info = puds_housing.merge(crosswalk[['Zone_Cat']],how='left',left_on='PUD_ZONING',right_on=crosswalk['Zone'])"
      ],
      "execution_count": 51,
      "outputs": []
    },
    {
      "cell_type": "code",
      "metadata": {
        "id": "36eWs5p3e3Sc",
        "colab_type": "code",
        "colab": {
          "base_uri": "https://localhost:8080/",
          "height": 52
        },
        "outputId": "b9b33336-be43-420f-aa1e-2fa881b685ac"
      },
      "source": [
        "print(f\"Total count of PUDs: {puds_info.shape[0]}\")\n",
        "print(f\"Count PUDs offering Affordable Housing: {puds_info.loc[~puds_info.PROJECT_NAME.isna()].shape[0]}\")"
      ],
      "execution_count": 52,
      "outputs": [
        {
          "output_type": "stream",
          "text": [
            "Total count of PUDs: 303\n",
            "Count PUDs offering Affordable Housing: 81\n"
          ],
          "name": "stdout"
        }
      ]
    },
    {
      "cell_type": "code",
      "metadata": {
        "id": "qid4zuTZe8lU",
        "colab_type": "code",
        "colab": {
          "base_uri": "https://localhost:8080/",
          "height": 482
        },
        "outputId": "6ca13c46-ecc3-4a56-e6c5-0cf46b7bc313"
      },
      "source": [
        "puds_info.plot(column='Zone_Cat', legend=True, figsize=(16,8));"
      ],
      "execution_count": 53,
      "outputs": [
        {
          "output_type": "display_data",
          "data": {
            "image/png": "[encoded data removed]",
            "text/plain": [
              "<Figure size 1152x576 with 1 Axes>"
            ]
          },
          "metadata": {
            "tags": [],
            "needs_background": "light"
          }
        }
      ]
    },
    {
      "cell_type": "code",
      "metadata": {
        "id": "Mmy7_cKPe_vP",
        "colab_type": "code",
        "colab": {
          "base_uri": "https://localhost:8080/",
          "height": 428
        },
        "outputId": "618901fa-cc13-4175-ae87-28411633270b"
      },
      "source": [
        "# Create a map of just the PUDs that provide Affordable Housing\n",
        "\n",
        "puds_info[puds_info['TOTAL_AFFORDABLE_UNITS']>0].plot(column='TOTAL_AFFORDABLE_UNITS', color='grey', figsize=(16,6.35));"
      ],
      "execution_count": 54,
      "outputs": [
        {
          "output_type": "stream",
          "text": [
            "/usr/local/lib/python3.6/dist-packages/geopandas/plotting.py:573: UserWarning: Only specify one of 'column' or 'color'. Using 'color'.\n",
            "  \"Only specify one of 'column' or 'color'. Using 'color'.\", UserWarning\n"
          ],
          "name": "stderr"
        },
        {
          "output_type": "display_data",
          "data": {
            "image/png": "[encoded data removed]",
            "text/plain": [
              "<Figure size 1152x457.2 with 1 Axes>"
            ]
          },
          "metadata": {
            "tags": [],
            "needs_background": "light"
          }
        }
      ]
    }
  ]
}