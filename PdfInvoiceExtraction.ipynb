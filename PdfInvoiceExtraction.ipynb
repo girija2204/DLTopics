{
  "nbformat": 4,
  "nbformat_minor": 0,
  "metadata": {
    "colab": {
      "name": "PdfInvoiceExtraction.ipynb",
      "provenance": [],
      "authorship_tag": "ABX9TyMjLIZrsBmvXHsHLeJnDyX8",
      "include_colab_link": true
    },
    "kernelspec": {
      "name": "python3",
      "display_name": "Python 3"
    }
  },
  "cells": [
    {
      "cell_type": "markdown",
      "metadata": {
        "id": "view-in-github",
        "colab_type": "text"
      },
      "source": [
        "<a href=\"https://colab.research.google.com/github/girija2204/DLTopics/blob/master/PdfInvoiceExtraction.ipynb\" target=\"_parent\"><img src=\"https://colab.research.google.com/assets/colab-badge.svg\" alt=\"Open In Colab\"/></a>"
      ]
    },
    {
      "cell_type": "code",
      "metadata": {
        "colab": {
          "base_uri": "https://localhost:8080/"
        },
        "id": "Lc7ZXi-vKmAc",
        "outputId": "1887908a-db50-41c0-adcf-81a3d6cce5f0"
      },
      "source": [
        "!pip install pdfplumber\r\n",
        "\r\n",
        "import requests\r\n",
        "import pdfplumber\r\n",
        "import re\r\n",
        "from collections import namedtuple\r\n",
        "import pandas as pd"
      ],
      "execution_count": 73,
      "outputs": [
        {
          "output_type": "stream",
          "text": [
            "Requirement already satisfied: pdfplumber in /usr/local/lib/python3.6/dist-packages (0.5.26)\n",
            "Requirement already satisfied: Wand in /usr/local/lib/python3.6/dist-packages (from pdfplumber) (0.6.5)\n",
            "Requirement already satisfied: pdfminer.six==20200517 in /usr/local/lib/python3.6/dist-packages (from pdfplumber) (20200517)\n",
            "Requirement already satisfied: Pillow>=7.0.0 in /usr/local/lib/python3.6/dist-packages (from pdfplumber) (7.0.0)\n",
            "Requirement already satisfied: chardet; python_version > \"3.0\" in /usr/local/lib/python3.6/dist-packages (from pdfminer.six==20200517->pdfplumber) (3.0.4)\n",
            "Requirement already satisfied: pycryptodome in /usr/local/lib/python3.6/dist-packages (from pdfminer.six==20200517->pdfplumber) (3.10.1)\n",
            "Requirement already satisfied: sortedcontainers in /usr/local/lib/python3.6/dist-packages (from pdfminer.six==20200517->pdfplumber) (2.3.0)\n"
          ],
          "name": "stdout"
        }
      ]
    },
    {
      "cell_type": "code",
      "metadata": {
        "id": "h9NlS9owSQqH"
      },
      "source": [
        "Inv = namedtuple('Inv', 'vend_num vend_name inv_dt due_dt invoice_amt net_amt description')"
      ],
      "execution_count": 70,
      "outputs": []
    },
    {
      "cell_type": "code",
      "metadata": {
        "id": "YN5uMs0kK9Ax"
      },
      "source": [
        "def download_file(file_url):\r\n",
        "  filename = file_url.split(\"/\")[-1]\r\n",
        "  with requests.get(file_url) as r:\r\n",
        "    with open(filename, 'wb') as f:\r\n",
        "      f.write(r.content)\r\n",
        "  return filename"
      ],
      "execution_count": 5,
      "outputs": []
    },
    {
      "cell_type": "code",
      "metadata": {
        "id": "7BVqs1OQLcrL"
      },
      "source": [
        "file_url = \"https://www.tabs3.com/support/sample/apreports.pdf\"\r\n",
        "filename = download_file(file_url)"
      ],
      "execution_count": 6,
      "outputs": []
    },
    {
      "cell_type": "code",
      "metadata": {
        "id": "tR2umHPrLt7O"
      },
      "source": [
        "with pdfplumber.open(filename) as pdf:\r\n",
        "  page = pdf.pages[16]\r\n",
        "  text = page.extract_text()"
      ],
      "execution_count": 10,
      "outputs": []
    },
    {
      "cell_type": "code",
      "metadata": {
        "colab": {
          "base_uri": "https://localhost:8080/"
        },
        "id": "kLIDR5bMMLuI",
        "outputId": "f38f02b4-3a17-4404-98a5-3326db0e62fb"
      },
      "source": [
        "print(text)"
      ],
      "execution_count": 13,
      "outputs": [
        {
          "output_type": "stream",
          "text": [
            "AccountsPayableReportPack\n",
            "Invoice by Vendor List\n",
            "Date: 08/25/2020 Invoice by Vendor List Page: 1\n",
            "Jensen, Martin & Anderson, P.C.\n",
            "Inv Due Inv Disc Disc Net\n",
            "Voucher # Invoice # Date Date Amount Amount Date Amount 1099 Ref # Description Codes\n",
            "200 United Parcel Service\n",
            "200.01MLJ 3243387 032620 062620 75.00 P 75.00 1 Overnight document delivery * 1\n",
            "3243387 032720 062720 75.00 P 75.00 3 Postage * 1\n",
            "3243387 072620 072620 75.00 P 75.00 2 Overnight document delivery * 1\n",
            "Vendor Totals 225.00 0.00 225.00\n",
            "202 Software Technology, LLC\n",
            "312205 082020 082520 490.00 P 490.00 1 Software Maintenance Agreement Tabs3 * 1\n",
            "312206 082020 082520 239.00 P 239.00 2 Software Maintenance Agreement Tabs3 General Ledger * 1\n",
            "312207 082020 082520 239.00 P 239.00 3 Software Maintenance Agreement Tabs3 Accounts Payable * 1\n",
            "312208 082020 082520 239.00 P 239.00 4 Software Maintenance Agreement Tabs3 Trust Accounting * 1\n",
            "312209 082020 082520 800.00 P 800.00 5 Software Maintenance Agreement PracticeMaster (9 Users) * 1\n",
            "312210 082020 082520 105.00 P 105.00 6 Software Maintenance Agreement Tabs3 Taskbill * 1\n",
            "320559 082520 083020 205.00 205.00 7 Purchase Tabs3 Device Interface Program 1\n",
            "Vendor Totals 2,317.00 0.00 2,317.00\n",
            "203 Clerk of the County Court\n",
            "200.01PAM 042620 042620 225.00 P 225.00 1 Documentation Fee, Filing Fee, and Sheriff Service Fee * 1\n",
            "Vendor Totals 225.00 0.00 225.00\n",
            "204 Clerk of the District Court\n",
            "032720 032720 75.00 P 75.00 2 Filing fee * 1\n",
            "052020 052020 75.00 P 75.00 3 Filing fee * 1\n",
            "850.00 RON 082020 082020 150.00 150.00 1 Petition for Dissolution of Marriage Filing Fee 1\n",
            "Vendor Totals 300.00 0.00 300.00\n",
            "225 Jackson/Wylinda\n",
            "122419 122419 750.00 P 750.00 Y 2 Holiday Party * 1\n",
            "072620 072620 1,500.00 P 1,500.00 Y 1 Catering/Firm Retreat * 1\n",
            "Vendor Totals 2,250.00 0.00 2,250.00\n",
            "240 NELCO\n",
            "5065 2094756 072620 082620 129.85 P 129.85 1 Check order for APS and TAS Checks * 1\n",
            "Vendor Totals 129.85 0.00 129.85\n",
            "250 D & B Real Estate Management Company\n",
            "AUTO 072220 072220 7,500.00 P 7,500.00 Y 1 Monthly Rent (Including Electric, Gas & Garbage) * 1\n",
            "AUTO 072620 072620 7,500.00 P 7,500.00 Y 2 Monthly Rent (Including Electric, Gas & Garbage) * 1\n",
            "5074 KEY 081320 081320 10.00 10.00 N 3 Duplicate Key for building 1\n",
            "Vendor Totals 15,010.00 0.00 15,010.00\n",
            "300 Thomson Reuters Payment Center\n",
            "042520 042520 4.00 P 4.00 3 Online Legal Research * 1\n",
            "052420 052420 75.00 P 75.00 1 Online Legal Research * 1\n",
            "062520 062520 40.00 P 40.00 4 Online Legal Research * 1\n",
            "072920 072920 4.00 P 4.00 2 Online Legal Research * 1\n",
            "073020 073020 50.00 P 50.00 5 Online Legal Research * 1\n",
            "073020 073020 50.00 P 50.00 6 Online Legal Research * 1\n",
            "073020 073020 50.00 P 50.00 7 Online Legal Research * 1\n",
            "073020 073020 50.00 P 50.00 8 Online Legal Research * 1\n",
            "Vendor Totals 323.00 0.00 323.00\n",
            "325 Professional Messenger Services\n",
            "062120 062120 20.00 P 20.00 Y 2 Courier Fee * 1\n",
            "062420 062420 25.00 P 25.00 Y 4 Courier Fee * 1\n",
            "082520 082520 47.50 P 47.50 Y 1 Courier Fee * 1\n",
            "082520 082520 35.00 P 35.00 Y 3 Courier Fee * 1\n",
            "Vendor Totals 127.50 0.00 127.50\n",
            "400 Sprint Local & Long Distance\n",
            "402310760011 082020 082520 68.96 68.96 1 November Cell Phone Charges  1\n",
            "Vendor Totals 68.96 0.00 68.96\n",
            "700 Clean All Janitorial Services\n",
            "AUTO 072220 072520 750.00 P 750.00 Y 1 Monthly Cleaning Charges (Bi-Weekly Service) * 1\n",
            "AUTO 072620 082520 750.00 750.00 Y 2 Monthly Cleaning Charges (Bi-Weekly Service) 1\n",
            "Vendor Totals 1,500.00 0.00 1,500.00\n",
            "Grand Totals 22,476.31 0.00 22,476.31\n",
            "Menu Reports|Invoices|InvoicebyVendorList\n",
            "Thereportsshownonpages17and19areexamplesoftheInvoicebyVendorList.Theprogramtabsforthisreportincludethe\n",
            "standardVendorandInvoicestabsaswellastheOptionstab.TheOptionstabincludesparametersthatenableyoutoinclude\n",
            "paidinvoices,unpaidinvoicesorboth.Ifyouselecttoincludeonlyunpaidinvoices,youwillhavetheoptiontoincludeposted\n",
            "unpaidinvoices,unpostedunpaidinvoicesorbothaswellastheoptiontoincludeinvoicessettoHold,Payorboth.Alist\n",
            "showingonlypartialpaymentinvoicescanbeprinted.AlistofinvoiceswiththeExcludefrom1099Reportingcheckbox\n",
            "selectedorclearedcanbeprinted.\n",
            "-17-\n"
          ],
          "name": "stdout"
        }
      ]
    },
    {
      "cell_type": "code",
      "metadata": {
        "id": "FD27Olw9Ml0a"
      },
      "source": [
        "new_vendor_re = re.compile(r\"^\\d{3} [A-Z].*\")"
      ],
      "execution_count": 18,
      "outputs": []
    },
    {
      "cell_type": "code",
      "metadata": {
        "id": "p448xB5wNBGQ"
      },
      "source": [
        "for line in text.split('\\n'):\r\n",
        "  if new_vendor_re.match(line):\r\n",
        "    vendor_num, *vend_name = line.split()\r\n",
        "    vend_name = \" \".join(vend_name)\r\n",
        "  print(vend_name)"
      ],
      "execution_count": null,
      "outputs": []
    },
    {
      "cell_type": "code",
      "metadata": {
        "id": "PCs9Fc30NiXj"
      },
      "source": [
        "inv_line_re = re.compile(r\"(\\d{6}) (\\d{6}) ([\\d,]+\\.\\d{2}) [\\sP]*([\\d,]+\\.\\d{2}) [YN ]*\\d (.*?) [*\\s\\d]\")"
      ],
      "execution_count": 63,
      "outputs": []
    },
    {
      "cell_type": "code",
      "metadata": {
        "id": "hkdt9m-WO0qh"
      },
      "source": [
        "line_items = []\r\n",
        "for line in text.split(\"\\n\"):\r\n",
        "  if new_vendor_re.match(line):\r\n",
        "    vend_num, *vend_name = line.split()\r\n",
        "    vend_name = \" \".join(vend_name)\r\n",
        "  line = inv_line_re.search(line)\r\n",
        "  if line:\r\n",
        "    inv_dt = line.group(1)\r\n",
        "    due_dt = line.group(2)\r\n",
        "    inv_amt = line.group(3)\r\n",
        "    net_amt = line.group(4)\r\n",
        "    description = line.group(5)\r\n",
        "    line_items.append(Inv(vend_num, vend_name, inv_dt, due_dt, inv_amt, net_amt, description))"
      ],
      "execution_count": 71,
      "outputs": []
    },
    {
      "cell_type": "code",
      "metadata": {
        "colab": {
          "base_uri": "https://localhost:8080/"
        },
        "id": "NwUMikgYTzli",
        "outputId": "06257f30-774e-4e8c-d611-e3c09c1ede8c"
      },
      "source": [
        "line_items[2]"
      ],
      "execution_count": 72,
      "outputs": [
        {
          "output_type": "execute_result",
          "data": {
            "text/plain": [
              "Inv(vend_num='200', vend_name='United Parcel Service', inv_dt='072620', due_dt='072620', invoice_amt='75.00', net_amt='75.00', description='Overnight document delivery')"
            ]
          },
          "metadata": {
            "tags": []
          },
          "execution_count": 72
        }
      ]
    },
    {
      "cell_type": "code",
      "metadata": {
        "colab": {
          "base_uri": "https://localhost:8080/",
          "height": 238
        },
        "id": "RDxLg2FfUTTz",
        "outputId": "edb82e0d-f31f-4601-f68f-b35653ed40c5"
      },
      "source": [
        "df = pd.DataFrame(line_items)\r\n",
        "df.head()"
      ],
      "execution_count": 76,
      "outputs": [
        {
          "output_type": "execute_result",
          "data": {
            "text/html": [
              "<div>\n",
              "<style scoped>\n",
              "    .dataframe tbody tr th:only-of-type {\n",
              "        vertical-align: middle;\n",
              "    }\n",
              "\n",
              "    .dataframe tbody tr th {\n",
              "        vertical-align: top;\n",
              "    }\n",
              "\n",
              "    .dataframe thead th {\n",
              "        text-align: right;\n",
              "    }\n",
              "</style>\n",
              "<table border=\"1\" class=\"dataframe\">\n",
              "  <thead>\n",
              "    <tr style=\"text-align: right;\">\n",
              "      <th></th>\n",
              "      <th>vend_num</th>\n",
              "      <th>vend_name</th>\n",
              "      <th>inv_dt</th>\n",
              "      <th>due_dt</th>\n",
              "      <th>invoice_amt</th>\n",
              "      <th>net_amt</th>\n",
              "      <th>description</th>\n",
              "    </tr>\n",
              "  </thead>\n",
              "  <tbody>\n",
              "    <tr>\n",
              "      <th>0</th>\n",
              "      <td>200</td>\n",
              "      <td>United Parcel Service</td>\n",
              "      <td>032620</td>\n",
              "      <td>062620</td>\n",
              "      <td>75.00</td>\n",
              "      <td>75.00</td>\n",
              "      <td>Overnight document delivery</td>\n",
              "    </tr>\n",
              "    <tr>\n",
              "      <th>1</th>\n",
              "      <td>200</td>\n",
              "      <td>United Parcel Service</td>\n",
              "      <td>032720</td>\n",
              "      <td>062720</td>\n",
              "      <td>75.00</td>\n",
              "      <td>75.00</td>\n",
              "      <td>Postage</td>\n",
              "    </tr>\n",
              "    <tr>\n",
              "      <th>2</th>\n",
              "      <td>200</td>\n",
              "      <td>United Parcel Service</td>\n",
              "      <td>072620</td>\n",
              "      <td>072620</td>\n",
              "      <td>75.00</td>\n",
              "      <td>75.00</td>\n",
              "      <td>Overnight document delivery</td>\n",
              "    </tr>\n",
              "    <tr>\n",
              "      <th>3</th>\n",
              "      <td>202</td>\n",
              "      <td>Software Technology, LLC</td>\n",
              "      <td>082020</td>\n",
              "      <td>082520</td>\n",
              "      <td>490.00</td>\n",
              "      <td>490.00</td>\n",
              "      <td>Software Maintenance Agreement Tabs3</td>\n",
              "    </tr>\n",
              "    <tr>\n",
              "      <th>4</th>\n",
              "      <td>202</td>\n",
              "      <td>Software Technology, LLC</td>\n",
              "      <td>082020</td>\n",
              "      <td>082520</td>\n",
              "      <td>239.00</td>\n",
              "      <td>239.00</td>\n",
              "      <td>Software Maintenance Agreement Tabs3 General L...</td>\n",
              "    </tr>\n",
              "  </tbody>\n",
              "</table>\n",
              "</div>"
            ],
            "text/plain": [
              "  vend_num  ...                                        description\n",
              "0      200  ...                        Overnight document delivery\n",
              "1      200  ...                                            Postage\n",
              "2      200  ...                        Overnight document delivery\n",
              "3      202  ...               Software Maintenance Agreement Tabs3\n",
              "4      202  ...  Software Maintenance Agreement Tabs3 General L...\n",
              "\n",
              "[5 rows x 7 columns]"
            ]
          },
          "metadata": {
            "tags": []
          },
          "execution_count": 76
        }
      ]
    },
    {
      "cell_type": "code",
      "metadata": {
        "id": "CfC3a7TRUa4o"
      },
      "source": [
        "df['inv_dt'] = pd.to_datetime(df['inv_dt'])\r\n",
        "df['due_dt'] = pd.to_datetime(df['due_dt'])"
      ],
      "execution_count": 77,
      "outputs": []
    },
    {
      "cell_type": "code",
      "metadata": {
        "colab": {
          "base_uri": "https://localhost:8080/",
          "height": 289
        },
        "id": "rJFwde5qU5Rj",
        "outputId": "342ebd42-48ef-4f3b-c2e4-0d35f5aa6136"
      },
      "source": [
        "df.head()"
      ],
      "execution_count": 78,
      "outputs": [
        {
          "output_type": "execute_result",
          "data": {
            "text/html": [
              "<div>\n",
              "<style scoped>\n",
              "    .dataframe tbody tr th:only-of-type {\n",
              "        vertical-align: middle;\n",
              "    }\n",
              "\n",
              "    .dataframe tbody tr th {\n",
              "        vertical-align: top;\n",
              "    }\n",
              "\n",
              "    .dataframe thead th {\n",
              "        text-align: right;\n",
              "    }\n",
              "</style>\n",
              "<table border=\"1\" class=\"dataframe\">\n",
              "  <thead>\n",
              "    <tr style=\"text-align: right;\">\n",
              "      <th></th>\n",
              "      <th>vend_num</th>\n",
              "      <th>vend_name</th>\n",
              "      <th>inv_dt</th>\n",
              "      <th>due_dt</th>\n",
              "      <th>invoice_amt</th>\n",
              "      <th>net_amt</th>\n",
              "      <th>description</th>\n",
              "    </tr>\n",
              "  </thead>\n",
              "  <tbody>\n",
              "    <tr>\n",
              "      <th>0</th>\n",
              "      <td>200</td>\n",
              "      <td>United Parcel Service</td>\n",
              "      <td>2020-03-26</td>\n",
              "      <td>2020-06-26</td>\n",
              "      <td>75.00</td>\n",
              "      <td>75.00</td>\n",
              "      <td>Overnight document delivery</td>\n",
              "    </tr>\n",
              "    <tr>\n",
              "      <th>1</th>\n",
              "      <td>200</td>\n",
              "      <td>United Parcel Service</td>\n",
              "      <td>2020-03-27</td>\n",
              "      <td>2020-06-27</td>\n",
              "      <td>75.00</td>\n",
              "      <td>75.00</td>\n",
              "      <td>Postage</td>\n",
              "    </tr>\n",
              "    <tr>\n",
              "      <th>2</th>\n",
              "      <td>200</td>\n",
              "      <td>United Parcel Service</td>\n",
              "      <td>2020-07-26</td>\n",
              "      <td>2020-07-26</td>\n",
              "      <td>75.00</td>\n",
              "      <td>75.00</td>\n",
              "      <td>Overnight document delivery</td>\n",
              "    </tr>\n",
              "    <tr>\n",
              "      <th>3</th>\n",
              "      <td>202</td>\n",
              "      <td>Software Technology, LLC</td>\n",
              "      <td>2020-08-20</td>\n",
              "      <td>2020-08-25</td>\n",
              "      <td>490.00</td>\n",
              "      <td>490.00</td>\n",
              "      <td>Software Maintenance Agreement Tabs3</td>\n",
              "    </tr>\n",
              "    <tr>\n",
              "      <th>4</th>\n",
              "      <td>202</td>\n",
              "      <td>Software Technology, LLC</td>\n",
              "      <td>2020-08-20</td>\n",
              "      <td>2020-08-25</td>\n",
              "      <td>239.00</td>\n",
              "      <td>239.00</td>\n",
              "      <td>Software Maintenance Agreement Tabs3 General L...</td>\n",
              "    </tr>\n",
              "  </tbody>\n",
              "</table>\n",
              "</div>"
            ],
            "text/plain": [
              "  vend_num  ...                                        description\n",
              "0      200  ...                        Overnight document delivery\n",
              "1      200  ...                                            Postage\n",
              "2      200  ...                        Overnight document delivery\n",
              "3      202  ...               Software Maintenance Agreement Tabs3\n",
              "4      202  ...  Software Maintenance Agreement Tabs3 General L...\n",
              "\n",
              "[5 rows x 7 columns]"
            ]
          },
          "metadata": {
            "tags": []
          },
          "execution_count": 78
        }
      ]
    },
    {
      "cell_type": "code",
      "metadata": {
        "id": "hoL77ruWU7tB"
      },
      "source": [
        "df['invoice_amt'] = df['invoice_amt'].map(lambda x: float(x.replace(\",\", \"\")))"
      ],
      "execution_count": 82,
      "outputs": []
    },
    {
      "cell_type": "code",
      "metadata": {
        "id": "7wFHHH-cVVHv"
      },
      "source": [
        "df['net_amt'] = df['net_amt'].map(lambda x: float(x.replace(\",\", \"\")))"
      ],
      "execution_count": 83,
      "outputs": []
    },
    {
      "cell_type": "code",
      "metadata": {
        "colab": {
          "base_uri": "https://localhost:8080/"
        },
        "id": "GkWKthy3VecE",
        "outputId": "44b9ffb8-9af8-4632-a646-104d2cb13229"
      },
      "source": [
        "df['invoice_amt'].sum()"
      ],
      "execution_count": 86,
      "outputs": [
        {
          "output_type": "execute_result",
          "data": {
            "text/plain": [
              "22476.309999999998"
            ]
          },
          "metadata": {
            "tags": []
          },
          "execution_count": 86
        }
      ]
    },
    {
      "cell_type": "code",
      "metadata": {
        "id": "8rZhdqZAVm_W"
      },
      "source": [
        "df.to_csv('invoice_lines.csv')"
      ],
      "execution_count": 88,
      "outputs": []
    }
  ]
}