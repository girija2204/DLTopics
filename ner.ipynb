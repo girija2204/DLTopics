{
  "nbformat": 4,
  "nbformat_minor": 0,
  "metadata": {
    "colab": {
      "name": "ner.ipynb",
      "provenance": [],
      "collapsed_sections": [],
      "authorship_tag": "ABX9TyMZ4GU3JhFw4f6lCtm9jC5w",
      "include_colab_link": true
    },
    "kernelspec": {
      "name": "python3",
      "display_name": "Python 3"
    },
    "accelerator": "TPU"
  },
  "cells": [
    {
      "cell_type": "markdown",
      "metadata": {
        "id": "view-in-github",
        "colab_type": "text"
      },
      "source": [
        "<a href=\"https://colab.research.google.com/github/girija2204/DLTopics/blob/master/ner.ipynb\" target=\"_parent\"><img src=\"https://colab.research.google.com/assets/colab-badge.svg\" alt=\"Open In Colab\"/></a>"
      ]
    },
    {
      "cell_type": "code",
      "metadata": {
        "id": "CGrY6XE2XbIi"
      },
      "source": [
        "import spacy\r\n",
        "import pandas as pd\r\n",
        "import numpy as np\r\n",
        "import os\r\n",
        "import random\r\n",
        "from spacy.util import minibatch, compounding\r\n",
        "from spacy.gold import GoldParse"
      ],
      "execution_count": 1,
      "outputs": []
    },
    {
      "cell_type": "code",
      "metadata": {
        "id": "txStMRCUdPsm",
        "colab": {
          "base_uri": "https://localhost:8080/"
        },
        "outputId": "63bc0709-c249-4bca-ed12-d2a5481130c8"
      },
      "source": [
        "!python3 -m spacy download en_core_web_md"
      ],
      "execution_count": 2,
      "outputs": [
        {
          "output_type": "stream",
          "text": [
            "Collecting en_core_web_md==2.2.5\n",
            "\u001b[?25l  Downloading https://github.com/explosion/spacy-models/releases/download/en_core_web_md-2.2.5/en_core_web_md-2.2.5.tar.gz (96.4MB)\n",
            "\u001b[K     |████████████████████████████████| 96.4MB 1.1MB/s \n",
            "\u001b[?25hRequirement already satisfied: spacy>=2.2.2 in /usr/local/lib/python3.6/dist-packages (from en_core_web_md==2.2.5) (2.2.4)\n",
            "Requirement already satisfied: setuptools in /usr/local/lib/python3.6/dist-packages (from spacy>=2.2.2->en_core_web_md==2.2.5) (51.1.1)\n",
            "Requirement already satisfied: preshed<3.1.0,>=3.0.2 in /usr/local/lib/python3.6/dist-packages (from spacy>=2.2.2->en_core_web_md==2.2.5) (3.0.5)\n",
            "Requirement already satisfied: tqdm<5.0.0,>=4.38.0 in /usr/local/lib/python3.6/dist-packages (from spacy>=2.2.2->en_core_web_md==2.2.5) (4.41.1)\n",
            "Requirement already satisfied: wasabi<1.1.0,>=0.4.0 in /usr/local/lib/python3.6/dist-packages (from spacy>=2.2.2->en_core_web_md==2.2.5) (0.8.0)\n",
            "Requirement already satisfied: catalogue<1.1.0,>=0.0.7 in /usr/local/lib/python3.6/dist-packages (from spacy>=2.2.2->en_core_web_md==2.2.5) (1.0.0)\n",
            "Requirement already satisfied: plac<1.2.0,>=0.9.6 in /usr/local/lib/python3.6/dist-packages (from spacy>=2.2.2->en_core_web_md==2.2.5) (1.1.3)\n",
            "Requirement already satisfied: requests<3.0.0,>=2.13.0 in /usr/local/lib/python3.6/dist-packages (from spacy>=2.2.2->en_core_web_md==2.2.5) (2.23.0)\n",
            "Requirement already satisfied: cymem<2.1.0,>=2.0.2 in /usr/local/lib/python3.6/dist-packages (from spacy>=2.2.2->en_core_web_md==2.2.5) (2.0.5)\n",
            "Requirement already satisfied: thinc==7.4.0 in /usr/local/lib/python3.6/dist-packages (from spacy>=2.2.2->en_core_web_md==2.2.5) (7.4.0)\n",
            "Requirement already satisfied: murmurhash<1.1.0,>=0.28.0 in /usr/local/lib/python3.6/dist-packages (from spacy>=2.2.2->en_core_web_md==2.2.5) (1.0.5)\n",
            "Requirement already satisfied: srsly<1.1.0,>=1.0.2 in /usr/local/lib/python3.6/dist-packages (from spacy>=2.2.2->en_core_web_md==2.2.5) (1.0.5)\n",
            "Requirement already satisfied: numpy>=1.15.0 in /usr/local/lib/python3.6/dist-packages (from spacy>=2.2.2->en_core_web_md==2.2.5) (1.19.5)\n",
            "Requirement already satisfied: blis<0.5.0,>=0.4.0 in /usr/local/lib/python3.6/dist-packages (from spacy>=2.2.2->en_core_web_md==2.2.5) (0.4.1)\n",
            "Requirement already satisfied: importlib-metadata>=0.20; python_version < \"3.8\" in /usr/local/lib/python3.6/dist-packages (from catalogue<1.1.0,>=0.0.7->spacy>=2.2.2->en_core_web_md==2.2.5) (3.3.0)\n",
            "Requirement already satisfied: chardet<4,>=3.0.2 in /usr/local/lib/python3.6/dist-packages (from requests<3.0.0,>=2.13.0->spacy>=2.2.2->en_core_web_md==2.2.5) (3.0.4)\n",
            "Requirement already satisfied: certifi>=2017.4.17 in /usr/local/lib/python3.6/dist-packages (from requests<3.0.0,>=2.13.0->spacy>=2.2.2->en_core_web_md==2.2.5) (2020.12.5)\n",
            "Requirement already satisfied: urllib3!=1.25.0,!=1.25.1,<1.26,>=1.21.1 in /usr/local/lib/python3.6/dist-packages (from requests<3.0.0,>=2.13.0->spacy>=2.2.2->en_core_web_md==2.2.5) (1.24.3)\n",
            "Requirement already satisfied: idna<3,>=2.5 in /usr/local/lib/python3.6/dist-packages (from requests<3.0.0,>=2.13.0->spacy>=2.2.2->en_core_web_md==2.2.5) (2.10)\n",
            "Requirement already satisfied: zipp>=0.5 in /usr/local/lib/python3.6/dist-packages (from importlib-metadata>=0.20; python_version < \"3.8\"->catalogue<1.1.0,>=0.0.7->spacy>=2.2.2->en_core_web_md==2.2.5) (3.4.0)\n",
            "Requirement already satisfied: typing-extensions>=3.6.4; python_version < \"3.8\" in /usr/local/lib/python3.6/dist-packages (from importlib-metadata>=0.20; python_version < \"3.8\"->catalogue<1.1.0,>=0.0.7->spacy>=2.2.2->en_core_web_md==2.2.5) (3.7.4.3)\n",
            "Building wheels for collected packages: en-core-web-md\n",
            "  Building wheel for en-core-web-md (setup.py) ... \u001b[?25l\u001b[?25hdone\n",
            "  Created wheel for en-core-web-md: filename=en_core_web_md-2.2.5-cp36-none-any.whl size=98051304 sha256=9ee892ec45f994a265e1660c31fee54c97f5a057797795aa835fd27917701d7c\n",
            "  Stored in directory: /tmp/pip-ephem-wheel-cache-v6z_bax9/wheels/df/94/ad/f5cf59224cea6b5686ac4fd1ad19c8a07bc026e13c36502d81\n",
            "Successfully built en-core-web-md\n",
            "Installing collected packages: en-core-web-md\n",
            "Successfully installed en-core-web-md-2.2.5\n",
            "\u001b[38;5;2m✔ Download and installation successful\u001b[0m\n",
            "You can now load the model via spacy.load('en_core_web_md')\n"
          ],
          "name": "stdout"
        }
      ]
    },
    {
      "cell_type": "code",
      "metadata": {
        "colab": {
          "base_uri": "https://localhost:8080/"
        },
        "id": "ywPNL8BbXdJ3",
        "outputId": "a4ff2f6f-bd7b-4482-f03e-4d0ff1a03137"
      },
      "source": [
        "nlp = spacy.load('en_core_web_sm')\r\n",
        "print(nlp.pipe_names)\r\n",
        "ner_pipe = nlp.get_pipe('ner')"
      ],
      "execution_count": 3,
      "outputs": [
        {
          "output_type": "stream",
          "text": [
            "['tagger', 'parser', 'ner']\n"
          ],
          "name": "stdout"
        }
      ]
    },
    {
      "cell_type": "code",
      "metadata": {
        "id": "Ia6iC4E1X9Hd"
      },
      "source": [
        "# TP/(TP+FP)\r\n",
        "def calc_precision(pred, true):\r\n",
        "    return len([i for i in pred if i in true]) / len(pred)"
      ],
      "execution_count": 4,
      "outputs": []
    },
    {
      "cell_type": "code",
      "metadata": {
        "id": "YGlYfT8VX_JN"
      },
      "source": [
        "# TP/(TP+FN)\r\n",
        "def calc_recall(pred, true):\r\n",
        "    return len([i for i in pred if i in true]) / len(true)"
      ],
      "execution_count": 5,
      "outputs": []
    },
    {
      "cell_type": "code",
      "metadata": {
        "id": "mQd48sxcYAto"
      },
      "source": [
        "def calc_f1score(precision, recall):\r\n",
        "    return 2 * precision * recall / (precision + recall)"
      ],
      "execution_count": 6,
      "outputs": []
    },
    {
      "cell_type": "code",
      "metadata": {
        "id": "qZAPmXhnYCT3"
      },
      "source": [
        "def evaluate(ner, data):\r\n",
        "    preds = [ner(x[0]) for x in data]\r\n",
        "    precision, recall, f1score = [], [], []\r\n",
        "    for pred, true in zip(preds, data):\r\n",
        "        print(pred)\r\n",
        "        print(true)"
      ],
      "execution_count": 7,
      "outputs": []
    },
    {
      "cell_type": "code",
      "metadata": {
        "id": "yecyYjqtPt2C"
      },
      "source": [
        "def load_data(file):\r\n",
        "    # dataset_dir = \"C:\\\\Users\\\\girij\\\\PycharmProjects\\\\other resources\\\\dl projects\\\\datasets\\\\NERdata\\\\\"\r\n",
        "    # dataset_files = []\r\n",
        "    # for directory in os.listdir(dataset_dir):\r\n",
        "    #     for file in os.listdir(dataset_dir + directory):\r\n",
        "    #         dataset_files.append(dataset_dir + directory + \"\\\\\" + file)\r\n",
        "\r\n",
        "    dataset_files = [file]\r\n",
        "    sentence_list = []\r\n",
        "    dataset = []\r\n",
        "    words_list = []\r\n",
        "    labels = []\r\n",
        "    unique_labels = []\r\n",
        "    start_index = 0\r\n",
        "    end_index = 0\r\n",
        "    for file in dataset_files:\r\n",
        "        file = open(file, 'r')\r\n",
        "        for line in file:\r\n",
        "            line = line.strip(\"\\n\").split(\"\\t\")\r\n",
        "            if len(line) is 1:\r\n",
        "                if len(labels):\r\n",
        "                    sentence = ''.join(word + \" \" for word in words_list)\r\n",
        "                    dataset.append((sentence, {'entities': labels}))\r\n",
        "                start_index = 0\r\n",
        "                end_index = 0\r\n",
        "                labels = []\r\n",
        "                words_list = []\r\n",
        "            else:\r\n",
        "                word = str(line[0]).lower()\r\n",
        "                words_list.append(word)\r\n",
        "                end_index += len(word) + 1\r\n",
        "                if line[1] != 'O':\r\n",
        "                    label_to_add = f\"{line[1]}_disease\"\r\n",
        "                    labels.append((start_index, end_index - 1, label_to_add))\r\n",
        "                    if label_to_add not in unique_labels:\r\n",
        "                      unique_labels.append(label_to_add)\r\n",
        "                start_index = end_index\r\n",
        "    return dataset, unique_labels"
      ],
      "execution_count": 8,
      "outputs": []
    },
    {
      "cell_type": "code",
      "metadata": {
        "id": "KXHXUYyTbOf4"
      },
      "source": [
        "dataset, unique_labels = load_data('/content/train.tsv')\r\n",
        "test_dataset, _ = load_data('/content/test.tsv')"
      ],
      "execution_count": 10,
      "outputs": []
    },
    {
      "cell_type": "code",
      "metadata": {
        "id": "Ag8UFzp4YGMr"
      },
      "source": [
        "def train_spacy(train_data, labels, iterations, dropout=0.5, display_freq=1):\r\n",
        "    nlp = spacy.load(\"en_core_web_sm\")\r\n",
        "    if 'ner' not in nlp.pipe_names:\r\n",
        "        ner = nlp.create_pipe('ner')\r\n",
        "        nlp.add_pipe(ner)\r\n",
        "    else:\r\n",
        "        ner = nlp.get_pipe('ner')\r\n",
        "    for i in labels:\r\n",
        "      ner.add_label(i)\r\n",
        "    other_pipes = [pipe for pipe in nlp.pipe_names if pipe != 'ner']\r\n",
        "    with nlp.disable_pipes(*other_pipes):\r\n",
        "        optimizer = nlp.begin_training()\r\n",
        "        for itr in range(iterations):\r\n",
        "            random.shuffle(train_data)\r\n",
        "            losses = {}\r\n",
        "            # for text_data, label_data in train_data:\r\n",
        "            batches = minibatch(train_data, size=compounding(4.0, 32.0, 1.001))\r\n",
        "            for batch in batches:\r\n",
        "                texts, annotations = zip(*batch)\r\n",
        "                nlp.update(\r\n",
        "                    texts,  # batch of texts\r\n",
        "                    annotations,  # batch of annotations\r\n",
        "                    drop=0.5,  # dropout - make it harder to memorise data\r\n",
        "                    losses=losses,\r\n",
        "                )\r\n",
        "                # text_doc = nlp.make_doc(text_data)\r\n",
        "                # gold = GoldParse(text_doc, entities=label_data)\r\n",
        "                # nlp.update([text_doc], [gold], dropout, sgd=optimizer, losses=losses)\r\n",
        "            evaluate(nlp, test_dataset[:5])\r\n",
        "        return nlp"
      ],
      "execution_count": 11,
      "outputs": []
    },
    {
      "cell_type": "code",
      "metadata": {
        "id": "sB9xYQfBotgi"
      },
      "source": [
        "def evaluate(nlp, data):\r\n",
        "  preds = [nlp(record[0]) for record in data]\r\n",
        "  for pred, true in zip(preds, data):\r\n",
        "    print(true)\r\n",
        "    print(pred)"
      ],
      "execution_count": 12,
      "outputs": []
    },
    {
      "cell_type": "code",
      "metadata": {
        "id": "-o8jvfZnKNV-"
      },
      "source": [
        "test_data_all = [str(record[0]) for record in test_dataset]"
      ],
      "execution_count": 15,
      "outputs": []
    },
    {
      "cell_type": "code",
      "metadata": {
        "colab": {
          "base_uri": "https://localhost:8080/"
        },
        "id": "vNF1KrHCKYos",
        "outputId": "c0d7b7fc-3224-46d4-cefc-562a7ce55b6e"
      },
      "source": [
        "test_data_all[:5]"
      ],
      "execution_count": 76,
      "outputs": [
        {
          "output_type": "execute_result",
          "data": {
            "text/plain": [
              "['physical mapping 220 kb centromeric of the human mhc and dna sequence analysis of the 43 - kb segment including the ring1 , hke6 , and hke4 genes . ',\n",
              " 'dna elements recognizing nf - y and sp1 regulate the human multidrug - resistance gene promoter . ',\n",
              " 'radioimmunoassay of plasma gonadotropins ; problems of specificity ',\n",
              " 'as tat itself dramatically increases hiv - 1 gene expression , it too is presumably regulated in the latent state , and may also be activated by mitogenic stimulation . ',\n",
              " 'to clarify the difference , both the crk ii and crk ii - 23 , proteins were expressed in e . coli and examined their binding capacity in vitro . ']"
            ]
          },
          "metadata": {
            "tags": []
          },
          "execution_count": 76
        }
      ]
    },
    {
      "cell_type": "code",
      "metadata": {
        "colab": {
          "base_uri": "https://localhost:8080/"
        },
        "id": "vdJ_N9jxbKQJ",
        "outputId": "c11b58bf-b665-49ad-af2c-c5b1e22183a8"
      },
      "source": [
        "ner = train_spacy(dataset, unique_labels, 20)\r\n",
        "ner.to_disk(\"model_spacy\")"
      ],
      "execution_count": 13,
      "outputs": [
        {
          "output_type": "stream",
          "text": [
            "('physical mapping 220 kb centromeric of the human mhc and dna sequence analysis of the 43 - kb segment including the ring1 , hke6 , and hke4 genes . ', {'entities': [(43, 48, 'B_disease'), (49, 52, 'I_disease'), (116, 121, 'B_disease'), (124, 128, 'B_disease'), (135, 139, 'B_disease'), (140, 145, 'I_disease')]})\n",
            "physical mapping 220 kb centromeric of the human mhc and dna sequence analysis of the 43 - kb segment including the ring1 , hke6 , and hke4 genes . \n",
            "('dna elements recognizing nf - y and sp1 regulate the human multidrug - resistance gene promoter . ', {'entities': [(25, 27, 'B_disease'), (28, 29, 'I_disease'), (30, 31, 'I_disease'), (36, 39, 'B_disease'), (53, 58, 'B_disease'), (59, 68, 'I_disease'), (69, 70, 'I_disease'), (71, 81, 'I_disease'), (82, 86, 'I_disease'), (87, 95, 'I_disease')]})\n",
            "dna elements recognizing nf - y and sp1 regulate the human multidrug - resistance gene promoter . \n",
            "('radioimmunoassay of plasma gonadotropins ; problems of specificity ', {'entities': [(20, 26, 'B_disease'), (27, 40, 'I_disease')]})\n",
            "radioimmunoassay of plasma gonadotropins ; problems of specificity \n",
            "('as tat itself dramatically increases hiv - 1 gene expression , it too is presumably regulated in the latent state , and may also be activated by mitogenic stimulation . ', {'entities': [(3, 6, 'B_disease')]})\n",
            "as tat itself dramatically increases hiv - 1 gene expression , it too is presumably regulated in the latent state , and may also be activated by mitogenic stimulation . \n",
            "('to clarify the difference , both the crk ii and crk ii - 23 , proteins were expressed in e . coli and examined their binding capacity in vitro . ', {'entities': [(37, 40, 'B_disease'), (41, 43, 'I_disease'), (48, 51, 'B_disease'), (52, 54, 'I_disease'), (55, 56, 'I_disease'), (57, 59, 'I_disease')]})\n",
            "to clarify the difference , both the crk ii and crk ii - 23 , proteins were expressed in e . coli and examined their binding capacity in vitro . \n",
            "('physical mapping 220 kb centromeric of the human mhc and dna sequence analysis of the 43 - kb segment including the ring1 , hke6 , and hke4 genes . ', {'entities': [(43, 48, 'B_disease'), (49, 52, 'I_disease'), (116, 121, 'B_disease'), (124, 128, 'B_disease'), (135, 139, 'B_disease'), (140, 145, 'I_disease')]})\n",
            "physical mapping 220 kb centromeric of the human mhc and dna sequence analysis of the 43 - kb segment including the ring1 , hke6 , and hke4 genes . \n",
            "('dna elements recognizing nf - y and sp1 regulate the human multidrug - resistance gene promoter . ', {'entities': [(25, 27, 'B_disease'), (28, 29, 'I_disease'), (30, 31, 'I_disease'), (36, 39, 'B_disease'), (53, 58, 'B_disease'), (59, 68, 'I_disease'), (69, 70, 'I_disease'), (71, 81, 'I_disease'), (82, 86, 'I_disease'), (87, 95, 'I_disease')]})\n",
            "dna elements recognizing nf - y and sp1 regulate the human multidrug - resistance gene promoter . \n",
            "('radioimmunoassay of plasma gonadotropins ; problems of specificity ', {'entities': [(20, 26, 'B_disease'), (27, 40, 'I_disease')]})\n",
            "radioimmunoassay of plasma gonadotropins ; problems of specificity \n",
            "('as tat itself dramatically increases hiv - 1 gene expression , it too is presumably regulated in the latent state , and may also be activated by mitogenic stimulation . ', {'entities': [(3, 6, 'B_disease')]})\n",
            "as tat itself dramatically increases hiv - 1 gene expression , it too is presumably regulated in the latent state , and may also be activated by mitogenic stimulation . \n",
            "('to clarify the difference , both the crk ii and crk ii - 23 , proteins were expressed in e . coli and examined their binding capacity in vitro . ', {'entities': [(37, 40, 'B_disease'), (41, 43, 'I_disease'), (48, 51, 'B_disease'), (52, 54, 'I_disease'), (55, 56, 'I_disease'), (57, 59, 'I_disease')]})\n",
            "to clarify the difference , both the crk ii and crk ii - 23 , proteins were expressed in e . coli and examined their binding capacity in vitro . \n",
            "('physical mapping 220 kb centromeric of the human mhc and dna sequence analysis of the 43 - kb segment including the ring1 , hke6 , and hke4 genes . ', {'entities': [(43, 48, 'B_disease'), (49, 52, 'I_disease'), (116, 121, 'B_disease'), (124, 128, 'B_disease'), (135, 139, 'B_disease'), (140, 145, 'I_disease')]})\n",
            "physical mapping 220 kb centromeric of the human mhc and dna sequence analysis of the 43 - kb segment including the ring1 , hke6 , and hke4 genes . \n",
            "('dna elements recognizing nf - y and sp1 regulate the human multidrug - resistance gene promoter . ', {'entities': [(25, 27, 'B_disease'), (28, 29, 'I_disease'), (30, 31, 'I_disease'), (36, 39, 'B_disease'), (53, 58, 'B_disease'), (59, 68, 'I_disease'), (69, 70, 'I_disease'), (71, 81, 'I_disease'), (82, 86, 'I_disease'), (87, 95, 'I_disease')]})\n",
            "dna elements recognizing nf - y and sp1 regulate the human multidrug - resistance gene promoter . \n",
            "('radioimmunoassay of plasma gonadotropins ; problems of specificity ', {'entities': [(20, 26, 'B_disease'), (27, 40, 'I_disease')]})\n",
            "radioimmunoassay of plasma gonadotropins ; problems of specificity \n",
            "('as tat itself dramatically increases hiv - 1 gene expression , it too is presumably regulated in the latent state , and may also be activated by mitogenic stimulation . ', {'entities': [(3, 6, 'B_disease')]})\n",
            "as tat itself dramatically increases hiv - 1 gene expression , it too is presumably regulated in the latent state , and may also be activated by mitogenic stimulation . \n",
            "('to clarify the difference , both the crk ii and crk ii - 23 , proteins were expressed in e . coli and examined their binding capacity in vitro . ', {'entities': [(37, 40, 'B_disease'), (41, 43, 'I_disease'), (48, 51, 'B_disease'), (52, 54, 'I_disease'), (55, 56, 'I_disease'), (57, 59, 'I_disease')]})\n",
            "to clarify the difference , both the crk ii and crk ii - 23 , proteins were expressed in e . coli and examined their binding capacity in vitro . \n",
            "('physical mapping 220 kb centromeric of the human mhc and dna sequence analysis of the 43 - kb segment including the ring1 , hke6 , and hke4 genes . ', {'entities': [(43, 48, 'B_disease'), (49, 52, 'I_disease'), (116, 121, 'B_disease'), (124, 128, 'B_disease'), (135, 139, 'B_disease'), (140, 145, 'I_disease')]})\n",
            "physical mapping 220 kb centromeric of the human mhc and dna sequence analysis of the 43 - kb segment including the ring1 , hke6 , and hke4 genes . \n",
            "('dna elements recognizing nf - y and sp1 regulate the human multidrug - resistance gene promoter . ', {'entities': [(25, 27, 'B_disease'), (28, 29, 'I_disease'), (30, 31, 'I_disease'), (36, 39, 'B_disease'), (53, 58, 'B_disease'), (59, 68, 'I_disease'), (69, 70, 'I_disease'), (71, 81, 'I_disease'), (82, 86, 'I_disease'), (87, 95, 'I_disease')]})\n",
            "dna elements recognizing nf - y and sp1 regulate the human multidrug - resistance gene promoter . \n",
            "('radioimmunoassay of plasma gonadotropins ; problems of specificity ', {'entities': [(20, 26, 'B_disease'), (27, 40, 'I_disease')]})\n",
            "radioimmunoassay of plasma gonadotropins ; problems of specificity \n",
            "('as tat itself dramatically increases hiv - 1 gene expression , it too is presumably regulated in the latent state , and may also be activated by mitogenic stimulation . ', {'entities': [(3, 6, 'B_disease')]})\n",
            "as tat itself dramatically increases hiv - 1 gene expression , it too is presumably regulated in the latent state , and may also be activated by mitogenic stimulation . \n",
            "('to clarify the difference , both the crk ii and crk ii - 23 , proteins were expressed in e . coli and examined their binding capacity in vitro . ', {'entities': [(37, 40, 'B_disease'), (41, 43, 'I_disease'), (48, 51, 'B_disease'), (52, 54, 'I_disease'), (55, 56, 'I_disease'), (57, 59, 'I_disease')]})\n",
            "to clarify the difference , both the crk ii and crk ii - 23 , proteins were expressed in e . coli and examined their binding capacity in vitro . \n",
            "('physical mapping 220 kb centromeric of the human mhc and dna sequence analysis of the 43 - kb segment including the ring1 , hke6 , and hke4 genes . ', {'entities': [(43, 48, 'B_disease'), (49, 52, 'I_disease'), (116, 121, 'B_disease'), (124, 128, 'B_disease'), (135, 139, 'B_disease'), (140, 145, 'I_disease')]})\n",
            "physical mapping 220 kb centromeric of the human mhc and dna sequence analysis of the 43 - kb segment including the ring1 , hke6 , and hke4 genes . \n",
            "('dna elements recognizing nf - y and sp1 regulate the human multidrug - resistance gene promoter . ', {'entities': [(25, 27, 'B_disease'), (28, 29, 'I_disease'), (30, 31, 'I_disease'), (36, 39, 'B_disease'), (53, 58, 'B_disease'), (59, 68, 'I_disease'), (69, 70, 'I_disease'), (71, 81, 'I_disease'), (82, 86, 'I_disease'), (87, 95, 'I_disease')]})\n",
            "dna elements recognizing nf - y and sp1 regulate the human multidrug - resistance gene promoter . \n",
            "('radioimmunoassay of plasma gonadotropins ; problems of specificity ', {'entities': [(20, 26, 'B_disease'), (27, 40, 'I_disease')]})\n",
            "radioimmunoassay of plasma gonadotropins ; problems of specificity \n",
            "('as tat itself dramatically increases hiv - 1 gene expression , it too is presumably regulated in the latent state , and may also be activated by mitogenic stimulation . ', {'entities': [(3, 6, 'B_disease')]})\n",
            "as tat itself dramatically increases hiv - 1 gene expression , it too is presumably regulated in the latent state , and may also be activated by mitogenic stimulation . \n",
            "('to clarify the difference , both the crk ii and crk ii - 23 , proteins were expressed in e . coli and examined their binding capacity in vitro . ', {'entities': [(37, 40, 'B_disease'), (41, 43, 'I_disease'), (48, 51, 'B_disease'), (52, 54, 'I_disease'), (55, 56, 'I_disease'), (57, 59, 'I_disease')]})\n",
            "to clarify the difference , both the crk ii and crk ii - 23 , proteins were expressed in e . coli and examined their binding capacity in vitro . \n",
            "('physical mapping 220 kb centromeric of the human mhc and dna sequence analysis of the 43 - kb segment including the ring1 , hke6 , and hke4 genes . ', {'entities': [(43, 48, 'B_disease'), (49, 52, 'I_disease'), (116, 121, 'B_disease'), (124, 128, 'B_disease'), (135, 139, 'B_disease'), (140, 145, 'I_disease')]})\n",
            "physical mapping 220 kb centromeric of the human mhc and dna sequence analysis of the 43 - kb segment including the ring1 , hke6 , and hke4 genes . \n",
            "('dna elements recognizing nf - y and sp1 regulate the human multidrug - resistance gene promoter . ', {'entities': [(25, 27, 'B_disease'), (28, 29, 'I_disease'), (30, 31, 'I_disease'), (36, 39, 'B_disease'), (53, 58, 'B_disease'), (59, 68, 'I_disease'), (69, 70, 'I_disease'), (71, 81, 'I_disease'), (82, 86, 'I_disease'), (87, 95, 'I_disease')]})\n",
            "dna elements recognizing nf - y and sp1 regulate the human multidrug - resistance gene promoter . \n",
            "('radioimmunoassay of plasma gonadotropins ; problems of specificity ', {'entities': [(20, 26, 'B_disease'), (27, 40, 'I_disease')]})\n",
            "radioimmunoassay of plasma gonadotropins ; problems of specificity \n",
            "('as tat itself dramatically increases hiv - 1 gene expression , it too is presumably regulated in the latent state , and may also be activated by mitogenic stimulation . ', {'entities': [(3, 6, 'B_disease')]})\n",
            "as tat itself dramatically increases hiv - 1 gene expression , it too is presumably regulated in the latent state , and may also be activated by mitogenic stimulation . \n",
            "('to clarify the difference , both the crk ii and crk ii - 23 , proteins were expressed in e . coli and examined their binding capacity in vitro . ', {'entities': [(37, 40, 'B_disease'), (41, 43, 'I_disease'), (48, 51, 'B_disease'), (52, 54, 'I_disease'), (55, 56, 'I_disease'), (57, 59, 'I_disease')]})\n",
            "to clarify the difference , both the crk ii and crk ii - 23 , proteins were expressed in e . coli and examined their binding capacity in vitro . \n",
            "('physical mapping 220 kb centromeric of the human mhc and dna sequence analysis of the 43 - kb segment including the ring1 , hke6 , and hke4 genes . ', {'entities': [(43, 48, 'B_disease'), (49, 52, 'I_disease'), (116, 121, 'B_disease'), (124, 128, 'B_disease'), (135, 139, 'B_disease'), (140, 145, 'I_disease')]})\n",
            "physical mapping 220 kb centromeric of the human mhc and dna sequence analysis of the 43 - kb segment including the ring1 , hke6 , and hke4 genes . \n",
            "('dna elements recognizing nf - y and sp1 regulate the human multidrug - resistance gene promoter . ', {'entities': [(25, 27, 'B_disease'), (28, 29, 'I_disease'), (30, 31, 'I_disease'), (36, 39, 'B_disease'), (53, 58, 'B_disease'), (59, 68, 'I_disease'), (69, 70, 'I_disease'), (71, 81, 'I_disease'), (82, 86, 'I_disease'), (87, 95, 'I_disease')]})\n",
            "dna elements recognizing nf - y and sp1 regulate the human multidrug - resistance gene promoter . \n",
            "('radioimmunoassay of plasma gonadotropins ; problems of specificity ', {'entities': [(20, 26, 'B_disease'), (27, 40, 'I_disease')]})\n",
            "radioimmunoassay of plasma gonadotropins ; problems of specificity \n",
            "('as tat itself dramatically increases hiv - 1 gene expression , it too is presumably regulated in the latent state , and may also be activated by mitogenic stimulation . ', {'entities': [(3, 6, 'B_disease')]})\n",
            "as tat itself dramatically increases hiv - 1 gene expression , it too is presumably regulated in the latent state , and may also be activated by mitogenic stimulation . \n",
            "('to clarify the difference , both the crk ii and crk ii - 23 , proteins were expressed in e . coli and examined their binding capacity in vitro . ', {'entities': [(37, 40, 'B_disease'), (41, 43, 'I_disease'), (48, 51, 'B_disease'), (52, 54, 'I_disease'), (55, 56, 'I_disease'), (57, 59, 'I_disease')]})\n",
            "to clarify the difference , both the crk ii and crk ii - 23 , proteins were expressed in e . coli and examined their binding capacity in vitro . \n",
            "('physical mapping 220 kb centromeric of the human mhc and dna sequence analysis of the 43 - kb segment including the ring1 , hke6 , and hke4 genes . ', {'entities': [(43, 48, 'B_disease'), (49, 52, 'I_disease'), (116, 121, 'B_disease'), (124, 128, 'B_disease'), (135, 139, 'B_disease'), (140, 145, 'I_disease')]})\n",
            "physical mapping 220 kb centromeric of the human mhc and dna sequence analysis of the 43 - kb segment including the ring1 , hke6 , and hke4 genes . \n",
            "('dna elements recognizing nf - y and sp1 regulate the human multidrug - resistance gene promoter . ', {'entities': [(25, 27, 'B_disease'), (28, 29, 'I_disease'), (30, 31, 'I_disease'), (36, 39, 'B_disease'), (53, 58, 'B_disease'), (59, 68, 'I_disease'), (69, 70, 'I_disease'), (71, 81, 'I_disease'), (82, 86, 'I_disease'), (87, 95, 'I_disease')]})\n",
            "dna elements recognizing nf - y and sp1 regulate the human multidrug - resistance gene promoter . \n",
            "('radioimmunoassay of plasma gonadotropins ; problems of specificity ', {'entities': [(20, 26, 'B_disease'), (27, 40, 'I_disease')]})\n",
            "radioimmunoassay of plasma gonadotropins ; problems of specificity \n",
            "('as tat itself dramatically increases hiv - 1 gene expression , it too is presumably regulated in the latent state , and may also be activated by mitogenic stimulation . ', {'entities': [(3, 6, 'B_disease')]})\n",
            "as tat itself dramatically increases hiv - 1 gene expression , it too is presumably regulated in the latent state , and may also be activated by mitogenic stimulation . \n",
            "('to clarify the difference , both the crk ii and crk ii - 23 , proteins were expressed in e . coli and examined their binding capacity in vitro . ', {'entities': [(37, 40, 'B_disease'), (41, 43, 'I_disease'), (48, 51, 'B_disease'), (52, 54, 'I_disease'), (55, 56, 'I_disease'), (57, 59, 'I_disease')]})\n",
            "to clarify the difference , both the crk ii and crk ii - 23 , proteins were expressed in e . coli and examined their binding capacity in vitro . \n",
            "('physical mapping 220 kb centromeric of the human mhc and dna sequence analysis of the 43 - kb segment including the ring1 , hke6 , and hke4 genes . ', {'entities': [(43, 48, 'B_disease'), (49, 52, 'I_disease'), (116, 121, 'B_disease'), (124, 128, 'B_disease'), (135, 139, 'B_disease'), (140, 145, 'I_disease')]})\n",
            "physical mapping 220 kb centromeric of the human mhc and dna sequence analysis of the 43 - kb segment including the ring1 , hke6 , and hke4 genes . \n",
            "('dna elements recognizing nf - y and sp1 regulate the human multidrug - resistance gene promoter . ', {'entities': [(25, 27, 'B_disease'), (28, 29, 'I_disease'), (30, 31, 'I_disease'), (36, 39, 'B_disease'), (53, 58, 'B_disease'), (59, 68, 'I_disease'), (69, 70, 'I_disease'), (71, 81, 'I_disease'), (82, 86, 'I_disease'), (87, 95, 'I_disease')]})\n",
            "dna elements recognizing nf - y and sp1 regulate the human multidrug - resistance gene promoter . \n",
            "('radioimmunoassay of plasma gonadotropins ; problems of specificity ', {'entities': [(20, 26, 'B_disease'), (27, 40, 'I_disease')]})\n",
            "radioimmunoassay of plasma gonadotropins ; problems of specificity \n",
            "('as tat itself dramatically increases hiv - 1 gene expression , it too is presumably regulated in the latent state , and may also be activated by mitogenic stimulation . ', {'entities': [(3, 6, 'B_disease')]})\n",
            "as tat itself dramatically increases hiv - 1 gene expression , it too is presumably regulated in the latent state , and may also be activated by mitogenic stimulation . \n",
            "('to clarify the difference , both the crk ii and crk ii - 23 , proteins were expressed in e . coli and examined their binding capacity in vitro . ', {'entities': [(37, 40, 'B_disease'), (41, 43, 'I_disease'), (48, 51, 'B_disease'), (52, 54, 'I_disease'), (55, 56, 'I_disease'), (57, 59, 'I_disease')]})\n",
            "to clarify the difference , both the crk ii and crk ii - 23 , proteins were expressed in e . coli and examined their binding capacity in vitro . \n",
            "('physical mapping 220 kb centromeric of the human mhc and dna sequence analysis of the 43 - kb segment including the ring1 , hke6 , and hke4 genes . ', {'entities': [(43, 48, 'B_disease'), (49, 52, 'I_disease'), (116, 121, 'B_disease'), (124, 128, 'B_disease'), (135, 139, 'B_disease'), (140, 145, 'I_disease')]})\n",
            "physical mapping 220 kb centromeric of the human mhc and dna sequence analysis of the 43 - kb segment including the ring1 , hke6 , and hke4 genes . \n",
            "('dna elements recognizing nf - y and sp1 regulate the human multidrug - resistance gene promoter . ', {'entities': [(25, 27, 'B_disease'), (28, 29, 'I_disease'), (30, 31, 'I_disease'), (36, 39, 'B_disease'), (53, 58, 'B_disease'), (59, 68, 'I_disease'), (69, 70, 'I_disease'), (71, 81, 'I_disease'), (82, 86, 'I_disease'), (87, 95, 'I_disease')]})\n",
            "dna elements recognizing nf - y and sp1 regulate the human multidrug - resistance gene promoter . \n",
            "('radioimmunoassay of plasma gonadotropins ; problems of specificity ', {'entities': [(20, 26, 'B_disease'), (27, 40, 'I_disease')]})\n",
            "radioimmunoassay of plasma gonadotropins ; problems of specificity \n",
            "('as tat itself dramatically increases hiv - 1 gene expression , it too is presumably regulated in the latent state , and may also be activated by mitogenic stimulation . ', {'entities': [(3, 6, 'B_disease')]})\n",
            "as tat itself dramatically increases hiv - 1 gene expression , it too is presumably regulated in the latent state , and may also be activated by mitogenic stimulation . \n",
            "('to clarify the difference , both the crk ii and crk ii - 23 , proteins were expressed in e . coli and examined their binding capacity in vitro . ', {'entities': [(37, 40, 'B_disease'), (41, 43, 'I_disease'), (48, 51, 'B_disease'), (52, 54, 'I_disease'), (55, 56, 'I_disease'), (57, 59, 'I_disease')]})\n",
            "to clarify the difference , both the crk ii and crk ii - 23 , proteins were expressed in e . coli and examined their binding capacity in vitro . \n",
            "('physical mapping 220 kb centromeric of the human mhc and dna sequence analysis of the 43 - kb segment including the ring1 , hke6 , and hke4 genes . ', {'entities': [(43, 48, 'B_disease'), (49, 52, 'I_disease'), (116, 121, 'B_disease'), (124, 128, 'B_disease'), (135, 139, 'B_disease'), (140, 145, 'I_disease')]})\n",
            "physical mapping 220 kb centromeric of the human mhc and dna sequence analysis of the 43 - kb segment including the ring1 , hke6 , and hke4 genes . \n",
            "('dna elements recognizing nf - y and sp1 regulate the human multidrug - resistance gene promoter . ', {'entities': [(25, 27, 'B_disease'), (28, 29, 'I_disease'), (30, 31, 'I_disease'), (36, 39, 'B_disease'), (53, 58, 'B_disease'), (59, 68, 'I_disease'), (69, 70, 'I_disease'), (71, 81, 'I_disease'), (82, 86, 'I_disease'), (87, 95, 'I_disease')]})\n",
            "dna elements recognizing nf - y and sp1 regulate the human multidrug - resistance gene promoter . \n",
            "('radioimmunoassay of plasma gonadotropins ; problems of specificity ', {'entities': [(20, 26, 'B_disease'), (27, 40, 'I_disease')]})\n",
            "radioimmunoassay of plasma gonadotropins ; problems of specificity \n",
            "('as tat itself dramatically increases hiv - 1 gene expression , it too is presumably regulated in the latent state , and may also be activated by mitogenic stimulation . ', {'entities': [(3, 6, 'B_disease')]})\n",
            "as tat itself dramatically increases hiv - 1 gene expression , it too is presumably regulated in the latent state , and may also be activated by mitogenic stimulation . \n",
            "('to clarify the difference , both the crk ii and crk ii - 23 , proteins were expressed in e . coli and examined their binding capacity in vitro . ', {'entities': [(37, 40, 'B_disease'), (41, 43, 'I_disease'), (48, 51, 'B_disease'), (52, 54, 'I_disease'), (55, 56, 'I_disease'), (57, 59, 'I_disease')]})\n",
            "to clarify the difference , both the crk ii and crk ii - 23 , proteins were expressed in e . coli and examined their binding capacity in vitro . \n",
            "('physical mapping 220 kb centromeric of the human mhc and dna sequence analysis of the 43 - kb segment including the ring1 , hke6 , and hke4 genes . ', {'entities': [(43, 48, 'B_disease'), (49, 52, 'I_disease'), (116, 121, 'B_disease'), (124, 128, 'B_disease'), (135, 139, 'B_disease'), (140, 145, 'I_disease')]})\n",
            "physical mapping 220 kb centromeric of the human mhc and dna sequence analysis of the 43 - kb segment including the ring1 , hke6 , and hke4 genes . \n",
            "('dna elements recognizing nf - y and sp1 regulate the human multidrug - resistance gene promoter . ', {'entities': [(25, 27, 'B_disease'), (28, 29, 'I_disease'), (30, 31, 'I_disease'), (36, 39, 'B_disease'), (53, 58, 'B_disease'), (59, 68, 'I_disease'), (69, 70, 'I_disease'), (71, 81, 'I_disease'), (82, 86, 'I_disease'), (87, 95, 'I_disease')]})\n",
            "dna elements recognizing nf - y and sp1 regulate the human multidrug - resistance gene promoter . \n",
            "('radioimmunoassay of plasma gonadotropins ; problems of specificity ', {'entities': [(20, 26, 'B_disease'), (27, 40, 'I_disease')]})\n",
            "radioimmunoassay of plasma gonadotropins ; problems of specificity \n",
            "('as tat itself dramatically increases hiv - 1 gene expression , it too is presumably regulated in the latent state , and may also be activated by mitogenic stimulation . ', {'entities': [(3, 6, 'B_disease')]})\n",
            "as tat itself dramatically increases hiv - 1 gene expression , it too is presumably regulated in the latent state , and may also be activated by mitogenic stimulation . \n",
            "('to clarify the difference , both the crk ii and crk ii - 23 , proteins were expressed in e . coli and examined their binding capacity in vitro . ', {'entities': [(37, 40, 'B_disease'), (41, 43, 'I_disease'), (48, 51, 'B_disease'), (52, 54, 'I_disease'), (55, 56, 'I_disease'), (57, 59, 'I_disease')]})\n",
            "to clarify the difference , both the crk ii and crk ii - 23 , proteins were expressed in e . coli and examined their binding capacity in vitro . \n",
            "('physical mapping 220 kb centromeric of the human mhc and dna sequence analysis of the 43 - kb segment including the ring1 , hke6 , and hke4 genes . ', {'entities': [(43, 48, 'B_disease'), (49, 52, 'I_disease'), (116, 121, 'B_disease'), (124, 128, 'B_disease'), (135, 139, 'B_disease'), (140, 145, 'I_disease')]})\n",
            "physical mapping 220 kb centromeric of the human mhc and dna sequence analysis of the 43 - kb segment including the ring1 , hke6 , and hke4 genes . \n",
            "('dna elements recognizing nf - y and sp1 regulate the human multidrug - resistance gene promoter . ', {'entities': [(25, 27, 'B_disease'), (28, 29, 'I_disease'), (30, 31, 'I_disease'), (36, 39, 'B_disease'), (53, 58, 'B_disease'), (59, 68, 'I_disease'), (69, 70, 'I_disease'), (71, 81, 'I_disease'), (82, 86, 'I_disease'), (87, 95, 'I_disease')]})\n",
            "dna elements recognizing nf - y and sp1 regulate the human multidrug - resistance gene promoter . \n",
            "('radioimmunoassay of plasma gonadotropins ; problems of specificity ', {'entities': [(20, 26, 'B_disease'), (27, 40, 'I_disease')]})\n",
            "radioimmunoassay of plasma gonadotropins ; problems of specificity \n",
            "('as tat itself dramatically increases hiv - 1 gene expression , it too is presumably regulated in the latent state , and may also be activated by mitogenic stimulation . ', {'entities': [(3, 6, 'B_disease')]})\n",
            "as tat itself dramatically increases hiv - 1 gene expression , it too is presumably regulated in the latent state , and may also be activated by mitogenic stimulation . \n",
            "('to clarify the difference , both the crk ii and crk ii - 23 , proteins were expressed in e . coli and examined their binding capacity in vitro . ', {'entities': [(37, 40, 'B_disease'), (41, 43, 'I_disease'), (48, 51, 'B_disease'), (52, 54, 'I_disease'), (55, 56, 'I_disease'), (57, 59, 'I_disease')]})\n",
            "to clarify the difference , both the crk ii and crk ii - 23 , proteins were expressed in e . coli and examined their binding capacity in vitro . \n",
            "('physical mapping 220 kb centromeric of the human mhc and dna sequence analysis of the 43 - kb segment including the ring1 , hke6 , and hke4 genes . ', {'entities': [(43, 48, 'B_disease'), (49, 52, 'I_disease'), (116, 121, 'B_disease'), (124, 128, 'B_disease'), (135, 139, 'B_disease'), (140, 145, 'I_disease')]})\n",
            "physical mapping 220 kb centromeric of the human mhc and dna sequence analysis of the 43 - kb segment including the ring1 , hke6 , and hke4 genes . \n",
            "('dna elements recognizing nf - y and sp1 regulate the human multidrug - resistance gene promoter . ', {'entities': [(25, 27, 'B_disease'), (28, 29, 'I_disease'), (30, 31, 'I_disease'), (36, 39, 'B_disease'), (53, 58, 'B_disease'), (59, 68, 'I_disease'), (69, 70, 'I_disease'), (71, 81, 'I_disease'), (82, 86, 'I_disease'), (87, 95, 'I_disease')]})\n",
            "dna elements recognizing nf - y and sp1 regulate the human multidrug - resistance gene promoter . \n",
            "('radioimmunoassay of plasma gonadotropins ; problems of specificity ', {'entities': [(20, 26, 'B_disease'), (27, 40, 'I_disease')]})\n",
            "radioimmunoassay of plasma gonadotropins ; problems of specificity \n",
            "('as tat itself dramatically increases hiv - 1 gene expression , it too is presumably regulated in the latent state , and may also be activated by mitogenic stimulation . ', {'entities': [(3, 6, 'B_disease')]})\n",
            "as tat itself dramatically increases hiv - 1 gene expression , it too is presumably regulated in the latent state , and may also be activated by mitogenic stimulation . \n",
            "('to clarify the difference , both the crk ii and crk ii - 23 , proteins were expressed in e . coli and examined their binding capacity in vitro . ', {'entities': [(37, 40, 'B_disease'), (41, 43, 'I_disease'), (48, 51, 'B_disease'), (52, 54, 'I_disease'), (55, 56, 'I_disease'), (57, 59, 'I_disease')]})\n",
            "to clarify the difference , both the crk ii and crk ii - 23 , proteins were expressed in e . coli and examined their binding capacity in vitro . \n",
            "('physical mapping 220 kb centromeric of the human mhc and dna sequence analysis of the 43 - kb segment including the ring1 , hke6 , and hke4 genes . ', {'entities': [(43, 48, 'B_disease'), (49, 52, 'I_disease'), (116, 121, 'B_disease'), (124, 128, 'B_disease'), (135, 139, 'B_disease'), (140, 145, 'I_disease')]})\n",
            "physical mapping 220 kb centromeric of the human mhc and dna sequence analysis of the 43 - kb segment including the ring1 , hke6 , and hke4 genes . \n",
            "('dna elements recognizing nf - y and sp1 regulate the human multidrug - resistance gene promoter . ', {'entities': [(25, 27, 'B_disease'), (28, 29, 'I_disease'), (30, 31, 'I_disease'), (36, 39, 'B_disease'), (53, 58, 'B_disease'), (59, 68, 'I_disease'), (69, 70, 'I_disease'), (71, 81, 'I_disease'), (82, 86, 'I_disease'), (87, 95, 'I_disease')]})\n",
            "dna elements recognizing nf - y and sp1 regulate the human multidrug - resistance gene promoter . \n",
            "('radioimmunoassay of plasma gonadotropins ; problems of specificity ', {'entities': [(20, 26, 'B_disease'), (27, 40, 'I_disease')]})\n",
            "radioimmunoassay of plasma gonadotropins ; problems of specificity \n",
            "('as tat itself dramatically increases hiv - 1 gene expression , it too is presumably regulated in the latent state , and may also be activated by mitogenic stimulation . ', {'entities': [(3, 6, 'B_disease')]})\n",
            "as tat itself dramatically increases hiv - 1 gene expression , it too is presumably regulated in the latent state , and may also be activated by mitogenic stimulation . \n",
            "('to clarify the difference , both the crk ii and crk ii - 23 , proteins were expressed in e . coli and examined their binding capacity in vitro . ', {'entities': [(37, 40, 'B_disease'), (41, 43, 'I_disease'), (48, 51, 'B_disease'), (52, 54, 'I_disease'), (55, 56, 'I_disease'), (57, 59, 'I_disease')]})\n",
            "to clarify the difference , both the crk ii and crk ii - 23 , proteins were expressed in e . coli and examined their binding capacity in vitro . \n",
            "('physical mapping 220 kb centromeric of the human mhc and dna sequence analysis of the 43 - kb segment including the ring1 , hke6 , and hke4 genes . ', {'entities': [(43, 48, 'B_disease'), (49, 52, 'I_disease'), (116, 121, 'B_disease'), (124, 128, 'B_disease'), (135, 139, 'B_disease'), (140, 145, 'I_disease')]})\n",
            "physical mapping 220 kb centromeric of the human mhc and dna sequence analysis of the 43 - kb segment including the ring1 , hke6 , and hke4 genes . \n",
            "('dna elements recognizing nf - y and sp1 regulate the human multidrug - resistance gene promoter . ', {'entities': [(25, 27, 'B_disease'), (28, 29, 'I_disease'), (30, 31, 'I_disease'), (36, 39, 'B_disease'), (53, 58, 'B_disease'), (59, 68, 'I_disease'), (69, 70, 'I_disease'), (71, 81, 'I_disease'), (82, 86, 'I_disease'), (87, 95, 'I_disease')]})\n",
            "dna elements recognizing nf - y and sp1 regulate the human multidrug - resistance gene promoter . \n",
            "('radioimmunoassay of plasma gonadotropins ; problems of specificity ', {'entities': [(20, 26, 'B_disease'), (27, 40, 'I_disease')]})\n",
            "radioimmunoassay of plasma gonadotropins ; problems of specificity \n",
            "('as tat itself dramatically increases hiv - 1 gene expression , it too is presumably regulated in the latent state , and may also be activated by mitogenic stimulation . ', {'entities': [(3, 6, 'B_disease')]})\n",
            "as tat itself dramatically increases hiv - 1 gene expression , it too is presumably regulated in the latent state , and may also be activated by mitogenic stimulation . \n",
            "('to clarify the difference , both the crk ii and crk ii - 23 , proteins were expressed in e . coli and examined their binding capacity in vitro . ', {'entities': [(37, 40, 'B_disease'), (41, 43, 'I_disease'), (48, 51, 'B_disease'), (52, 54, 'I_disease'), (55, 56, 'I_disease'), (57, 59, 'I_disease')]})\n",
            "to clarify the difference , both the crk ii and crk ii - 23 , proteins were expressed in e . coli and examined their binding capacity in vitro . \n",
            "('physical mapping 220 kb centromeric of the human mhc and dna sequence analysis of the 43 - kb segment including the ring1 , hke6 , and hke4 genes . ', {'entities': [(43, 48, 'B_disease'), (49, 52, 'I_disease'), (116, 121, 'B_disease'), (124, 128, 'B_disease'), (135, 139, 'B_disease'), (140, 145, 'I_disease')]})\n",
            "physical mapping 220 kb centromeric of the human mhc and dna sequence analysis of the 43 - kb segment including the ring1 , hke6 , and hke4 genes . \n",
            "('dna elements recognizing nf - y and sp1 regulate the human multidrug - resistance gene promoter . ', {'entities': [(25, 27, 'B_disease'), (28, 29, 'I_disease'), (30, 31, 'I_disease'), (36, 39, 'B_disease'), (53, 58, 'B_disease'), (59, 68, 'I_disease'), (69, 70, 'I_disease'), (71, 81, 'I_disease'), (82, 86, 'I_disease'), (87, 95, 'I_disease')]})\n",
            "dna elements recognizing nf - y and sp1 regulate the human multidrug - resistance gene promoter . \n",
            "('radioimmunoassay of plasma gonadotropins ; problems of specificity ', {'entities': [(20, 26, 'B_disease'), (27, 40, 'I_disease')]})\n",
            "radioimmunoassay of plasma gonadotropins ; problems of specificity \n",
            "('as tat itself dramatically increases hiv - 1 gene expression , it too is presumably regulated in the latent state , and may also be activated by mitogenic stimulation . ', {'entities': [(3, 6, 'B_disease')]})\n",
            "as tat itself dramatically increases hiv - 1 gene expression , it too is presumably regulated in the latent state , and may also be activated by mitogenic stimulation . \n",
            "('to clarify the difference , both the crk ii and crk ii - 23 , proteins were expressed in e . coli and examined their binding capacity in vitro . ', {'entities': [(37, 40, 'B_disease'), (41, 43, 'I_disease'), (48, 51, 'B_disease'), (52, 54, 'I_disease'), (55, 56, 'I_disease'), (57, 59, 'I_disease')]})\n",
            "to clarify the difference , both the crk ii and crk ii - 23 , proteins were expressed in e . coli and examined their binding capacity in vitro . \n",
            "('physical mapping 220 kb centromeric of the human mhc and dna sequence analysis of the 43 - kb segment including the ring1 , hke6 , and hke4 genes . ', {'entities': [(43, 48, 'B_disease'), (49, 52, 'I_disease'), (116, 121, 'B_disease'), (124, 128, 'B_disease'), (135, 139, 'B_disease'), (140, 145, 'I_disease')]})\n",
            "physical mapping 220 kb centromeric of the human mhc and dna sequence analysis of the 43 - kb segment including the ring1 , hke6 , and hke4 genes . \n",
            "('dna elements recognizing nf - y and sp1 regulate the human multidrug - resistance gene promoter . ', {'entities': [(25, 27, 'B_disease'), (28, 29, 'I_disease'), (30, 31, 'I_disease'), (36, 39, 'B_disease'), (53, 58, 'B_disease'), (59, 68, 'I_disease'), (69, 70, 'I_disease'), (71, 81, 'I_disease'), (82, 86, 'I_disease'), (87, 95, 'I_disease')]})\n",
            "dna elements recognizing nf - y and sp1 regulate the human multidrug - resistance gene promoter . \n",
            "('radioimmunoassay of plasma gonadotropins ; problems of specificity ', {'entities': [(20, 26, 'B_disease'), (27, 40, 'I_disease')]})\n",
            "radioimmunoassay of plasma gonadotropins ; problems of specificity \n",
            "('as tat itself dramatically increases hiv - 1 gene expression , it too is presumably regulated in the latent state , and may also be activated by mitogenic stimulation . ', {'entities': [(3, 6, 'B_disease')]})\n",
            "as tat itself dramatically increases hiv - 1 gene expression , it too is presumably regulated in the latent state , and may also be activated by mitogenic stimulation . \n",
            "('to clarify the difference , both the crk ii and crk ii - 23 , proteins were expressed in e . coli and examined their binding capacity in vitro . ', {'entities': [(37, 40, 'B_disease'), (41, 43, 'I_disease'), (48, 51, 'B_disease'), (52, 54, 'I_disease'), (55, 56, 'I_disease'), (57, 59, 'I_disease')]})\n",
            "to clarify the difference , both the crk ii and crk ii - 23 , proteins were expressed in e . coli and examined their binding capacity in vitro . \n",
            "('physical mapping 220 kb centromeric of the human mhc and dna sequence analysis of the 43 - kb segment including the ring1 , hke6 , and hke4 genes . ', {'entities': [(43, 48, 'B_disease'), (49, 52, 'I_disease'), (116, 121, 'B_disease'), (124, 128, 'B_disease'), (135, 139, 'B_disease'), (140, 145, 'I_disease')]})\n",
            "physical mapping 220 kb centromeric of the human mhc and dna sequence analysis of the 43 - kb segment including the ring1 , hke6 , and hke4 genes . \n",
            "('dna elements recognizing nf - y and sp1 regulate the human multidrug - resistance gene promoter . ', {'entities': [(25, 27, 'B_disease'), (28, 29, 'I_disease'), (30, 31, 'I_disease'), (36, 39, 'B_disease'), (53, 58, 'B_disease'), (59, 68, 'I_disease'), (69, 70, 'I_disease'), (71, 81, 'I_disease'), (82, 86, 'I_disease'), (87, 95, 'I_disease')]})\n",
            "dna elements recognizing nf - y and sp1 regulate the human multidrug - resistance gene promoter . \n",
            "('radioimmunoassay of plasma gonadotropins ; problems of specificity ', {'entities': [(20, 26, 'B_disease'), (27, 40, 'I_disease')]})\n",
            "radioimmunoassay of plasma gonadotropins ; problems of specificity \n",
            "('as tat itself dramatically increases hiv - 1 gene expression , it too is presumably regulated in the latent state , and may also be activated by mitogenic stimulation . ', {'entities': [(3, 6, 'B_disease')]})\n",
            "as tat itself dramatically increases hiv - 1 gene expression , it too is presumably regulated in the latent state , and may also be activated by mitogenic stimulation . \n",
            "('to clarify the difference , both the crk ii and crk ii - 23 , proteins were expressed in e . coli and examined their binding capacity in vitro . ', {'entities': [(37, 40, 'B_disease'), (41, 43, 'I_disease'), (48, 51, 'B_disease'), (52, 54, 'I_disease'), (55, 56, 'I_disease'), (57, 59, 'I_disease')]})\n",
            "to clarify the difference , both the crk ii and crk ii - 23 , proteins were expressed in e . coli and examined their binding capacity in vitro . \n",
            "('physical mapping 220 kb centromeric of the human mhc and dna sequence analysis of the 43 - kb segment including the ring1 , hke6 , and hke4 genes . ', {'entities': [(43, 48, 'B_disease'), (49, 52, 'I_disease'), (116, 121, 'B_disease'), (124, 128, 'B_disease'), (135, 139, 'B_disease'), (140, 145, 'I_disease')]})\n",
            "physical mapping 220 kb centromeric of the human mhc and dna sequence analysis of the 43 - kb segment including the ring1 , hke6 , and hke4 genes . \n",
            "('dna elements recognizing nf - y and sp1 regulate the human multidrug - resistance gene promoter . ', {'entities': [(25, 27, 'B_disease'), (28, 29, 'I_disease'), (30, 31, 'I_disease'), (36, 39, 'B_disease'), (53, 58, 'B_disease'), (59, 68, 'I_disease'), (69, 70, 'I_disease'), (71, 81, 'I_disease'), (82, 86, 'I_disease'), (87, 95, 'I_disease')]})\n",
            "dna elements recognizing nf - y and sp1 regulate the human multidrug - resistance gene promoter . \n",
            "('radioimmunoassay of plasma gonadotropins ; problems of specificity ', {'entities': [(20, 26, 'B_disease'), (27, 40, 'I_disease')]})\n",
            "radioimmunoassay of plasma gonadotropins ; problems of specificity \n",
            "('as tat itself dramatically increases hiv - 1 gene expression , it too is presumably regulated in the latent state , and may also be activated by mitogenic stimulation . ', {'entities': [(3, 6, 'B_disease')]})\n",
            "as tat itself dramatically increases hiv - 1 gene expression , it too is presumably regulated in the latent state , and may also be activated by mitogenic stimulation . \n",
            "('to clarify the difference , both the crk ii and crk ii - 23 , proteins were expressed in e . coli and examined their binding capacity in vitro . ', {'entities': [(37, 40, 'B_disease'), (41, 43, 'I_disease'), (48, 51, 'B_disease'), (52, 54, 'I_disease'), (55, 56, 'I_disease'), (57, 59, 'I_disease')]})\n",
            "to clarify the difference , both the crk ii and crk ii - 23 , proteins were expressed in e . coli and examined their binding capacity in vitro . \n"
          ],
          "name": "stdout"
        }
      ]
    },
    {
      "cell_type": "code",
      "metadata": {
        "colab": {
          "base_uri": "https://localhost:8080/"
        },
        "id": "fXgV842T2zZ7",
        "outputId": "cc23026c-a2e2-4273-d9db-2e7082eccf9c"
      },
      "source": [
        "ner = nlp.get_pipe('ner')\r\n",
        "ner.labels"
      ],
      "execution_count": 17,
      "outputs": [
        {
          "output_type": "execute_result",
          "data": {
            "text/plain": [
              "('CARDINAL',\n",
              " 'DATE',\n",
              " 'EVENT',\n",
              " 'FAC',\n",
              " 'GPE',\n",
              " 'LANGUAGE',\n",
              " 'LAW',\n",
              " 'LOC',\n",
              " 'MONEY',\n",
              " 'NORP',\n",
              " 'ORDINAL',\n",
              " 'ORG',\n",
              " 'PERCENT',\n",
              " 'PERSON',\n",
              " 'PRODUCT',\n",
              " 'QUANTITY',\n",
              " 'TIME',\n",
              " 'WORK_OF_ART')"
            ]
          },
          "metadata": {
            "tags": []
          },
          "execution_count": 17
        }
      ]
    },
    {
      "cell_type": "code",
      "metadata": {
        "id": "HumbPsGjx7Z2"
      },
      "source": [
        "def load_model(model_path):\r\n",
        "    nlp = spacy.blank('en')\r\n",
        "    if 'ner' not in nlp.pipe_names:\r\n",
        "        ner = nlp.create_pipe('ner')\r\n",
        "        nlp.add_pipe(ner)\r\n",
        "    ner = nlp.from_disk(model_path)\r\n",
        "    return ner"
      ],
      "execution_count": 14,
      "outputs": []
    },
    {
      "cell_type": "code",
      "metadata": {
        "id": "QGEj8GUXx-kz"
      },
      "source": [
        "ner = load_model(\"/content/model_spacy\")"
      ],
      "execution_count": 15,
      "outputs": []
    },
    {
      "cell_type": "code",
      "metadata": {
        "colab": {
          "base_uri": "https://localhost:8080/",
          "height": 567
        },
        "id": "1YojO8M5x389",
        "outputId": "97b8950d-346b-41c8-bc74-44e3582a4b1f"
      },
      "source": [
        "from spacy import displacy\r\n",
        "test_sentences = [x[0] for x in test_dataset[0:4]]\r\n",
        "for x in test_sentences:\r\n",
        "    doc = ner(x)\r\n",
        "    for ent in doc.ents:\r\n",
        "        print(ent.text, ent.start_char, ent.end_char, ent.label_)\r\n",
        "    displacy.render(doc,jupyter=True, style = \"ent\")"
      ],
      "execution_count": 17,
      "outputs": [
        {
          "output_type": "stream",
          "text": [
            "human 43 48 B_disease\n",
            "mhc 49 52 I_disease\n",
            "ring1 116 121 B_disease\n",
            "hke6 124 128 B_disease\n",
            "hke4 135 139 B_disease\n",
            "genes 140 145 I_disease\n"
          ],
          "name": "stdout"
        },
        {
          "output_type": "display_data",
          "data": {
            "text/html": [
              "<span class=\"tex2jax_ignore\"><div class=\"entities\" style=\"line-height: 2.5; direction: ltr\">physical mapping 220 kb centromeric of the \n",
              "<mark class=\"entity\" style=\"background: #ddd; padding: 0.45em 0.6em; margin: 0 0.25em; line-height: 1; border-radius: 0.35em;\">\n",
              "    human\n",
              "    <span style=\"font-size: 0.8em; font-weight: bold; line-height: 1; border-radius: 0.35em; text-transform: uppercase; vertical-align: middle; margin-left: 0.5rem\">B_disease</span>\n",
              "</mark>\n",
              " \n",
              "<mark class=\"entity\" style=\"background: #ddd; padding: 0.45em 0.6em; margin: 0 0.25em; line-height: 1; border-radius: 0.35em;\">\n",
              "    mhc\n",
              "    <span style=\"font-size: 0.8em; font-weight: bold; line-height: 1; border-radius: 0.35em; text-transform: uppercase; vertical-align: middle; margin-left: 0.5rem\">I_disease</span>\n",
              "</mark>\n",
              " and dna sequence analysis of the 43 - kb segment including the \n",
              "<mark class=\"entity\" style=\"background: #ddd; padding: 0.45em 0.6em; margin: 0 0.25em; line-height: 1; border-radius: 0.35em;\">\n",
              "    ring1\n",
              "    <span style=\"font-size: 0.8em; font-weight: bold; line-height: 1; border-radius: 0.35em; text-transform: uppercase; vertical-align: middle; margin-left: 0.5rem\">B_disease</span>\n",
              "</mark>\n",
              " , \n",
              "<mark class=\"entity\" style=\"background: #ddd; padding: 0.45em 0.6em; margin: 0 0.25em; line-height: 1; border-radius: 0.35em;\">\n",
              "    hke6\n",
              "    <span style=\"font-size: 0.8em; font-weight: bold; line-height: 1; border-radius: 0.35em; text-transform: uppercase; vertical-align: middle; margin-left: 0.5rem\">B_disease</span>\n",
              "</mark>\n",
              " , and \n",
              "<mark class=\"entity\" style=\"background: #ddd; padding: 0.45em 0.6em; margin: 0 0.25em; line-height: 1; border-radius: 0.35em;\">\n",
              "    hke4\n",
              "    <span style=\"font-size: 0.8em; font-weight: bold; line-height: 1; border-radius: 0.35em; text-transform: uppercase; vertical-align: middle; margin-left: 0.5rem\">B_disease</span>\n",
              "</mark>\n",
              " \n",
              "<mark class=\"entity\" style=\"background: #ddd; padding: 0.45em 0.6em; margin: 0 0.25em; line-height: 1; border-radius: 0.35em;\">\n",
              "    genes\n",
              "    <span style=\"font-size: 0.8em; font-weight: bold; line-height: 1; border-radius: 0.35em; text-transform: uppercase; vertical-align: middle; margin-left: 0.5rem\">I_disease</span>\n",
              "</mark>\n",
              " . </div></span>"
            ],
            "text/plain": [
              "<IPython.core.display.HTML object>"
            ]
          },
          "metadata": {
            "tags": []
          }
        },
        {
          "output_type": "stream",
          "text": [
            "nf 25 27 B_disease\n",
            "- 28 29 I_disease\n",
            "y 30 31 I_disease\n",
            "sp1 36 39 B_disease\n",
            "human 53 58 B_disease\n",
            "multidrug 59 68 I_disease\n",
            "- 69 70 I_disease\n",
            "resistance 71 81 I_disease\n",
            "gene 82 86 I_disease\n",
            "promoter 87 95 I_disease\n"
          ],
          "name": "stdout"
        },
        {
          "output_type": "display_data",
          "data": {
            "text/html": [
              "<span class=\"tex2jax_ignore\"><div class=\"entities\" style=\"line-height: 2.5; direction: ltr\">dna elements recognizing \n",
              "<mark class=\"entity\" style=\"background: #ddd; padding: 0.45em 0.6em; margin: 0 0.25em; line-height: 1; border-radius: 0.35em;\">\n",
              "    nf\n",
              "    <span style=\"font-size: 0.8em; font-weight: bold; line-height: 1; border-radius: 0.35em; text-transform: uppercase; vertical-align: middle; margin-left: 0.5rem\">B_disease</span>\n",
              "</mark>\n",
              " \n",
              "<mark class=\"entity\" style=\"background: #ddd; padding: 0.45em 0.6em; margin: 0 0.25em; line-height: 1; border-radius: 0.35em;\">\n",
              "    -\n",
              "    <span style=\"font-size: 0.8em; font-weight: bold; line-height: 1; border-radius: 0.35em; text-transform: uppercase; vertical-align: middle; margin-left: 0.5rem\">I_disease</span>\n",
              "</mark>\n",
              " \n",
              "<mark class=\"entity\" style=\"background: #ddd; padding: 0.45em 0.6em; margin: 0 0.25em; line-height: 1; border-radius: 0.35em;\">\n",
              "    y\n",
              "    <span style=\"font-size: 0.8em; font-weight: bold; line-height: 1; border-radius: 0.35em; text-transform: uppercase; vertical-align: middle; margin-left: 0.5rem\">I_disease</span>\n",
              "</mark>\n",
              " and \n",
              "<mark class=\"entity\" style=\"background: #ddd; padding: 0.45em 0.6em; margin: 0 0.25em; line-height: 1; border-radius: 0.35em;\">\n",
              "    sp1\n",
              "    <span style=\"font-size: 0.8em; font-weight: bold; line-height: 1; border-radius: 0.35em; text-transform: uppercase; vertical-align: middle; margin-left: 0.5rem\">B_disease</span>\n",
              "</mark>\n",
              " regulate the \n",
              "<mark class=\"entity\" style=\"background: #ddd; padding: 0.45em 0.6em; margin: 0 0.25em; line-height: 1; border-radius: 0.35em;\">\n",
              "    human\n",
              "    <span style=\"font-size: 0.8em; font-weight: bold; line-height: 1; border-radius: 0.35em; text-transform: uppercase; vertical-align: middle; margin-left: 0.5rem\">B_disease</span>\n",
              "</mark>\n",
              " \n",
              "<mark class=\"entity\" style=\"background: #ddd; padding: 0.45em 0.6em; margin: 0 0.25em; line-height: 1; border-radius: 0.35em;\">\n",
              "    multidrug\n",
              "    <span style=\"font-size: 0.8em; font-weight: bold; line-height: 1; border-radius: 0.35em; text-transform: uppercase; vertical-align: middle; margin-left: 0.5rem\">I_disease</span>\n",
              "</mark>\n",
              " \n",
              "<mark class=\"entity\" style=\"background: #ddd; padding: 0.45em 0.6em; margin: 0 0.25em; line-height: 1; border-radius: 0.35em;\">\n",
              "    -\n",
              "    <span style=\"font-size: 0.8em; font-weight: bold; line-height: 1; border-radius: 0.35em; text-transform: uppercase; vertical-align: middle; margin-left: 0.5rem\">I_disease</span>\n",
              "</mark>\n",
              " \n",
              "<mark class=\"entity\" style=\"background: #ddd; padding: 0.45em 0.6em; margin: 0 0.25em; line-height: 1; border-radius: 0.35em;\">\n",
              "    resistance\n",
              "    <span style=\"font-size: 0.8em; font-weight: bold; line-height: 1; border-radius: 0.35em; text-transform: uppercase; vertical-align: middle; margin-left: 0.5rem\">I_disease</span>\n",
              "</mark>\n",
              " \n",
              "<mark class=\"entity\" style=\"background: #ddd; padding: 0.45em 0.6em; margin: 0 0.25em; line-height: 1; border-radius: 0.35em;\">\n",
              "    gene\n",
              "    <span style=\"font-size: 0.8em; font-weight: bold; line-height: 1; border-radius: 0.35em; text-transform: uppercase; vertical-align: middle; margin-left: 0.5rem\">I_disease</span>\n",
              "</mark>\n",
              " \n",
              "<mark class=\"entity\" style=\"background: #ddd; padding: 0.45em 0.6em; margin: 0 0.25em; line-height: 1; border-radius: 0.35em;\">\n",
              "    promoter\n",
              "    <span style=\"font-size: 0.8em; font-weight: bold; line-height: 1; border-radius: 0.35em; text-transform: uppercase; vertical-align: middle; margin-left: 0.5rem\">I_disease</span>\n",
              "</mark>\n",
              " . </div></span>"
            ],
            "text/plain": [
              "<IPython.core.display.HTML object>"
            ]
          },
          "metadata": {
            "tags": []
          }
        },
        {
          "output_type": "stream",
          "text": [
            "plasma 20 26 B_disease\n",
            "gonadotropins 27 40 I_disease\n"
          ],
          "name": "stdout"
        },
        {
          "output_type": "display_data",
          "data": {
            "text/html": [
              "<span class=\"tex2jax_ignore\"><div class=\"entities\" style=\"line-height: 2.5; direction: ltr\">radioimmunoassay of \n",
              "<mark class=\"entity\" style=\"background: #ddd; padding: 0.45em 0.6em; margin: 0 0.25em; line-height: 1; border-radius: 0.35em;\">\n",
              "    plasma\n",
              "    <span style=\"font-size: 0.8em; font-weight: bold; line-height: 1; border-radius: 0.35em; text-transform: uppercase; vertical-align: middle; margin-left: 0.5rem\">B_disease</span>\n",
              "</mark>\n",
              " \n",
              "<mark class=\"entity\" style=\"background: #ddd; padding: 0.45em 0.6em; margin: 0 0.25em; line-height: 1; border-radius: 0.35em;\">\n",
              "    gonadotropins\n",
              "    <span style=\"font-size: 0.8em; font-weight: bold; line-height: 1; border-radius: 0.35em; text-transform: uppercase; vertical-align: middle; margin-left: 0.5rem\">I_disease</span>\n",
              "</mark>\n",
              " ; problems of specificity </div></span>"
            ],
            "text/plain": [
              "<IPython.core.display.HTML object>"
            ]
          },
          "metadata": {
            "tags": []
          }
        },
        {
          "output_type": "stream",
          "text": [
            "tat 3 6 B_disease\n",
            "gene 45 49 I_disease\n"
          ],
          "name": "stdout"
        },
        {
          "output_type": "display_data",
          "data": {
            "text/html": [
              "<span class=\"tex2jax_ignore\"><div class=\"entities\" style=\"line-height: 2.5; direction: ltr\">as \n",
              "<mark class=\"entity\" style=\"background: #ddd; padding: 0.45em 0.6em; margin: 0 0.25em; line-height: 1; border-radius: 0.35em;\">\n",
              "    tat\n",
              "    <span style=\"font-size: 0.8em; font-weight: bold; line-height: 1; border-radius: 0.35em; text-transform: uppercase; vertical-align: middle; margin-left: 0.5rem\">B_disease</span>\n",
              "</mark>\n",
              " itself dramatically increases hiv - 1 \n",
              "<mark class=\"entity\" style=\"background: #ddd; padding: 0.45em 0.6em; margin: 0 0.25em; line-height: 1; border-radius: 0.35em;\">\n",
              "    gene\n",
              "    <span style=\"font-size: 0.8em; font-weight: bold; line-height: 1; border-radius: 0.35em; text-transform: uppercase; vertical-align: middle; margin-left: 0.5rem\">I_disease</span>\n",
              "</mark>\n",
              " expression , it too is presumably regulated in the latent state , and may also be activated by mitogenic stimulation . </div></span>"
            ],
            "text/plain": [
              "<IPython.core.display.HTML object>"
            ]
          },
          "metadata": {
            "tags": []
          }
        }
      ]
    },
    {
      "cell_type": "code",
      "metadata": {
        "colab": {
          "base_uri": "https://localhost:8080/"
        },
        "id": "JloGw_7_y0nF",
        "outputId": "d0b8aa85-8810-47c6-878b-8765987ab5c0"
      },
      "source": [
        "test_dataset[1]"
      ],
      "execution_count": 22,
      "outputs": [
        {
          "output_type": "execute_result",
          "data": {
            "text/plain": [
              "('dna elements recognizing nf - y and sp1 regulate the human multidrug - resistance gene promoter . ',\n",
              " {'entities': [(25, 27, 'B_disease'),\n",
              "   (28, 29, 'I_disease'),\n",
              "   (30, 31, 'I_disease'),\n",
              "   (36, 39, 'B_disease'),\n",
              "   (53, 58, 'B_disease'),\n",
              "   (59, 68, 'I_disease'),\n",
              "   (69, 70, 'I_disease'),\n",
              "   (71, 81, 'I_disease'),\n",
              "   (82, 86, 'I_disease'),\n",
              "   (87, 95, 'I_disease')]})"
            ]
          },
          "metadata": {
            "tags": []
          },
          "execution_count": 22
        }
      ]
    }
  ]
}