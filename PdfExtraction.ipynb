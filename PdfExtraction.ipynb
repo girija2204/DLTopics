{
  "nbformat": 4,
  "nbformat_minor": 0,
  "metadata": {
    "colab": {
      "name": "PdfExtraction.ipynb",
      "provenance": [],
      "authorship_tag": "ABX9TyMPKdupiAc4cMHMt6FargLc",
      "include_colab_link": true
    },
    "kernelspec": {
      "name": "python3",
      "display_name": "Python 3"
    }
  },
  "cells": [
    {
      "cell_type": "markdown",
      "metadata": {
        "id": "view-in-github",
        "colab_type": "text"
      },
      "source": [
        "<a href=\"https://colab.research.google.com/github/girija2204/DLTopics/blob/master/PdfExtraction.ipynb\" target=\"_parent\"><img src=\"https://colab.research.google.com/assets/colab-badge.svg\" alt=\"Open In Colab\"/></a>"
      ]
    },
    {
      "cell_type": "code",
      "metadata": {
        "id": "JMt-VHreCzlL"
      },
      "source": [
        "pip show pdfplumber"
      ],
      "execution_count": null,
      "outputs": []
    },
    {
      "cell_type": "code",
      "metadata": {
        "id": "GxXvHx6tDy03"
      },
      "source": [
        "!pip install pdfplumber"
      ],
      "execution_count": null,
      "outputs": []
    },
    {
      "cell_type": "code",
      "metadata": {
        "id": "44CiIKJwDqwk"
      },
      "source": [
        "pip show requests"
      ],
      "execution_count": null,
      "outputs": []
    },
    {
      "cell_type": "code",
      "metadata": {
        "id": "lJMpKZf7D5A4"
      },
      "source": [
        "import requests\r\n",
        "import pdfplumber"
      ],
      "execution_count": 5,
      "outputs": []
    },
    {
      "cell_type": "code",
      "metadata": {
        "id": "nFzz_MbBEDiu"
      },
      "source": [
        "pdf_file_url = \"http://www.k-billing.com/example_invoices/professionalblue_example.pdf\""
      ],
      "execution_count": 8,
      "outputs": []
    },
    {
      "cell_type": "code",
      "metadata": {
        "id": "OqRJN014EKof"
      },
      "source": [
        "def download_file(file_url):\r\n",
        "  local_filename = file_url.split(\"/\")[-1]\r\n",
        "  with requests.get(file_url) as r:\r\n",
        "    with open(local_filename, 'wb') as f:\r\n",
        "      f.write(r.content)\r\n",
        "\r\n",
        "  return local_filename"
      ],
      "execution_count": 22,
      "outputs": []
    },
    {
      "cell_type": "code",
      "metadata": {
        "id": "JrGIdqlJFjGe"
      },
      "source": [
        "local_filename = download_file(pdf_file_url)"
      ],
      "execution_count": 23,
      "outputs": []
    },
    {
      "cell_type": "code",
      "metadata": {
        "colab": {
          "base_uri": "https://localhost:8080/",
          "height": 35
        },
        "id": "KVzvG9B_JYCw",
        "outputId": "13871036-682d-45dc-94cc-87137b8b0afa"
      },
      "source": [
        "local_filename"
      ],
      "execution_count": 24,
      "outputs": [
        {
          "output_type": "execute_result",
          "data": {
            "application/vnd.google.colaboratory.intrinsic+json": {
              "type": "string"
            },
            "text/plain": [
              "'professionalblue_example.pdf'"
            ]
          },
          "metadata": {
            "tags": []
          },
          "execution_count": 24
        }
      ]
    },
    {
      "cell_type": "code",
      "metadata": {
        "id": "bZVzawaAJt2L"
      },
      "source": [
        "with pdfplumber.open(local_filename) as pdf:\r\n",
        "  page = pdf.pages[0]\r\n",
        "  text = page.extract_text()"
      ],
      "execution_count": 25,
      "outputs": []
    },
    {
      "cell_type": "code",
      "metadata": {
        "colab": {
          "base_uri": "https://localhost:8080/"
        },
        "id": "FBVOJJ4FJ1-5",
        "outputId": "d8642a4b-df0e-4f64-e5aa-954525644cfb"
      },
      "source": [
        "print(text)"
      ],
      "execution_count": 27,
      "outputs": [
        {
          "output_type": "stream",
          "text": [
            "INVOICE\n",
            "Invoice No. I1083\n",
            "Account # C1006\n",
            "Date 08-14-2008\n",
            "Due By 08-31-2008\n",
            "Demo Company\n",
            "Phone : 111-222-3333 Terms None\n",
            "1234 Main Street E-Mail : 333-444-4444 PO No. PO1234\n",
            "Ashland, KY 41102 Web : http://www.ksoftware.net Sales Rep SalesPerson1\n",
            "Bill To Ship To\n",
            "Test Customer Test Customer\n",
            "1234 Main Street 1234 Main Street\n",
            "Ashland, KY 41101 Ashland,  41101\n",
            "CCooddee DDeessccrriippttiioonn QTY Price Line Total\n",
            "SKU1222 Test Import Name - Description Goes Here 1 $10.00 $10.00\n",
            "Labor - Example labor item. Quantity is number of hours spent,  1.5 $100.00 $150.00\n",
            "price is hourly rate. Quantity accepts decimal values.\n",
            "Notes\n",
            "An invoice note can go here. Multi-line and even multi-page notes are supported.\n",
            "PPaayymmeenntt  DDeettaaiillss\n",
            "Subtotal $160.00\n",
            "Shipping$10.00 Tax $0.78\n",
            "UPS Ground Total $170.78\n",
            "Payments (-) $0.00\n",
            "Balance Due $170.78\n",
            "An invoice footer can go here\n"
          ],
          "name": "stdout"
        }
      ]
    },
    {
      "cell_type": "code",
      "metadata": {
        "id": "9AmMoZyqKG7F"
      },
      "source": [
        "for row in text.split('\\n'):\r\n",
        "  if row.startswith('Balance Due'):\r\n",
        "    balance = row.split()[-1]"
      ],
      "execution_count": 30,
      "outputs": []
    },
    {
      "cell_type": "code",
      "metadata": {
        "colab": {
          "base_uri": "https://localhost:8080/"
        },
        "id": "DhiR_DmQKS_z",
        "outputId": "2878b8ac-1252-40cc-cb35-59727a9b951d"
      },
      "source": [
        "balance"
      ],
      "execution_count": 29,
      "outputs": [
        {
          "output_type": "execute_result",
          "data": {
            "text/plain": [
              "['Balance', 'Due', '$170.78']"
            ]
          },
          "metadata": {
            "tags": []
          },
          "execution_count": 29
        }
      ]
    }
  ]
}