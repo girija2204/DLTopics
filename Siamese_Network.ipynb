{
  "nbformat": 4,
  "nbformat_minor": 0,
  "metadata": {
    "colab": {
      "name": "Siamese Network.ipynb",
      "provenance": [],
      "collapsed_sections": [],
      "mount_file_id": "1yPDlojq2BOpkX_DWU5kelYlJw2TlGG78",
      "authorship_tag": "ABX9TyOhkXjdms5t0fYoZ1VhK19y",
      "include_colab_link": true
    },
    "kernelspec": {
      "name": "python3",
      "display_name": "Python 3"
    },
    "accelerator": "TPU"
  },
  "cells": [
    {
      "cell_type": "markdown",
      "metadata": {
        "id": "view-in-github",
        "colab_type": "text"
      },
      "source": [
        "<a href=\"https://colab.research.google.com/github/girija2204/DLTopics/blob/master/Siamese_Network.ipynb\" target=\"_parent\"><img src=\"https://colab.research.google.com/assets/colab-badge.svg\" alt=\"Open In Colab\"/></a>"
      ]
    },
    {
      "cell_type": "code",
      "metadata": {
        "id": "ETBhMoAjfjUN"
      },
      "source": [
        "from tensorflow.keras.models import Model\r\n",
        "from tensorflow.keras.layers import Dense, Conv2D, MaxPooling2D, Dropout, Input, GlobalAveragePooling2D, Lambda\r\n",
        "import tensorflow.keras.backend as k\r\n",
        "from sklearn import datasets\r\n",
        "import numpy as np\r\n",
        "import matplotlib.pyplot as plt\r\n",
        "import cv2"
      ],
      "execution_count": null,
      "outputs": []
    },
    {
      "cell_type": "code",
      "metadata": {
        "id": "Y7nzqIoufw0K"
      },
      "source": [
        "def get_data(dataset, count=None, same_label=False, label=None, categories=None):\r\n",
        "  images = dataset.images\r\n",
        "  targets = dataset.target\r\n",
        "  if count is None:\r\n",
        "    return images, targets"
      ],
      "execution_count": null,
      "outputs": []
    },
    {
      "cell_type": "code",
      "metadata": {
        "id": "n4qlcp86dnUc"
      },
      "source": [
        "def generate_train_image_pairs(images_dataset, labels_dataset):\r\n",
        "    unique_labels = np.unique(labels_dataset)\r\n",
        "    label_wise_indices = dict()\r\n",
        "    for label in unique_labels:\r\n",
        "        label_wise_indices.setdefault(label,\r\n",
        "                                      [index for index, curr_label in enumerate(labels_dataset) if\r\n",
        "                                       label == curr_label])\r\n",
        "    \r\n",
        "    pair_images = []\r\n",
        "    pair_labels = []\r\n",
        "    for index, image in enumerate(images_dataset):\r\n",
        "        pos_indices = label_wise_indices.get(labels_dataset[index])\r\n",
        "        pos_image = images_dataset[np.random.choice(pos_indices)]\r\n",
        "        pair_images.append((image, pos_image))\r\n",
        "        pair_labels.append(1)\r\n",
        "\r\n",
        "        neg_indices = np.where(labels_dataset != labels_dataset[index])\r\n",
        "        neg_image = images_dataset[np.random.choice(neg_indices[0])]\r\n",
        "        pair_images.append((image, neg_image))\r\n",
        "        pair_labels.append(0)\r\n",
        "    return np.array(pair_images), np.array(pair_labels)"
      ],
      "execution_count": null,
      "outputs": []
    },
    {
      "cell_type": "code",
      "metadata": {
        "id": "LUWKlrT5dUJR"
      },
      "source": [
        "def generate_test_image_pairs(images_dataset, labels_dataset, image):\r\n",
        "    unique_labels = np.unique(labels_dataset)\r\n",
        "    label_wise_indices = dict()\r\n",
        "    for label in unique_labels:\r\n",
        "        label_wise_indices.setdefault(label,\r\n",
        "                                      [index for index, curr_label in enumerate(labels_dataset) if\r\n",
        "                                        label == curr_label])\r\n",
        "  \r\n",
        "    pair_images = []\r\n",
        "    pair_labels = []\r\n",
        "    for label, indices_for_label in label_wise_indices.items():\r\n",
        "        test_image = images_dataset[np.random.choice(indices_for_label)]\r\n",
        "        pair_images.append((image, test_image))\r\n",
        "        pair_labels.append(label)\r\n",
        "    return np.array(pair_images), np.array(pair_labels)"
      ],
      "execution_count": null,
      "outputs": []
    },
    {
      "cell_type": "code",
      "metadata": {
        "id": "UCcreIu3dwIC"
      },
      "source": [
        "def create_model():\r\n",
        "    inputs = Input((64, 64, 1))\r\n",
        "    x = Conv2D(96, (11, 11), padding=\"same\", activation=\"relu\")(inputs)\r\n",
        "    x = MaxPooling2D(pool_size=(2, 2))(x)\r\n",
        "    x = Dropout(0.3)(x)\r\n",
        "\r\n",
        "    x = Conv2D(256, (5, 5), padding=\"same\", activation=\"relu\")(x)\r\n",
        "    x = MaxPooling2D(pool_size=(2, 2))(x)\r\n",
        "    x = Dropout(0.3)(x)\r\n",
        "\r\n",
        "    x = Conv2D(384, (3, 3), padding=\"same\", activation=\"relu\")(x)\r\n",
        "    x = MaxPooling2D(pool_size=(2, 2))(x)\r\n",
        "    x = Dropout(0.3)(x)\r\n",
        "\r\n",
        "    pooledOutput = GlobalAveragePooling2D()(x)\r\n",
        "    pooledOutput = Dense(1024)(pooledOutput)\r\n",
        "    outputs = Dense(128)(pooledOutput)\r\n",
        "\r\n",
        "    model = Model(inputs, outputs)\r\n",
        "    return model"
      ],
      "execution_count": null,
      "outputs": []
    },
    {
      "cell_type": "code",
      "metadata": {
        "id": "3FNPCFkPd0nh"
      },
      "source": [
        "def euclidean_distance(vectors):\r\n",
        "    (featA, featB) = vectors\r\n",
        "    sum_squared = k.sum(k.square(featA - featB), axis=1, keepdims=True)\r\n",
        "    return k.sqrt(k.maximum(sum_squared, k.epsilon()))"
      ],
      "execution_count": null,
      "outputs": []
    },
    {
      "cell_type": "code",
      "metadata": {
        "id": "EMtRJE7ld94Z"
      },
      "source": [
        "feature_extractor = create_model()\r\n",
        "imgA = Input(shape=(64, 64, 1))\r\n",
        "imgB = Input(shape=(64, 64, 1))\r\n",
        "featA = feature_extractor(imgA)\r\n",
        "featB = feature_extractor(imgB)\r\n",
        "\r\n",
        "distance = Lambda(euclidean_distance)([featA, featB])\r\n",
        "outputs = Dense(1, activation=\"sigmoid\")(distance)\r\n",
        "model = Model(inputs=[imgA, imgB], outputs=outputs)"
      ],
      "execution_count": null,
      "outputs": []
    },
    {
      "cell_type": "code",
      "metadata": {
        "id": "0WEpZcC0eqZ6",
        "colab": {
          "base_uri": "https://localhost:8080/"
        },
        "outputId": "22d9e492-d34d-48e8-ce5c-837d22f1f86f"
      },
      "source": [
        "ol_faces = datasets.fetch_olivetti_faces()\r\n",
        "ol_images, ol_targets = get_data(dataset=ol_faces)"
      ],
      "execution_count": null,
      "outputs": [
        {
          "output_type": "stream",
          "text": [
            "downloading Olivetti faces from https://ndownloader.figshare.com/files/5976027 to /root/scikit_learn_data\n"
          ],
          "name": "stdout"
        }
      ]
    },
    {
      "cell_type": "code",
      "metadata": {
        "id": "PianD53sevwT"
      },
      "source": [
        "images_dataset = ol_images\r\n",
        "labels_dataset = ol_targets"
      ],
      "execution_count": null,
      "outputs": []
    },
    {
      "cell_type": "code",
      "metadata": {
        "id": "8Vt4ggd0g94B"
      },
      "source": [
        "images_pair, labels_pair = generate_train_image_pairs(images_dataset, labels_dataset)"
      ],
      "execution_count": null,
      "outputs": []
    },
    {
      "cell_type": "code",
      "metadata": {
        "id": "HcYkxE-CwDb1"
      },
      "source": [
        "fig = plt.figure(figsize=(1,2))\r\n",
        "fig.add_subplot(1,2,1)\r\n",
        "plt.imshow(images_pair[1,0], cmap=\"gray\")\r\n",
        "fig.add_subplot(1,2,2)\r\n",
        "plt.imshow(images_pair[1,1], cmap=\"gray\")\r\n",
        "plt.show()"
      ],
      "execution_count": null,
      "outputs": []
    },
    {
      "cell_type": "code",
      "metadata": {
        "id": "dwk2pv-YBCxd"
      },
      "source": [
        "def plot_training(H, plotPath):\r\n",
        "\t# construct a plot that plots and saves the training history\r\n",
        "\tplt.style.use(\"ggplot\")\r\n",
        "\tplt.figure()\r\n",
        "\tplt.plot(H.history[\"loss\"], label=\"train_loss\")\r\n",
        "\tplt.plot(H.history[\"val_loss\"], label=\"val_loss\")\r\n",
        "\tplt.plot(H.history[\"accuracy\"], label=\"train_acc\")\r\n",
        "\tplt.plot(H.history[\"val_accuracy\"], label=\"val_acc\")\r\n",
        "\tplt.title(\"Training Loss and Accuracy\")\r\n",
        "\tplt.xlabel(\"Epoch #\")\r\n",
        "\tplt.ylabel(\"Loss/Accuracy\")\r\n",
        "\tplt.legend(loc=\"lower left\")\r\n",
        "\tplt.savefig(plotPath)"
      ],
      "execution_count": null,
      "outputs": []
    },
    {
      "cell_type": "code",
      "metadata": {
        "id": "M_bVUX7leIkf"
      },
      "source": [
        "model.compile(loss=\"binary_crossentropy\", optimizer=\"adam\", metrics=[\"accuracy\"])\r\n",
        "history = model.fit([images_pair[:, 0], images_pair[:, 1]], labels_pair[:],validation_split=0.25,batch_size=32,epochs=100)"
      ],
      "execution_count": null,
      "outputs": []
    },
    {
      "cell_type": "code",
      "metadata": {
        "id": "me2HgLl6B1xW",
        "colab": {
          "base_uri": "https://localhost:8080/",
          "height": 316
        },
        "outputId": "0a7b78cb-d54c-45cf-fd07-517d29698dd6"
      },
      "source": [
        "model.save(\"/content/drive/MyDrive/Colab Notebooks/models\")\r\n",
        "plot_training(history, \"/content/drive/MyDrive/Colab Notebooks/plots/plot.png\")"
      ],
      "execution_count": null,
      "outputs": [
        {
          "output_type": "stream",
          "text": [
            "INFO:tensorflow:Assets written to: /content/drive/MyDrive/Colab Notebooks/models/assets\n"
          ],
          "name": "stdout"
        },
        {
          "output_type": "display_data",
          "data": {
            "image/png": "[encoded data removed]",
            "text/plain": [
              "<Figure size 432x288 with 1 Axes>"
            ]
          },
          "metadata": {
            "tags": []
          }
        }
      ]
    },
    {
      "cell_type": "code",
      "metadata": {
        "id": "_tr4-LSQ-JU2"
      },
      "source": [
        "image = cv2.imread(\"/content/drive/MyDrive/Colab Notebooks/imgs/image1_20210118100647.png\")\r\n",
        "plt.imshow(image)\r\n",
        "plt.axis('off')\r\n",
        "plt.show()"
      ],
      "execution_count": null,
      "outputs": []
    },
    {
      "cell_type": "code",
      "metadata": {
        "colab": {
          "base_uri": "https://localhost:8080/"
        },
        "id": "0rV_DZalAUDa",
        "outputId": "49d31479-e33b-4c89-da14-c6a66fa89de0"
      },
      "source": [
        "gray_img = cv2.cvtColor(image, cv2.COLOR_BGR2GRAY)\r\n",
        "gray_img = gray_img / 255\r\n",
        "gray_img.shape"
      ],
      "execution_count": null,
      "outputs": [
        {
          "output_type": "execute_result",
          "data": {
            "text/plain": [
              "(64, 64)"
            ]
          },
          "metadata": {
            "tags": []
          },
          "execution_count": 38
        }
      ]
    },
    {
      "cell_type": "code",
      "metadata": {
        "colab": {
          "base_uri": "https://localhost:8080/"
        },
        "id": "yCakWuMlAuOS",
        "outputId": "8ef9cb20-ee97-4cf3-9732-d36af495ba5d"
      },
      "source": [
        "images_dataset[0].shape"
      ],
      "execution_count": null,
      "outputs": [
        {
          "output_type": "execute_result",
          "data": {
            "text/plain": [
              "(64, 64)"
            ]
          },
          "metadata": {
            "tags": []
          },
          "execution_count": 41
        }
      ]
    },
    {
      "cell_type": "code",
      "metadata": {
        "id": "XahnvyaXBlBP"
      },
      "source": [
        "pair_image1 = np.expand_dims(gray_img, axis=-1)\r\n",
        "pair_image1 = np.expand_dims(pair_image1, axis=0)"
      ],
      "execution_count": null,
      "outputs": []
    },
    {
      "cell_type": "code",
      "metadata": {
        "id": "wIq7nnm-Bvyy"
      },
      "source": [
        "pair_image2 = np.expand_dims(images_dataset[10], axis=-1)\r\n",
        "pair_image2 = np.expand_dims(pair_image2, axis=0)"
      ],
      "execution_count": null,
      "outputs": []
    },
    {
      "cell_type": "code",
      "metadata": {
        "colab": {
          "base_uri": "https://localhost:8080/"
        },
        "id": "ln00Cr2XBBoC",
        "outputId": "39b18e8f-d269-410d-e86c-0a207597c6b1"
      },
      "source": [
        "predictions = model.predict([pair_image1, pair_image2])\r\n",
        "predictions[0][0]"
      ],
      "execution_count": null,
      "outputs": [
        {
          "output_type": "execute_result",
          "data": {
            "text/plain": [
              "0.23747268"
            ]
          },
          "metadata": {
            "tags": []
          },
          "execution_count": 50
        }
      ]
    },
    {
      "cell_type": "code",
      "metadata": {
        "colab": {
          "base_uri": "https://localhost:8080/"
        },
        "id": "StyLD5eKCNP_",
        "outputId": "02992ed2-ce7c-40a9-88f9-8081784042e3"
      },
      "source": [
        "predictions"
      ],
      "execution_count": null,
      "outputs": [
        {
          "output_type": "execute_result",
          "data": {
            "text/plain": [
              "array([[0.23747268]], dtype=float32)"
            ]
          },
          "metadata": {
            "tags": []
          },
          "execution_count": 51
        }
      ]
    },
    {
      "cell_type": "code",
      "metadata": {
        "id": "GqKB0g1yF-Gg"
      },
      "source": [
        "test_image_pairs, test_label_pairs = generate_test_image_pairs(images_dataset, labels_dataset, gray_img)"
      ],
      "execution_count": null,
      "outputs": []
    },
    {
      "cell_type": "code",
      "metadata": {
        "id": "rRcLBC_AH1qg"
      },
      "source": [
        "def plot_face_predictions(fig, nrows, ncols, pair, index):\r\n",
        "  fig.add_subplot(nrows, ncols, 2*index-1)\r\n",
        "  plt.imshow(pair[0], cmap=\"gray\")\r\n",
        "  fig.add_subplot(nrows, ncols, 2*index)\r\n",
        "  plt.imshow(pair[1], cmap=\"gray\")\r\n",
        "  return fig"
      ],
      "execution_count": null,
      "outputs": []
    },
    {
      "cell_type": "code",
      "metadata": {
        "colab": {
          "base_uri": "https://localhost:8080/",
          "height": 161
        },
        "id": "4sFkv5UIHIJj",
        "outputId": "9db0a304-a79f-48f0-c011-2ad9df5d748b"
      },
      "source": [
        "nrows = 40\r\n",
        "ncols = 2\r\n",
        "fig = plt.figure(figsize=(nrows, ncols))\r\n",
        "for index, pair in enumerate(test_image_pairs):\r\n",
        "  fig = plot_face_predictions(fig, nrows, ncols, pair, index+1)\r\n",
        "plt.show()"
      ],
      "execution_count": null,
      "outputs": [
        {
          "output_type": "display_data",
          "data": {
            "image/png": "[encoded data removed]",
            "text/plain": [
              "<Figure size 2880x144 with 80 Axes>"
            ]
          },
          "metadata": {
            "tags": []
          }
        }
      ]
    },
    {
      "cell_type": "code",
      "metadata": {
        "id": "rVY---d3GI5J"
      },
      "source": [
        "fig = plt.figure(figsize=(3,2))\r\n",
        "fig.add_subplot(3,2,1)\r\n",
        "plt.imshow(test_pairs[0][0][0],cmap=\"gray\")\r\n",
        "fig.add_subplot(3,2,2)\r\n",
        "plt.imshow(test_pairs[0][0][1],cmap=\"gray\")\r\n",
        "fig.add_subplot(3,2,3)\r\n",
        "plt.imshow(test_pairs[0][0][0],cmap=\"gray\")\r\n",
        "fig.add_subplot(3,2,4)\r\n",
        "plt.imshow(test_pairs[0][0][1],cmap=\"gray\")\r\n",
        "fig.add_subplot(3,2,5)\r\n",
        "plt.imshow(test_pairs[0][0][0],cmap=\"gray\")\r\n",
        "fig.add_subplot(3,2,6)\r\n",
        "plt.imshow(test_pairs[0][0][1],cmap=\"gray\")\r\n",
        "plt.show()"
      ],
      "execution_count": null,
      "outputs": []
    }
  ]
}