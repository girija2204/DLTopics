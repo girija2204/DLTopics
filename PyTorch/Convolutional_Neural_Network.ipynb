{
  "nbformat": 4,
  "nbformat_minor": 0,
  "metadata": {
    "colab": {
      "name": "PyTorch - Convolutional Neural Network.ipynb",
      "provenance": [],
      "authorship_tag": "ABX9TyPVwchPLjNpfl1wkYEvVyzx",
      "include_colab_link": true
    },
    "kernelspec": {
      "name": "python3",
      "display_name": "Python 3"
    },
    "language_info": {
      "name": "python"
    },
    "accelerator": "GPU"
  },
  "cells": [
    {
      "cell_type": "markdown",
      "metadata": {
        "id": "view-in-github",
        "colab_type": "text"
      },
      "source": [
        "<a href=\"https://colab.research.google.com/github/girija2204/DLTopics/blob/master/PyTorch/Convolutional_Neural_Network.ipynb\" target=\"_parent\"><img src=\"https://colab.research.google.com/assets/colab-badge.svg\" alt=\"Open In Colab\"/></a>"
      ]
    },
    {
      "cell_type": "code",
      "metadata": {
        "id": "4oto22BouM6w"
      },
      "source": [
        "import torch\n",
        "import torchvision.datasets as datasets\n",
        "from torch.utils.data import DataLoader\n",
        "import torchvision.transforms as transforms\n",
        "import torch.nn as nn\n",
        "import torch.optim as optim\n",
        "import torch.nn.functional as F\n",
        "from torchsummary import summary"
      ],
      "execution_count": 26,
      "outputs": []
    },
    {
      "cell_type": "code",
      "metadata": {
        "id": "Zmi6jFFcupRl"
      },
      "source": [
        "train_data=datasets.MNIST(root='dataset/',train=True,transform=transforms.ToTensor(),download=True)\n",
        "test_data=datasets.MNIST(root='dataset/',train=False,transform=transforms.ToTensor(),download=True)\n",
        "train_loader=DataLoader(dataset=train_data,batch_size=128,shuffle=True)\n",
        "test_loader=DataLoader(dataset=test_data,batch_size=128,shuffle=True)"
      ],
      "execution_count": null,
      "outputs": []
    },
    {
      "cell_type": "code",
      "metadata": {
        "id": "C7A9hbwyviFc"
      },
      "source": [
        "DEVICE=torch.device(\"cuda\" if torch.cuda.is_available() else \"cpu\")"
      ],
      "execution_count": 3,
      "outputs": []
    },
    {
      "cell_type": "code",
      "metadata": {
        "id": "HsBZhBQIH82L"
      },
      "source": [
        "learning_rate=0.001\n",
        "epochs=20"
      ],
      "execution_count": 27,
      "outputs": []
    },
    {
      "cell_type": "code",
      "metadata": {
        "id": "MkSdmUG4vuPS"
      },
      "source": [
        "class CNN(nn.Module):\n",
        "  def __init__(self,in_channels=1,num_classes=10):\n",
        "    super(CNN,self).__init__()\n",
        "    self.conv1=nn.Conv2d(in_channels=in_channels,out_channels=8,kernel_size=(3,3),stride=(1,1),padding=(1,1))\n",
        "    self.pool1=nn.MaxPool2d(kernel_size=(2,2),stride=(2,2))\n",
        "    self.conv2=nn.Conv2d(in_channels=8,out_channels=16,kernel_size=(3,3),stride=(1,1),padding=(1,1))\n",
        "    self.fc1=nn.Linear(16*7*7,num_classes)\n",
        "\n",
        "  def forward(self,x):\n",
        "    x=F.relu(self.conv1(x))\n",
        "    x=self.pool1(x)\n",
        "    x=F.relu(self.conv2(x))\n",
        "    x=self.pool1(x)\n",
        "    x=x.reshape(x.shape[0],-1)\n",
        "    x=self.fc1(x)\n",
        "    return x"
      ],
      "execution_count": 20,
      "outputs": []
    },
    {
      "cell_type": "code",
      "metadata": {
        "id": "NL58Am9-xxSj"
      },
      "source": [
        "model=CNN().to(DEVICE)\n",
        "criterion=nn.CrossEntropyLoss()\n",
        "optimizer=optim.Adam(model.parameters(),lr=learning_rate)"
      ],
      "execution_count": 28,
      "outputs": []
    },
    {
      "cell_type": "code",
      "metadata": {
        "id": "6Zk55n0BJP3n"
      },
      "source": [
        "for epoch in range(epochs):\n",
        "  for batch_idx, (data, target) in enumerate(train_loader):\n",
        "    data=data.to(DEVICE)\n",
        "    target=target.to(DEVICE)\n",
        "    scores=model(data)\n",
        "    loss=criterion(scores,target)\n",
        "    optimizer.zero_grad()\n",
        "    loss.backward()\n",
        "    optimizer.step()"
      ],
      "execution_count": 29,
      "outputs": []
    },
    {
      "cell_type": "code",
      "metadata": {
        "id": "FRL1NNwNyO4b"
      },
      "source": [
        "def check_accuracy(loader,model):\n",
        "  if loader.dataset.train:\n",
        "    print(f\"Checking accuracy for the train data\")\n",
        "  else:\n",
        "    print(f\"Checking accuracy for the test data\")\n",
        "\n",
        "  num_correct = 0\n",
        "  num_total = 0\n",
        "  model.eval()\n",
        "  \n",
        "  with torch.no_grad():\n",
        "    for data,target in loader:\n",
        "      data=data.to(DEVICE)\n",
        "      target=target.to(DEVICE)\n",
        "      scores=model(data)\n",
        "      _,predictions=scores.max(1)\n",
        "      num_correct+=(predictions==target).sum()\n",
        "      num_total+=predictions.shape[0]\n",
        "  print(f\"Accuracy: {(num_correct/num_total)*100:2f}\")\n",
        "  model.train()"
      ],
      "execution_count": 32,
      "outputs": []
    },
    {
      "cell_type": "code",
      "metadata": {
        "colab": {
          "base_uri": "https://localhost:8080/"
        },
        "id": "E5dJz7BrB3M8",
        "outputId": "f663d2e0-43aa-4d66-8310-5f7fe3b3acb1"
      },
      "source": [
        "check_accuracy(train_loader,model)\n",
        "check_accuracy(test_loader,model)"
      ],
      "execution_count": 33,
      "outputs": [
        {
          "output_type": "stream",
          "text": [
            "Checking accuracy for the train data\n",
            "Accuracy: 99.446663\n",
            "Checking accuracy for the test data\n",
            "Accuracy: 98.709991\n"
          ],
          "name": "stdout"
        }
      ]
    },
    {
      "cell_type": "code",
      "metadata": {
        "id": "AeqVWoA1B6Gb"
      },
      "source": [
        ""
      ],
      "execution_count": null,
      "outputs": []
    }
  ]
}