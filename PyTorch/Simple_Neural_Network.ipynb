{
  "nbformat": 4,
  "nbformat_minor": 0,
  "metadata": {
    "colab": {
      "name": "Simple Neural Network.ipynb",
      "provenance": [],
      "collapsed_sections": [],
      "authorship_tag": "ABX9TyNrfFWydoExcAn9U8XkLY/e",
      "include_colab_link": true
    },
    "kernelspec": {
      "name": "python3",
      "display_name": "Python 3"
    },
    "language_info": {
      "name": "python"
    },
    "accelerator": "GPU"
  },
  "cells": [
    {
      "cell_type": "markdown",
      "metadata": {
        "id": "view-in-github",
        "colab_type": "text"
      },
      "source": [
        "<a href=\"https://colab.research.google.com/github/girija2204/DLTopics/blob/master/PyTorch/Simple_Neural_Network.ipynb\" target=\"_parent\"><img src=\"https://colab.research.google.com/assets/colab-badge.svg\" alt=\"Open In Colab\"/></a>"
      ]
    },
    {
      "cell_type": "code",
      "metadata": {
        "id": "K9mJPL9o0c4G"
      },
      "source": [
        "import torch\n",
        "import torch.nn as nn\n",
        "import torch.nn.functional as F\n",
        "import torchvision.datasets as datasets\n",
        "import torchvision.transforms as transforms\n",
        "import torch.optim as optim\n",
        "from torch.utils.data import DataLoader\n",
        "import matplotlib.pyplot as plt"
      ],
      "execution_count": null,
      "outputs": []
    },
    {
      "cell_type": "code",
      "metadata": {
        "id": "e1IToz972RBr"
      },
      "source": [
        "train_data=datasets.MNIST(root='dataset/',train=True,transform=transforms.ToTensor(),download=True)\n",
        "test_data=datasets.MNIST(root='dataset/',train=False,transform=transforms.ToTensor(),download=True)"
      ],
      "execution_count": null,
      "outputs": []
    },
    {
      "cell_type": "code",
      "metadata": {
        "id": "isc4nlqv2-kS"
      },
      "source": [
        "train_loader=DataLoader(dataset=train_data,batch_size=64,shuffle=True)\n",
        "test_loader=DataLoader(dataset=test_data,batch_size=64,shuffle=True)"
      ],
      "execution_count": null,
      "outputs": []
    },
    {
      "cell_type": "code",
      "metadata": {
        "id": "RZUVkpwC5tXi"
      },
      "source": [
        "DEVICE=torch.device('cuda' if torch.cuda.is_available() else 'cpu')"
      ],
      "execution_count": null,
      "outputs": []
    },
    {
      "cell_type": "code",
      "metadata": {
        "id": "tyHuBFtn5yYb"
      },
      "source": [
        "class NN(nn.Module):\n",
        "  def __init__(self,input_size,num_classes):\n",
        "    super(NN,self).__init__()\n",
        "    self.fc1=nn.Linear(in_features=input_size,out_features=60)\n",
        "    self.fc2=nn.Linear(in_features=60,out_features=num_classes)\n",
        "  \n",
        "  def forward(self,x):\n",
        "    x=F.relu(self.fc1(x))\n",
        "    x=self.fc2(x)\n",
        "    return x"
      ],
      "execution_count": null,
      "outputs": []
    },
    {
      "cell_type": "code",
      "metadata": {
        "id": "lpt4cmD7GtHU"
      },
      "source": [
        "input_size=784\n",
        "output_size=10\n",
        "num_epochs=20\n",
        "learning_rate=0.001"
      ],
      "execution_count": null,
      "outputs": []
    },
    {
      "cell_type": "code",
      "metadata": {
        "id": "N9xVpp1C53Xr"
      },
      "source": [
        "model=NN(input_size=input_size,num_classes=output_size).to(DEVICE)\n",
        "criterion=nn.CrossEntropyLoss()\n",
        "optimizer=optim.Adam(model.parameters(),lr=learning_rate)"
      ],
      "execution_count": null,
      "outputs": []
    },
    {
      "cell_type": "code",
      "metadata": {
        "id": "-6JumG6TG5nr"
      },
      "source": [
        "for epoch in range(num_epochs):\n",
        "  for batch_idx, (data, target) in enumerate(train_loader):\n",
        "    data=data.to(DEVICE)\n",
        "    target=target.to(DEVICE)\n",
        "\n",
        "    data=data.reshape(data.shape[0],-1)\n",
        "\n",
        "    scores=model(data)\n",
        "    loss=criterion(scores,target)\n",
        "\n",
        "    optimizer.zero_grad()\n",
        "    loss.backward()\n",
        "\n",
        "    optimizer.step()"
      ],
      "execution_count": null,
      "outputs": []
    },
    {
      "cell_type": "code",
      "metadata": {
        "id": "mqjV92XyG3V7"
      },
      "source": [
        "def check_accuracy(loader,model):\n",
        "  if loader.dataset.train:\n",
        "    print(f\"Checking accuracy for training set\")\n",
        "  else:\n",
        "    print(f\"Checking accuracy for testing set\")\n",
        "  num_correct=0\n",
        "  num_samples=0\n",
        "  model.eval()\n",
        "  with torch.no_grad():\n",
        "    for data,target in loader:\n",
        "      data=data.to(DEVICE)\n",
        "      target=target.to(DEVICE)\n",
        "      data=data.reshape(data.shape[0],-1)\n",
        "      scores=model(data)\n",
        "      _,predictions=scores.max(1)\n",
        "      num_correct+=(predictions==target).sum()\n",
        "      num_samples+=predictions.size(0)\n",
        "    print(f\"Got {num_correct}/{num_samples} accuracy: {(num_correct/num_samples)*100:.2f}\")\n",
        "  model.train()"
      ],
      "execution_count": null,
      "outputs": []
    },
    {
      "cell_type": "code",
      "metadata": {
        "colab": {
          "base_uri": "https://localhost:8080/"
        },
        "id": "Q5Ig8-j2I0kT",
        "outputId": "1cc042b0-a315-4971-9036-9944ba05635b"
      },
      "source": [
        "check_accuracy(train_loader,model)\n",
        "check_accuracy(test_loader,model)"
      ],
      "execution_count": null,
      "outputs": [
        {
          "output_type": "stream",
          "text": [
            "Checking accuracy for training set\n",
            "Got 59733/60000 accuracy: 99.56\n",
            "Checking accuracy for testing set\n",
            "Got 9720/10000 accuracy: 97.20\n"
          ],
          "name": "stdout"
        }
      ]
    },
    {
      "cell_type": "code",
      "metadata": {
        "id": "r66nM1JvJoGL"
      },
      "source": [
        ""
      ],
      "execution_count": null,
      "outputs": []
    }
  ]
}