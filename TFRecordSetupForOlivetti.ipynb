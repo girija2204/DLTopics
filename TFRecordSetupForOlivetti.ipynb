{
  "nbformat": 4,
  "nbformat_minor": 0,
  "metadata": {
    "colab": {
      "name": "TFRecordSetupForOlivetti.ipynb",
      "provenance": [],
      "collapsed_sections": [],
      "authorship_tag": "ABX9TyPOXtMMyrV/odVfBiPS12vr",
      "include_colab_link": true
    },
    "kernelspec": {
      "name": "python3",
      "display_name": "Python 3"
    }
  },
  "cells": [
    {
      "cell_type": "markdown",
      "metadata": {
        "id": "view-in-github",
        "colab_type": "text"
      },
      "source": [
        "<a href=\"https://colab.research.google.com/github/girija2204/DLTopics/blob/master/TFRecordSetupForOlivetti.ipynb\" target=\"_parent\"><img src=\"https://colab.research.google.com/assets/colab-badge.svg\" alt=\"Open In Colab\"/></a>"
      ]
    },
    {
      "cell_type": "code",
      "metadata": {
        "id": "mVkSQPtFPyfJ"
      },
      "source": [
        "CUT_FACE_IMG_LENGTH = 64\r\n",
        "CUT_FACE_IMG_BREADTH = 64"
      ],
      "execution_count": null,
      "outputs": []
    },
    {
      "cell_type": "code",
      "metadata": {
        "id": "b7zU6QCWPVq9"
      },
      "source": [
        "ol_faces = datasets.fetch_olivetti_faces()"
      ],
      "execution_count": null,
      "outputs": []
    },
    {
      "cell_type": "code",
      "metadata": {
        "id": "lAHJWOkJP-H4"
      },
      "source": [
        "def _int64_feature(value):\r\n",
        "    return tf.train.Feature(int64_list=tf.train.Int64List(value=[value]))"
      ],
      "execution_count": null,
      "outputs": []
    },
    {
      "cell_type": "code",
      "metadata": {
        "id": "v2pEIb5mP8w-"
      },
      "source": [
        "def _float_list_feature(value):\r\n",
        "    return tf.train.Feature(float_list=tf.train.FloatList(value=value))"
      ],
      "execution_count": null,
      "outputs": []
    },
    {
      "cell_type": "code",
      "metadata": {
        "id": "jCVGEYj7P4FG"
      },
      "source": [
        "def convert_toexample(row):\r\n",
        "    feature_dict = {}\r\n",
        "    image_tensor, label = row\r\n",
        "    feature_dict['image'] = _float_list_feature(image_tensor)\r\n",
        "    feature_dict['label'] = _int64_feature(label)\r\n",
        "    example = tf.train.Example(features=tf.train.Features(feature=feature_dict))\r\n",
        "    return example"
      ],
      "execution_count": null,
      "outputs": []
    },
    {
      "cell_type": "code",
      "metadata": {
        "id": "-8o0kmY9PShA"
      },
      "source": [
        "def convert_to_tfrecord(images: np.ndarray, labels: np.ndarray):\r\n",
        "    writer = tf.io.TFRecordWriter(get_tfrecords_file())\r\n",
        "    write_count = 0\r\n",
        "    for i in range(0, images.shape[0]):\r\n",
        "        image = np.reshape(images[i],\r\n",
        "                           [CUT_FACE_IMG_LENGTH * CUT_FACE_IMG_BREADTH, ])\r\n",
        "        row = (image, labels[i])\r\n",
        "        example = convert_toexample(row)\r\n",
        "        writer.write(example.SerializeToString())\r\n",
        "        write_count = write_count + 1\r\n",
        "    print(f\"Number of images {write_count}, saved into location: {get_tfrecords_file()} as tfrecords.\")"
      ],
      "execution_count": null,
      "outputs": []
    },
    {
      "cell_type": "code",
      "metadata": {
        "id": "rWSOd_zZPbwg"
      },
      "source": [
        "def get_data(dataset):\r\n",
        "    images = dataset.images\r\n",
        "    targets = dataset.target\r\n",
        "    return images, targets"
      ],
      "execution_count": null,
      "outputs": []
    },
    {
      "cell_type": "code",
      "metadata": {
        "id": "CZUwwzg_PY-O"
      },
      "source": [
        "ol_images, ol_targets = get_data(dataset=ol_faces)"
      ],
      "execution_count": null,
      "outputs": []
    }
  ]
}