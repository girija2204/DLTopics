{
  "nbformat": 4,
  "nbformat_minor": 0,
  "metadata": {
    "colab": {
      "name": "Untitled10.ipynb",
      "provenance": [],
      "authorship_tag": "ABX9TyPdCFNCmNWv6IENJIiHf0nF",
      "include_colab_link": true
    },
    "kernelspec": {
      "name": "python3",
      "display_name": "Python 3"
    }
  },
  "cells": [
    {
      "cell_type": "markdown",
      "metadata": {
        "id": "view-in-github",
        "colab_type": "text"
      },
      "source": [
        "<a href=\"https://colab.research.google.com/github/girija2204/DLTopics/blob/master/TFRecordSetupForOlivetti.ipynb\" target=\"_parent\"><img src=\"https://colab.research.google.com/assets/colab-badge.svg\" alt=\"Open In Colab\"/></a>"
      ]
    },
    {
      "cell_type": "code",
      "metadata": {
        "id": "mVkSQPtFPyfJ"
      },
      "source": [
        "CUT_FACE_IMG_LENGTH = 64\r\n",
        "CUT_FACE_IMG_BREADTH = 64"
      ],
      "execution_count": null,
      "outputs": []
    },
    {
      "cell_type": "code",
      "metadata": {
        "id": "b7zU6QCWPVq9"
      },
      "source": [
        "ol_faces = datasets.fetch_olivetti_faces()"
      ],
      "execution_count": null,
      "outputs": []
    },
    {
      "cell_type": "code",
      "metadata": {
        "id": "lAHJWOkJP-H4"
      },
      "source": [
        "def _int64_feature(value):\r\n",
        "    return tf.train.Feature(int64_list=tf.train.Int64List(value=[value]))"
      ],
      "execution_count": null,
      "outputs": []
    },
    {
      "cell_type": "code",
      "metadata": {
        "id": "v2pEIb5mP8w-"
      },
      "source": [
        "def _float_list_feature(value):\r\n",
        "    return tf.train.Feature(float_list=tf.train.FloatList(value=value))"
      ],
      "execution_count": null,
      "outputs": []
    },
    {
      "cell_type": "code",
      "metadata": {
        "id": "jCVGEYj7P4FG"
      },
      "source": [
        "def convert_toexample(row):\r\n",
        "    feature_dict = {}\r\n",
        "    image_tensor, label = row\r\n",
        "    feature_dict['image'] = _float_list_feature(image_tensor)\r\n",
        "    feature_dict['label'] = _int64_feature(label)\r\n",
        "    example = tf.train.Example(features=tf.train.Features(feature=feature_dict))\r\n",
        "    return example"
      ],
      "execution_count": null,
      "outputs": []
    },
    {
      "cell_type": "code",
      "metadata": {
        "id": "-8o0kmY9PShA"
      },
      "source": [
        "def convert_to_tfrecord(images: np.ndarray, labels: np.ndarray):\r\n",
        "    writer = tf.io.TFRecordWriter(get_tfrecords_file())\r\n",
        "    write_count = 0\r\n",
        "    for i in range(0, images.shape[0]):\r\n",
        "        image = np.reshape(images[i],\r\n",
        "                           [CUT_FACE_IMG_LENGTH * CUT_FACE_IMG_BREADTH, ])\r\n",
        "        row = (image, labels[i])\r\n",
        "        example = convert_toexample(row)\r\n",
        "        writer.write(example.SerializeToString())\r\n",
        "        write_count = write_count + 1\r\n",
        "    print(f\"Number of images {write_count}, saved into location: {get_tfrecords_file()} as tfrecords.\")"
      ],
      "execution_count": null,
      "outputs": []
    },
    {
      "cell_type": "code",
      "metadata": {
        "id": "rWSOd_zZPbwg"
      },
      "source": [
        "def get_data(dataset, count=None, same_label=False, label=None, categories=None):\r\n",
        "    images = dataset.images\r\n",
        "    targets = dataset.target\r\n",
        "\r\n",
        "    if count is None:\r\n",
        "        return images, targets\r\n",
        "\r\n",
        "    if same_label:\r\n",
        "        if label is None:\r\n",
        "            return \"Label not provided.., It's a mandatory parameter if same_label is set to True\"\r\n",
        "        all_imgs_of_label = images[targets == label]\r\n",
        "        if len(all_imgs_of_label) >= count:\r\n",
        "            out_data = all_imgs_of_label[:count]\r\n",
        "            out_targets = np.array([label] * count, np.uint8)\r\n",
        "        else:\r\n",
        "            out_data = all_imgs_of_label\r\n",
        "            out_targets = np.array([label] * all_imgs_of_label.shape[0], np.uint8)\r\n",
        "    else:\r\n",
        "        label_wise_imgs = np.zeros(shape=(count, images[0].shape[0], images[0].shape[1]))\r\n",
        "        label_wise_tgts = np.zeros(shape=count)\r\n",
        "        for index, category in enumerate(categories):\r\n",
        "            if index == count:\r\n",
        "                break\r\n",
        "            else:\r\n",
        "                label_wise_imgs[index] = images[targets == category][0]\r\n",
        "                label_wise_tgts[index] = category\r\n",
        "        out_data = label_wise_imgs\r\n",
        "        out_targets = label_wise_tgts\r\n",
        "    return out_data, out_targets"
      ],
      "execution_count": null,
      "outputs": []
    },
    {
      "cell_type": "code",
      "metadata": {
        "id": "CZUwwzg_PY-O"
      },
      "source": [
        "ol_images, ol_targets = get_data(dataset=ol_faces)"
      ],
      "execution_count": null,
      "outputs": []
    }
  ]
}