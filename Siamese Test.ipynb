{
  "nbformat": 4,
  "nbformat_minor": 0,
  "metadata": {
    "colab": {
      "name": "Untitled10.ipynb",
      "provenance": [],
      "authorship_tag": "ABX9TyOwvY4axu8oKcfio7rFoog4",
      "include_colab_link": true
    },
    "kernelspec": {
      "name": "python3",
      "display_name": "Python 3"
    }
  },
  "cells": [
    {
      "cell_type": "markdown",
      "metadata": {
        "id": "view-in-github",
        "colab_type": "text"
      },
      "source": [
        "<a href=\"https://colab.research.google.com/github/girija2204/DLTopics/blob/master/Siamese%20Test.ipynb\" target=\"_parent\"><img src=\"https://colab.research.google.com/assets/colab-badge.svg\" alt=\"Open In Colab\"/></a>"
      ]
    },
    {
      "cell_type": "code",
      "metadata": {
        "id": "a3RRPPfOQddG"
      },
      "source": [
        "import math\r\n",
        "from tensorflow.keras.models import load_model\r\n",
        "import tensorflow.keras.backend as k\r\n",
        "from sklearn import datasets\r\n",
        "import numpy as np\r\n",
        "import matplotlib.pyplot as plt\r\n",
        "import cv2\r\n",
        "import time"
      ],
      "execution_count": null,
      "outputs": []
    },
    {
      "cell_type": "code",
      "metadata": {
        "id": "rakQ5XW-Qfm1"
      },
      "source": [
        "def plot_face_predictions(pair, prediction, index):\r\n",
        "    rounded_pred = round(prediction, 1)\r\n",
        "    concatenated_img = np.concatenate((pair[0], pair[1]), axis=1)\r\n",
        "    concatenated_img = cv2.resize(concatenated_img, (448, 224), interpolation=cv2.INTER_CUBIC)\r\n",
        "    concatenated_img = np.float32(concatenated_img)\r\n",
        "    concatenated_img = cv2.cvtColor(concatenated_img, cv2.COLOR_GRAY2RGB)\r\n",
        "    if rounded_pred >= 0.5:\r\n",
        "        cv2.putText(concatenated_img, f\"Positive Match\",\r\n",
        "                    (10 + math.ceil(concatenated_img.shape[0] / 2), 0 + math.ceil(concatenated_img.shape[1] / 2)-30),\r\n",
        "                    cv2.FONT_HERSHEY_COMPLEX, 1, (0, 255, 0), 1)\r\n",
        "        cv2.putText(concatenated_img, f\"Similarity: {str(rounded_pred)}\",\r\n",
        "                    (10 + math.ceil(concatenated_img.shape[0] / 2), 0 + math.ceil(concatenated_img.shape[1] / 2)),\r\n",
        "                    cv2.FONT_HERSHEY_COMPLEX, 1, (0, 255, 0), 1)\r\n",
        "    else:\r\n",
        "        cv2.putText(concatenated_img, f\"Similarity: {str(rounded_pred)}\",\r\n",
        "                    (60 + math.ceil(concatenated_img.shape[0] / 2), 0 + math.ceil(concatenated_img.shape[1] / 2)),\r\n",
        "                    cv2.FONT_HERSHEY_COMPLEX, 1 / 2, (255, 0, 0), 1)\r\n",
        "    cv2.namedWindow('image1', cv2.WINDOW_GUI_NORMAL)\r\n",
        "    cv2.imshow(\"image1\", concatenated_img)\r\n",
        "    if prediction >= 0.5:\r\n",
        "        cv2.waitKey(1000)\r\n",
        "    else:\r\n",
        "        cv2.waitKey(500)"
      ],
      "execution_count": null,
      "outputs": []
    },
    {
      "cell_type": "code",
      "metadata": {
        "id": "t2oi5rNTQkTh"
      },
      "source": [
        "def generate_test_image_pairs(images_dataset, labels_dataset, image):\r\n",
        "    unique_labels = np.unique(labels_dataset)\r\n",
        "    label_wise_indices = dict()\r\n",
        "    for label in unique_labels:\r\n",
        "        label_wise_indices.setdefault(label,\r\n",
        "                                      [index for index, curr_label in enumerate(labels_dataset) if\r\n",
        "                                       label == curr_label])\r\n",
        "    pair_images = []\r\n",
        "    pair_labels = []\r\n",
        "    for label, indices_for_label in label_wise_indices.items():\r\n",
        "        test_image = images_dataset[np.random.choice(indices_for_label)]\r\n",
        "        pair_images.append((image, test_image))\r\n",
        "        pair_labels.append(label)\r\n",
        "    return np.array(pair_images), np.array(pair_labels)"
      ],
      "execution_count": null,
      "outputs": []
    },
    {
      "cell_type": "code",
      "metadata": {
        "id": "5NWiH_1kQn3U"
      },
      "source": [
        "def get_data(dataset, count=None, same_label=False, label=None, categories=None):\r\n",
        "    images = dataset.images\r\n",
        "    targets = dataset.target\r\n",
        "    if count is None:\r\n",
        "        return images, targets"
      ],
      "execution_count": null,
      "outputs": []
    },
    {
      "cell_type": "code",
      "metadata": {
        "id": "xfhqmvnQQpDX"
      },
      "source": [
        "def euclidean_distance(self, vectors):\r\n",
        "    (featA, featB) = vectors\r\n",
        "    sum_squared = k.sum(k.square(featA - featB), axis=1, keepdims=True)\r\n",
        "    return k.sqrt(k.maximum(sum_squared, k.epsilon()))"
      ],
      "execution_count": null,
      "outputs": []
    },
    {
      "cell_type": "code",
      "metadata": {
        "id": "cshawJ6XQzaL"
      },
      "source": [
        "ol_faces = datasets.fetch_olivetti_faces()\r\n",
        "ol_images, ol_targets = get_data(dataset=ol_faces)\r\n",
        "images_dataset = ol_images\r\n",
        "labels_dataset = ol_targets"
      ],
      "execution_count": null,
      "outputs": []
    },
    {
      "cell_type": "code",
      "metadata": {
        "id": "IYv2-Nr_Q4AH"
      },
      "source": [
        "image = cv2.imread(\"C:\\\\Users\\\\girij\\\\PycharmProjects\\\\other \"\r\n",
        "                   \"resources\\\\Article\\\\Fifteenth\\\\dataset\\\\img\\\\img\\\\my-mg.png\")\r\n",
        "test_image = cv2.imread(\"C:\\\\Users\\\\girij\\\\PycharmProjects\\\\other \"\r\n",
        "                        \"resources\\\\Article\\\\Fifteenth\\\\dataset\\\\img\\\\img\\\\image1_20210118100646.png\")\r\n",
        "\r\n",
        "gray_img = cv2.cvtColor(image, cv2.COLOR_BGR2GRAY)\r\n",
        "gray_img = gray_img / 255\r\n",
        "\r\n",
        "gray_test_img = cv2.cvtColor(test_image, cv2.COLOR_BGR2GRAY)\r\n",
        "gray_test_img = gray_test_img / 255"
      ],
      "execution_count": null,
      "outputs": []
    },
    {
      "cell_type": "code",
      "metadata": {
        "id": "PxbLaDPmQ_Wo"
      },
      "source": [
        "iiii = np.append(images_dataset, [gray_img], axis=0)\r\n",
        "llll = np.append(labels_dataset, [40], axis=0)"
      ],
      "execution_count": null,
      "outputs": []
    },
    {
      "cell_type": "code",
      "metadata": {
        "id": "3-nU_WGeRA8U"
      },
      "source": [
        "test_image_pairs, test_label_pairs = generate_test_image_pairs(iiii, llll, gray_test_img)"
      ],
      "execution_count": null,
      "outputs": []
    },
    {
      "cell_type": "code",
      "metadata": {
        "id": "cv0pjfFDRCa9"
      },
      "source": [
        "model = load_model(\"C:\\\\Users\\\\girij\\\\PycharmProjects\\\\other resources\\\\Article\\\\Fifteenth\\\\model\",\r\n",
        "                   custom_objects={\"euclidean_distance\": euclidean_distance})"
      ],
      "execution_count": null,
      "outputs": []
    },
    {
      "cell_type": "code",
      "metadata": {
        "id": "bIhz7f5xQalH"
      },
      "source": [
        "probs = []\r\n",
        "for index, pair in enumerate(test_image_pairs):\r\n",
        "    pair_image1 = np.expand_dims(pair[0], axis=-1)\r\n",
        "    pair_image1 = np.expand_dims(pair_image1, axis=0)\r\n",
        "    pair_image2 = np.expand_dims(pair[1], axis=-1)\r\n",
        "    pair_image2 = np.expand_dims(pair_image2, axis=0)\r\n",
        "    prediction = model.predict([pair_image1, pair_image2])[0][0]\r\n",
        "    probs.append(prediction)\r\n",
        "    print(prediction)\r\n",
        "    plot_face_predictions(pair, prediction, index)\r\n",
        "print(probs)\r\n"
      ],
      "execution_count": null,
      "outputs": []
    }
  ]
}