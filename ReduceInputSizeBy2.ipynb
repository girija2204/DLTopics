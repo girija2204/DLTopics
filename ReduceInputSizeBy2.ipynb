{
  "nbformat": 4,
  "nbformat_minor": 0,
  "metadata": {
    "colab": {
      "name": "ReduceInputSizeBy2.ipynb",
      "provenance": [],
      "authorship_tag": "ABX9TyNJ8aL9jpOxR3TNKxhODA1l",
      "include_colab_link": true
    },
    "kernelspec": {
      "name": "python3",
      "display_name": "Python 3"
    }
  },
  "cells": [
    {
      "cell_type": "markdown",
      "metadata": {
        "id": "view-in-github",
        "colab_type": "text"
      },
      "source": [
        "<a href=\"https://colab.research.google.com/github/girija2204/DLTopics/blob/master/ReduceInputSizeBy2.ipynb\" target=\"_parent\"><img src=\"https://colab.research.google.com/assets/colab-badge.svg\" alt=\"Open In Colab\"/></a>"
      ]
    },
    {
      "cell_type": "code",
      "metadata": {
        "id": "W8OJfre_MzrS"
      },
      "source": [
        "from tensorflow.keras.layers import Conv2D, Input, BatchNormalization, ZeroPadding2D\r\n",
        "from tensorflow.keras import Model"
      ],
      "execution_count": 1,
      "outputs": []
    },
    {
      "cell_type": "code",
      "metadata": {
        "id": "6OMQ8nwRM9kp"
      },
      "source": [
        "# Below find the code to reduce the input size to its half using 3 difference ways"
      ],
      "execution_count": 2,
      "outputs": []
    },
    {
      "cell_type": "code",
      "metadata": {
        "colab": {
          "base_uri": "https://localhost:8080/"
        },
        "id": "iH038xouM4yV",
        "outputId": "baca24cb-e8bd-47ea-efb1-9b4dd6be2277"
      },
      "source": [
        "# 1. Reduce the size of the original input by half, by using a stride of 2 in conv layer with same padding\r\n",
        "\r\n",
        "input = Input((416,416,3))\r\n",
        "output = Conv2D(filters=32,kernel_size=(3,3),strides=(2,2),use_bias=False,padding=\"same\")(input)\r\n",
        "model = Model(inputs=input,outputs=output)\r\n",
        "model.summary()"
      ],
      "execution_count": 3,
      "outputs": [
        {
          "output_type": "stream",
          "text": [
            "Model: \"model\"\n",
            "_________________________________________________________________\n",
            "Layer (type)                 Output Shape              Param #   \n",
            "=================================================================\n",
            "input_1 (InputLayer)         [(None, 416, 416, 3)]     0         \n",
            "_________________________________________________________________\n",
            "conv2d (Conv2D)              (None, 208, 208, 32)      864       \n",
            "=================================================================\n",
            "Total params: 864\n",
            "Trainable params: 864\n",
            "Non-trainable params: 0\n",
            "_________________________________________________________________\n"
          ],
          "name": "stdout"
        }
      ]
    },
    {
      "cell_type": "code",
      "metadata": {
        "colab": {
          "base_uri": "https://localhost:8080/"
        },
        "id": "Wytl7tIWM57R",
        "outputId": "827ceaa1-5259-4785-c526-432c0959542c"
      },
      "source": [
        "# 2. Reduce the size of the original input by half, by using a maxpool\r\n",
        "\r\n",
        "from tensorflow.keras.layers import MaxPool2D\r\n",
        "\r\n",
        "input = Input((416,416,3))\r\n",
        "output = Conv2D(filters=32,kernel_size=(3,3),strides=(1,1),padding=\"same\",use_bias=False)(input)\r\n",
        "output = MaxPool2D(pool_size=(2,2))(output)\r\n",
        "model = Model(inputs=input,outputs=output)\r\n",
        "model.summary()"
      ],
      "execution_count": 4,
      "outputs": [
        {
          "output_type": "stream",
          "text": [
            "Model: \"model_1\"\n",
            "_________________________________________________________________\n",
            "Layer (type)                 Output Shape              Param #   \n",
            "=================================================================\n",
            "input_2 (InputLayer)         [(None, 416, 416, 3)]     0         \n",
            "_________________________________________________________________\n",
            "conv2d_1 (Conv2D)            (None, 416, 416, 32)      864       \n",
            "_________________________________________________________________\n",
            "max_pooling2d (MaxPooling2D) (None, 208, 208, 32)      0         \n",
            "=================================================================\n",
            "Total params: 864\n",
            "Trainable params: 864\n",
            "Non-trainable params: 0\n",
            "_________________________________________________________________\n"
          ],
          "name": "stdout"
        }
      ]
    },
    {
      "cell_type": "code",
      "metadata": {
        "colab": {
          "base_uri": "https://localhost:8080/"
        },
        "id": "CtAbU0mAM7Lm",
        "outputId": "3299d062-f1e4-4c57-a877-e60990a3bfad"
      },
      "source": [
        "# Reduce the size of the original input by half, by using stride of 2 in conv layer with padding valid (add a zero padding layer to the input manually)\r\n",
        "\r\n",
        "input = Input((416,416,3))\r\n",
        "output = ZeroPadding2D(((1,0),(1,0)))(input)\r\n",
        "output = Conv2D(filters=32,use_bias=False,kernel_size=(3,3),padding=\"valid\",strides=(2,2))(output)\r\n",
        "model = Model(inputs=input,outputs=output)\r\n",
        "model.summary()"
      ],
      "execution_count": 5,
      "outputs": [
        {
          "output_type": "stream",
          "text": [
            "Model: \"model_2\"\n",
            "_________________________________________________________________\n",
            "Layer (type)                 Output Shape              Param #   \n",
            "=================================================================\n",
            "input_3 (InputLayer)         [(None, 416, 416, 3)]     0         \n",
            "_________________________________________________________________\n",
            "zero_padding2d (ZeroPadding2 (None, 417, 417, 3)       0         \n",
            "_________________________________________________________________\n",
            "conv2d_2 (Conv2D)            (None, 208, 208, 32)      864       \n",
            "=================================================================\n",
            "Total params: 864\n",
            "Trainable params: 864\n",
            "Non-trainable params: 0\n",
            "_________________________________________________________________\n"
          ],
          "name": "stdout"
        }
      ]
    }
  ]
}