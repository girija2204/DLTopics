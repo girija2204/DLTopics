{
  "nbformat": 4,
  "nbformat_minor": 0,
  "metadata": {
    "colab": {
      "name": "Untitled5.ipynb",
      "provenance": [],
      "collapsed_sections": [],
      "authorship_tag": "ABX9TyNaAI2yaBEqACOwrDLs0dL8",
      "include_colab_link": true
    },
    "kernelspec": {
      "name": "python3",
      "display_name": "Python 3"
    }
  },
  "cells": [
    {
      "cell_type": "markdown",
      "metadata": {
        "id": "view-in-github",
        "colab_type": "text"
      },
      "source": [
        "<a href=\"https://colab.research.google.com/github/girija2204/DLTopics/blob/master/greener_delhi.ipynb\" target=\"_parent\"><img src=\"https://colab.research.google.com/assets/colab-badge.svg\" alt=\"Open In Colab\"/></a>"
      ]
    },
    {
      "cell_type": "code",
      "metadata": {
        "id": "jhwOmSTFfYmK",
        "colab_type": "code",
        "colab": {}
      },
      "source": [
        "!pip install arcgis"
      ],
      "execution_count": null,
      "outputs": []
    },
    {
      "cell_type": "code",
      "metadata": {
        "id": "_1_Rh_6IhJGk",
        "colab_type": "code",
        "colab": {}
      },
      "source": [
        "%matplotlib inline\n",
        "\n",
        "import pandas as pd\n",
        "from datetime import datetime\n",
        "from IPython.display import Image\n",
        "import matplotlib.pyplot as plt\n",
        "\n",
        "import arcgis\n",
        "from arcgis.gis import GIS\n",
        "from arcgis.raster.functions import apply, clip, remap, colormap\n",
        "from arcgis.geocoding import geocode"
      ],
      "execution_count": null,
      "outputs": []
    },
    {
      "cell_type": "code",
      "metadata": {
        "id": "qGWCpX1gfh4R",
        "colab_type": "code",
        "colab": {}
      },
      "source": [
        "gis = GIS(\"https://www.arcgis.com\", \"girija2204\", \"Girija2204@\")"
      ],
      "execution_count": null,
      "outputs": []
    },
    {
      "cell_type": "code",
      "metadata": {
        "id": "NqyTQX_Zt6jY",
        "colab_type": "code",
        "colab": {}
      },
      "source": [
        "gis = GIS()"
      ],
      "execution_count": null,
      "outputs": []
    },
    {
      "cell_type": "code",
      "metadata": {
        "id": "jngMII3qh2QW",
        "colab_type": "code",
        "colab": {
          "base_uri": "https://localhost:8080/",
          "height": 34
        },
        "outputId": "961cdc6e-faac-4f68-fcd2-d98a70107e8f"
      },
      "source": [
        "landsat_data = gis.content.get(\"d9b466d6a9e647ce8d1dd5fe12eb434b\")\n",
        "landsat_data.layers"
      ],
      "execution_count": null,
      "outputs": [
        {
          "output_type": "execute_result",
          "data": {
            "text/plain": [
              "[<ImageryLayer url:\"https://landsat2.arcgis.com/arcgis/rest/services/Landsat/MS/ImageServer\">]"
            ]
          },
          "metadata": {
            "tags": []
          },
          "execution_count": 5
        }
      ]
    },
    {
      "cell_type": "code",
      "metadata": {
        "id": "sPbdhSzwuszV",
        "colab_type": "code",
        "colab": {
          "base_uri": "https://localhost:8080/",
          "height": 176
        },
        "outputId": "9bbff4d5-e221-49a9-f565-851a05496990"
      },
      "source": [
        "landsat_data"
      ],
      "execution_count": null,
      "outputs": [
        {
          "output_type": "execute_result",
          "data": {
            "text/html": [
              "<div class=\"item_container\" style=\"height: auto; overflow: hidden; border: 1px solid #cfcfcf; border-radius: 2px; background: #f6fafa; line-height: 1.21429em; padding: 10px;\">\n",
              "                    <div class=\"item_left\" style=\"width: 210px; float: left;\">\n",
              "                       <a href='https://www.arcgis.com/home/item.html?id=d9b466d6a9e647ce8d1dd5fe12eb434b' target='_blank'>\n",
              "                        <img src='https://www.arcgis.com/sharing/rest//content/items/d9b466d6a9e647ce8d1dd5fe12eb434b/info/thumbnail/thumbnail1576632714962.jpeg' class=\"itemThumbnail\">\n",
              "                       </a>\n",
              "                    </div>\n",
              "\n",
              "                    <div class=\"item_right\"     style=\"float: none; width: auto; overflow: hidden;\">\n",
              "                        <a href='https://www.arcgis.com/home/item.html?id=d9b466d6a9e647ce8d1dd5fe12eb434b' target='_blank'><b>Multispectral Landsat</b>\n",
              "                        </a>\n",
              "                        <br/>Landsat multispectral and multitemporal imagery with on-the-fly renderings and indices for visualization and analysis.  The Landsat 8 imagery in this layer is updated daily and is directly sourced from the Landsat on AWS collection.<img src='https://www.arcgis.com/home/js/jsapi/esri/css/images/item_type_icons/imagery16.png' style=\"vertical-align:middle;\">Imagery Layer by esri\n",
              "                        <br/>Last Modified: December 19, 2019\n",
              "                        <br/>0 comments, 305,682 views\n",
              "                    </div>\n",
              "                </div>\n",
              "                "
            ],
            "text/plain": [
              "<Item title:\"Multispectral Landsat\" type:Imagery Layer owner:esri>"
            ]
          },
          "metadata": {
            "tags": []
          },
          "execution_count": 10
        }
      ]
    },
    {
      "cell_type": "code",
      "metadata": {
        "id": "0K1NlB5bt-gN",
        "colab_type": "code",
        "colab": {
          "base_uri": "https://localhost:8080/",
          "height": 35
        },
        "outputId": "ad7372cb-7b72-4bde-a72c-f99efeba20f5"
      },
      "source": [
        "landsat_data.type"
      ],
      "execution_count": null,
      "outputs": [
        {
          "output_type": "execute_result",
          "data": {
            "application/vnd.google.colaboratory.intrinsic+json": {
              "type": "string"
            },
            "text/plain": [
              "'Image Service'"
            ]
          },
          "metadata": {
            "tags": []
          },
          "execution_count": 9
        }
      ]
    },
    {
      "cell_type": "code",
      "metadata": {
        "id": "4Ya8al8om-sl",
        "colab_type": "code",
        "colab": {}
      },
      "source": [
        "landsat_data.layers[0]"
      ],
      "execution_count": null,
      "outputs": []
    },
    {
      "cell_type": "code",
      "metadata": {
        "id": "Jb5TUJeLnHvL",
        "colab_type": "code",
        "colab": {}
      },
      "source": [
        "for property in landsat_data.layers[0].properties:\n",
        "  print(property)"
      ],
      "execution_count": null,
      "outputs": []
    },
    {
      "cell_type": "code",
      "metadata": {
        "id": "mD0SJdP9phZN",
        "colab_type": "code",
        "colab": {}
      },
      "source": [
        "llayer = landsat_data.layers[0]\n",
        "# print(llayer.properties['rasterFunctionInfos'][0].get('name'))\n",
        "for rasterFunction in llayer.properties['rasterFunctionInfos']:\n",
        "  print(rasterFunction.get('name'))"
      ],
      "execution_count": null,
      "outputs": []
    },
    {
      "cell_type": "code",
      "metadata": {
        "id": "NQvng-WSqnTV",
        "colab_type": "code",
        "colab": {}
      },
      "source": [
        "apply(llayer,'Natural Color with DRA')"
      ],
      "execution_count": null,
      "outputs": []
    },
    {
      "cell_type": "code",
      "metadata": {
        "id": "Pl-aRXIprdYh",
        "colab_type": "code",
        "colab": {}
      },
      "source": [
        "apply(llayer, 'NDVI Colorized')"
      ],
      "execution_count": null,
      "outputs": []
    },
    {
      "cell_type": "code",
      "metadata": {
        "id": "CdRVcj9nwXq_",
        "colab_type": "code",
        "colab": {}
      },
      "source": [
        "boundaries = gis.content.get(\"3013e4533dc64a848159cafe7bc2de84\")"
      ],
      "execution_count": null,
      "outputs": []
    },
    {
      "cell_type": "code",
      "metadata": {
        "id": "VrJ01KbhtShS",
        "colab_type": "code",
        "colab": {}
      },
      "source": [
        "boundaries.url"
      ],
      "execution_count": null,
      "outputs": []
    },
    {
      "cell_type": "code",
      "metadata": {
        "id": "ZBVUz6Rdt5VK",
        "colab_type": "code",
        "colab": {}
      },
      "source": [
        "delhi_geocode = geocode(\"New Delhi, India\", out_sr=llayer.properties.spatialReference)\n",
        "len(delhi_geocode)\n",
        "area = delhi_geocode[0]\n",
        "area['extent']\n",
        "# llayer.extent = area['extent']\n",
        "# llayer"
      ],
      "execution_count": null,
      "outputs": []
    },
    {
      "cell_type": "code",
      "metadata": {
        "id": "W1Xn3j2xvmQf",
        "colab_type": "code",
        "colab": {}
      },
      "source": [
        "state_boundaries = boundaries.layers[1]\n",
        "delhi = state_boundaries.query(where=\"NAME='NCT of Delhi'\")\n",
        "delhi_geom = delhi.features[0].geometry\n",
        "delhi_geom['spatialReference'] = {'wkid':4326}\n",
        "# delhi_geom = delhi.features[0].geometry\n",
        "# delhi_geom['spatialReference'] = {'wkid':4326}\n",
        "# delhi.features[0].extent = area['extent']"
      ],
      "execution_count": null,
      "outputs": []
    },
    {
      "cell_type": "code",
      "metadata": {
        "id": "ZZovZsvcqm_H",
        "colab_type": "code",
        "colab": {}
      },
      "source": [
        "selected = llayer.filter_by(where=\"(Category=1) AND (CloudCover <= 0.05)\",\n",
        "                 time=[datetime(2015, 1, 1),datetime(2017, 12, 31)],\n",
        "                 geometry=arcgis.geometry.filters.intersects(area['extent']))\n",
        "df = selected.query(out_fields=\"AcquisitionDate, GroupName, CloudCover, DayOfYear\", \n",
        "                    order_by_fields=\"AcquisitionDate\").sdf\n",
        "df['AcquisitionDate'] = pd.to_datetime(df['AcquisitionDate'], unit='ms')\n",
        "df"
      ],
      "execution_count": null,
      "outputs": []
    },
    {
      "cell_type": "code",
      "metadata": {
        "id": "ymhV2CZ_ysfA",
        "colab_type": "code",
        "colab": {}
      },
      "source": [
        "delhi_image = llayer.filter_by(\"OBJECTID=2752790\") # 2017-10-15"
      ],
      "execution_count": null,
      "outputs": []
    },
    {
      "cell_type": "code",
      "metadata": {
        "id": "a6kme0_yxWTI",
        "colab_type": "code",
        "colab": {}
      },
      "source": [
        "def apply_transformations(dated_layer):\n",
        "  dated_layer_ndviraw = apply(dated_layer,\"NDVI Raw\")\n",
        "  dated_layer_clipped = clip(dated_layer_ndviraw, delhi_geom)\n",
        "  dated_layer_clipped.extent = area['extent']\n",
        "  dated_layer_clipped_remapped = remap(dated_layer_clipped,\n",
        "      input_ranges=[0.4,0.5, 0.5, 1],\n",
        "      output_values=[1, 2])\n",
        "  dated_layer_clipped_colormapped = colormap(dated_layer_clipped_remapped,colormap=[[1, 124, 252, 0], [2, 0, 102, 0]], astype='u8')\n",
        "  return dated_layer_clipped_colormapped"
      ],
      "execution_count": null,
      "outputs": []
    },
    {
      "cell_type": "code",
      "metadata": {
        "id": "s1rhu-2vwIeA",
        "colab_type": "code",
        "colab": {}
      },
      "source": [
        "delhi_image_2927742 = llayer.filter_by(\"OBJECTID=2927742\") # 2015-03-23\n",
        "delhi_image_2678985 = llayer.filter_by(\"OBJECTID=2678985\") # 2015-08-30\n",
        "delhi_image_2752790 = llayer.filter_by(\"OBJECTID=2752790\") # 2016-03-09\n",
        "delhi_image_2945298 = llayer.filter_by(\"OBJECTID=2945298\") # 2016-10-19\n",
        "delhi_image_2974179 = llayer.filter_by(\"OBJECTID=2974179\") # 2017-03-05\n",
        "delhi_image_2095534 = llayer.filter_by(\"OBJECTID=2095534\") # 2017-10-31"
      ],
      "execution_count": null,
      "outputs": []
    },
    {
      "cell_type": "code",
      "metadata": {
        "id": "cV4LFVfRx6tg",
        "colab_type": "code",
        "colab": {}
      },
      "source": [
        "cm_delhi_image_2927742 = apply_transformations(delhi_image_2927742)\n",
        "cm_delhi_image_2678985 = apply_transformations(delhi_image_2678985)\n",
        "cm_delhi_image_2752790 = apply_transformations(delhi_image_2752790)\n",
        "cm_delhi_image_2945298 = apply_transformations(delhi_image_2945298)\n",
        "cm_delhi_image_2974179 = apply_transformations(delhi_image_2974179)\n",
        "cm_delhi_image_2095534 = apply_transformations(delhi_image_2095534)"
      ],
      "execution_count": null,
      "outputs": []
    },
    {
      "cell_type": "code",
      "metadata": {
        "id": "Wt-FNcDC27tO",
        "colab_type": "code",
        "colab": {}
      },
      "source": [
        "delhi_ndviraw = apply(delhi_image,\"NDVI Raw\")\n",
        "delhi_clip = clip(delhi_ndviraw, delhi_geom)\n",
        "delhi_clip.extent = area['extent']\n",
        "# delhi_clip"
      ],
      "execution_count": null,
      "outputs": []
    },
    {
      "cell_type": "code",
      "metadata": {
        "id": "mbAsjjzrs4gt",
        "colab_type": "code",
        "colab": {}
      },
      "source": [
        "delhi_clip_remapped = remap(delhi_clip,\n",
        "      input_ranges=[0.4,0.5, 0.5, 1],\n",
        "      output_values=[1, 2])\n",
        "delhi_clip_colormapped = colormap(delhi_clip_remapped,colormap=[[1, 124, 252, 0], [2, 0, 102, 0]], astype='u8')\n",
        "delhi_clip_colormapped"
      ],
      "execution_count": null,
      "outputs": []
    },
    {
      "cell_type": "code",
      "metadata": {
        "id": "NuVFGhVa49Eb",
        "colab_type": "code",
        "colab": {}
      },
      "source": [
        "# delhi_clip_colormapped.draw_graph()"
      ],
      "execution_count": null,
      "outputs": []
    },
    {
      "cell_type": "code",
      "metadata": {
        "id": "M-TDp9Cc5EcN",
        "colab_type": "code",
        "colab": {}
      },
      "source": [
        "map2 = gis.map('New Delhi, India')\n",
        "map2.add_layer(delhi_clip_colormapped)\n",
        "map2.legend = True\n",
        "map2.export_to_html('gifg.html')"
      ],
      "execution_count": null,
      "outputs": []
    },
    {
      "cell_type": "code",
      "metadata": {
        "id": "FYybYwyTyntW",
        "colab_type": "code",
        "colab": {}
      },
      "source": [
        "def layer_export_to_html(layer,name):\n",
        "  map = gis.map('New Delhi, India')\n",
        "  map.add_layer(layer)\n",
        "  map.legend = True\n",
        "  map.export_to_html(f'{name}.html')"
      ],
      "execution_count": null,
      "outputs": []
    },
    {
      "cell_type": "code",
      "metadata": {
        "id": "xm44s5qnzCyq",
        "colab_type": "code",
        "colab": {}
      },
      "source": [
        "layer_export_to_html(cm_delhi_image_2927742,'cm_delhi_image_2927742')\n",
        "layer_export_to_html(cm_delhi_image_2678985,'cm_delhi_image_2678985')\n",
        "layer_export_to_html(cm_delhi_image_2752790,'cm_delhi_image_2752790')\n",
        "layer_export_to_html(cm_delhi_image_2945298,'cm_delhi_image_2945298')\n",
        "layer_export_to_html(cm_delhi_image_2974179,'cm_delhi_image_2974179')\n",
        "layer_export_to_html(cm_delhi_image_2095534,'cm_delhi_image_2095534')"
      ],
      "execution_count": null,
      "outputs": []
    },
    {
      "cell_type": "code",
      "metadata": {
        "id": "kLrV7u2x7f-z",
        "colab_type": "code",
        "colab": {}
      },
      "source": [
        "landsat_data.layers[0].properties"
      ],
      "execution_count": null,
      "outputs": []
    },
    {
      "cell_type": "code",
      "metadata": {
        "id": "mzBHKcoG7eOL",
        "colab_type": "code",
        "colab": {}
      },
      "source": [
        "gis.content.search(\"title: ScientificData/SeaTemperature\", \"Imagery Layer\", outside_org=True)"
      ],
      "execution_count": null,
      "outputs": []
    }
  ]
}