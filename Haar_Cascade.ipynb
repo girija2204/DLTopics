{
  "nbformat": 4,
  "nbformat_minor": 0,
  "metadata": {
    "colab": {
      "name": "Haar Cascade.ipynb",
      "provenance": [],
      "authorship_tag": "ABX9TyN37CQe/haCee9Si42HhEWd",
      "include_colab_link": true
    },
    "kernelspec": {
      "name": "python3",
      "display_name": "Python 3"
    }
  },
  "cells": [
    {
      "cell_type": "markdown",
      "metadata": {
        "id": "view-in-github",
        "colab_type": "text"
      },
      "source": [
        "<a href=\"https://colab.research.google.com/github/girija2204/DLTopics/blob/master/Haar_Cascade.ipynb\" target=\"_parent\"><img src=\"https://colab.research.google.com/assets/colab-badge.svg\" alt=\"Open In Colab\"/></a>"
      ]
    },
    {
      "cell_type": "code",
      "metadata": {
        "id": "OnQJkpLhG94X"
      },
      "source": [
        "import cv2\r\n",
        "import os\r\n",
        "import numpy as np\r\n",
        "import datetime"
      ],
      "execution_count": null,
      "outputs": []
    },
    {
      "cell_type": "code",
      "metadata": {
        "id": "WiyVBENLHGB-"
      },
      "source": [
        "trained_face_data = cv2.CascadeClassifier(cv2.data.haarcascades + 'haarcascade_frontalface_default.xml')\r\n",
        "trained_eye_data = cv2.CascadeClassifier(cv2.data.haarcascades + 'haarcascade_eye.xml')"
      ],
      "execution_count": null,
      "outputs": []
    },
    {
      "cell_type": "code",
      "metadata": {
        "id": "FkKyVK4EHIta"
      },
      "source": [
        "def cut_face_from_image(img, coordinates):\r\n",
        "    img_gray = cv2.cvtColor(img, cv2.COLOR_BGR2GRAY)\r\n",
        "    img_gray = cv2.equalizeHist(img_gray)\r\n",
        "    img_gray = img_gray / 255\r\n",
        "    (x, y, w, h) = coordinates\r\n",
        "    w_rm = int(0.2 * w / 2)\r\n",
        "    img_rec = img_gray[y:y + h, x + w_rm:x + w - w_rm]\r\n",
        "    cut_face = resize(img_rec)\r\n",
        "    return cut_face"
      ],
      "execution_count": null,
      "outputs": []
    },
    {
      "cell_type": "code",
      "metadata": {
        "id": "CLW1qE1rHKMX"
      },
      "source": [
        "def resize(img, size=(64, 64),\r\n",
        "           size_percent=None):\r\n",
        "    if size_percent is not None:\r\n",
        "        return cv2.resize(img, (0, 0), None, size_percent, size_percent)\r\n",
        "    if img.shape < size:\r\n",
        "        return cv2.resize(img, size, interpolation=cv2.INTER_AREA)\r\n",
        "    else:\r\n",
        "        return cv2.resize(img, size, interpolation=cv2.INTER_CUBIC)"
      ],
      "execution_count": null,
      "outputs": []
    },
    {
      "cell_type": "code",
      "metadata": {
        "id": "FKcv1pyEHLST"
      },
      "source": [
        "def increase_brightness(img, value=30):\r\n",
        "    hsv = cv2.cvtColor(img, cv2.COLOR_BGR2HSV)\r\n",
        "    h, s, v = cv2.split(hsv)\r\n",
        "\r\n",
        "    lim = 255 - value\r\n",
        "    v[v > lim] = 255\r\n",
        "    v[v <= lim] += value\r\n",
        "\r\n",
        "    final_hsv = cv2.merge((h, s, v))\r\n",
        "    img = cv2.cvtColor(final_hsv, cv2.COLOR_HSV2BGR)\r\n",
        "    return img"
      ],
      "execution_count": null,
      "outputs": []
    },
    {
      "cell_type": "code",
      "metadata": {
        "id": "PVDuwXmHHMkF"
      },
      "source": [
        "def adjust_gamma(image, gamma=1.2):\r\n",
        "    # build a lookup table mapping the pixel values [0, 255] to\r\n",
        "    # their adjusted gamma values\r\n",
        "    invGamma = 1.0 / gamma\r\n",
        "    table = np.array([((i / 255.0) ** invGamma) * 255\r\n",
        "                      for i in np.arange(0, 256)]).astype(\"uint8\")\r\n",
        "\r\n",
        "    # apply gamma correction using the lookup table\r\n",
        "    return cv2.LUT(image, table)"
      ],
      "execution_count": null,
      "outputs": []
    },
    {
      "cell_type": "code",
      "metadata": {
        "id": "qTUyI-sNHPOX"
      },
      "source": [
        "def alpha_adjust(image):\r\n",
        "    alpha = 1.0  # Contrast control (1.0-3.0)\r\n",
        "    beta = 0  # Brightness control (0-100)\r\n",
        "\r\n",
        "    return cv2.convertScaleAbs(image, alpha=alpha, beta=beta)"
      ],
      "execution_count": null,
      "outputs": []
    },
    {
      "cell_type": "code",
      "metadata": {
        "id": "cOtT4piOHSyH"
      },
      "source": [
        "def detect_faces(image):\r\n",
        "    img = increase_brightness(image)\r\n",
        "    gamma_corrected = adjust_gamma(img)\r\n",
        "    alpha_corrected = alpha_adjust(gamma_corrected)\r\n",
        "    gray_img = cv2.cvtColor(alpha_corrected, cv2.COLOR_BGR2GRAY)\r\n",
        "    face_coordinates = trained_face_data.detectMultiScale(gray_img)\r\n",
        "\r\n",
        "    for coordinate in face_coordinates:\r\n",
        "        (x, y, w, h) = coordinate\r\n",
        "        cut_face = cut_face_from_image(alpha_corrected, coordinate)\r\n",
        "        face = gray_img[y:y + h, x:x + w]\r\n",
        "        # eye_coordinates = trained_eye_data.detectMultiScale(face)\r\n",
        "        colors = np.random.randint(1, 255, 3)\r\n",
        "\r\n",
        "        # cv2.rectangle(image, (x, y), (x + w, y + h), (int(colors[0]), int(colors[1]), int(colors[2])), thickness=2)\r\n",
        "        # for (x2, y2, w2, h2) in eye_coordinates:\r\n",
        "        #     eye_center = (x + x2 + w2 // 2, y + y2 + h2 // 2)\r\n",
        "        #     eye_radius = int(round((w2 + h2) * 0.25))\r\n",
        "        #     cv2.circle(image, center=eye_center, radius=eye_radius,\r\n",
        "        #                color=(255,0,0))\r\n",
        "        norm_image = cv2.normalize(cut_face, None, alpha=0, beta=255, norm_type=cv2.NORM_MINMAX, dtype=cv2.CV_32F)\r\n",
        "\r\n",
        "        norm_image = norm_image.astype(np.uint8)\r\n",
        "        # norm_image = np.rint((cut_face + 1) * 255 / 2)\r\n",
        "        cv2.imshow('cutted_face', norm_image)\r\n",
        "        cv2.waitKey(0)\r\n",
        "        print(\r\n",
        "            f\"C:\\\\Users\\\\girij\\\\PycharmProjects\\\\other resources\\\\Article\\\\Fifteenth\\\\dataset\\\\img\\\\img\\\\image1_{datetime.datetime.now().strftime('%Y%m%d%H%M%S')}.png\")\r\n",
        "        cv2.imwrite(\r\n",
        "            f\"C:\\\\Users\\\\girij\\\\PycharmProjects\\\\other resources\\\\Article\\\\Fifteenth\\\\dataset\\\\img\\\\img\\\\image1_{datetime.datetime.now().strftime('%Y%m%d%H%M%S')}.png\",\r\n",
        "            norm_image)\r\n",
        "        # cv2.imshow('Image', cut_face)\r\n",
        "\r\n",
        "    # cv2.waitKey(0)"
      ],
      "execution_count": null,
      "outputs": []
    },
    {
      "cell_type": "code",
      "metadata": {
        "id": "IzwyLogCHU-9"
      },
      "source": [
        "image_path = \"C:\\\\Users\\\\girij\\\\PycharmProjects\\\\downloaded_images\\\\images\\\\celebrities\\\\original\\\\\"\r\n",
        "image_path = \"C:\\\\Users\\\\girij\\\\PycharmProjects\\\\other resources\\\\Article\\\\Fifteenth\\\\\"\r\n",
        "image_filename = \"musk sahab.jpg\"\r\n",
        "image_filename = \"copy of original.jpg\"\r\n",
        "webcam = False"
      ],
      "execution_count": null,
      "outputs": []
    },
    {
      "cell_type": "code",
      "metadata": {
        "id": "Z1FB-GyPFYYw"
      },
      "source": [
        "if webcam:\r\n",
        "    webcam = cv2.VideoCapture(0)\r\n",
        "    while True:\r\n",
        "        successful_frame_read, frame = webcam.read()\r\n",
        "        detect_faces(frame)\r\n",
        "        key = cv2.waitKey(1)\r\n",
        "        if key == 81 or key == 113:\r\n",
        "            break\r\n",
        "    webcam.release()\r\n",
        "else:\r\n",
        "    # image_list = os.listdir(image_path)\r\n",
        "    # for image_filename in image_list:\r\n",
        "    img = cv2.imread(image_path + image_filename)\r\n",
        "    height = 224\r\n",
        "    width = img.shape[1] * height / img.shape[0]\r\n",
        "    # img = cv2.resize(img, (int(width), height), None, 0.5, 0.5, interpolation=cv2.INTER_AREA)\r\n",
        "    cv2.imshow('img', img)\r\n",
        "    cv2.waitKey(0)\r\n",
        "    detect_faces(img)\r\n",
        "\r\n",
        "    image = cv2.imread(\r\n",
        "        \"C:\\\\Users\\\\girij\\\\PycharmProjects\\\\other resources\\\\Article\\\\Fifteenth\\\\dataset\\\\img\\\\img\\\\image1_20210117090448.png\")\r\n",
        "    cv2.imshow(\"image\", image)\r\n",
        "    cv2.waitKey(0)\r\n"
      ],
      "execution_count": null,
      "outputs": []
    }
  ]
}